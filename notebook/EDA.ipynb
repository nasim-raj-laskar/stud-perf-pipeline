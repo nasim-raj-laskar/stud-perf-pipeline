{
 "cells": [
  {
   "cell_type": "code",
   "execution_count": 4,
   "id": "fc229a36",
   "metadata": {},
   "outputs": [],
   "source": [
    "import numpy as np\n",
    "import pandas as pd\n",
    "import seaborn as sns\n",
    "import matplotlib.pyplot as plt\n",
    "%matplotlib inline\n",
    "import plotly.express as px \n",
    "import plotly.graph_objects as go\n",
    "import warnings\n",
    "warnings.filterwarnings('ignore')"
   ]
  },
  {
   "cell_type": "code",
   "execution_count": 5,
   "id": "c34ad1fa",
   "metadata": {},
   "outputs": [],
   "source": [
    "df=pd.read_csv('data/stud.csv')"
   ]
  },
  {
   "cell_type": "code",
   "execution_count": 6,
   "id": "254ba193",
   "metadata": {},
   "outputs": [
    {
     "data": {
      "application/vnd.microsoft.datawrangler.viewer.v0+json": {
       "columns": [
        {
         "name": "index",
         "rawType": "int64",
         "type": "integer"
        },
        {
         "name": "gender",
         "rawType": "object",
         "type": "string"
        },
        {
         "name": "race_ethnicity",
         "rawType": "object",
         "type": "string"
        },
        {
         "name": "parental_level_of_education",
         "rawType": "object",
         "type": "string"
        },
        {
         "name": "lunch",
         "rawType": "object",
         "type": "string"
        },
        {
         "name": "test_preparation_course",
         "rawType": "object",
         "type": "string"
        },
        {
         "name": "math_score",
         "rawType": "int64",
         "type": "integer"
        },
        {
         "name": "reading_score",
         "rawType": "int64",
         "type": "integer"
        },
        {
         "name": "writing_score",
         "rawType": "int64",
         "type": "integer"
        }
       ],
       "ref": "eb9d1598-f2ff-4e6b-b7a1-cc648ec6bfd4",
       "rows": [
        [
         "0",
         "female",
         "group B",
         "bachelor's degree",
         "standard",
         "none",
         "72",
         "72",
         "74"
        ],
        [
         "1",
         "female",
         "group C",
         "some college",
         "standard",
         "completed",
         "69",
         "90",
         "88"
        ],
        [
         "2",
         "female",
         "group B",
         "master's degree",
         "standard",
         "none",
         "90",
         "95",
         "93"
        ],
        [
         "3",
         "male",
         "group A",
         "associate's degree",
         "free/reduced",
         "none",
         "47",
         "57",
         "44"
        ],
        [
         "4",
         "male",
         "group C",
         "some college",
         "standard",
         "none",
         "76",
         "78",
         "75"
        ],
        [
         "5",
         "female",
         "group B",
         "associate's degree",
         "standard",
         "none",
         "71",
         "83",
         "78"
        ],
        [
         "6",
         "female",
         "group B",
         "some college",
         "standard",
         "completed",
         "88",
         "95",
         "92"
        ],
        [
         "7",
         "male",
         "group B",
         "some college",
         "free/reduced",
         "none",
         "40",
         "43",
         "39"
        ],
        [
         "8",
         "male",
         "group D",
         "high school",
         "free/reduced",
         "completed",
         "64",
         "64",
         "67"
        ],
        [
         "9",
         "female",
         "group B",
         "high school",
         "free/reduced",
         "none",
         "38",
         "60",
         "50"
        ]
       ],
       "shape": {
        "columns": 8,
        "rows": 10
       }
      },
      "text/html": [
       "<div>\n",
       "<style scoped>\n",
       "    .dataframe tbody tr th:only-of-type {\n",
       "        vertical-align: middle;\n",
       "    }\n",
       "\n",
       "    .dataframe tbody tr th {\n",
       "        vertical-align: top;\n",
       "    }\n",
       "\n",
       "    .dataframe thead th {\n",
       "        text-align: right;\n",
       "    }\n",
       "</style>\n",
       "<table border=\"1\" class=\"dataframe\">\n",
       "  <thead>\n",
       "    <tr style=\"text-align: right;\">\n",
       "      <th></th>\n",
       "      <th>gender</th>\n",
       "      <th>race_ethnicity</th>\n",
       "      <th>parental_level_of_education</th>\n",
       "      <th>lunch</th>\n",
       "      <th>test_preparation_course</th>\n",
       "      <th>math_score</th>\n",
       "      <th>reading_score</th>\n",
       "      <th>writing_score</th>\n",
       "    </tr>\n",
       "  </thead>\n",
       "  <tbody>\n",
       "    <tr>\n",
       "      <th>0</th>\n",
       "      <td>female</td>\n",
       "      <td>group B</td>\n",
       "      <td>bachelor's degree</td>\n",
       "      <td>standard</td>\n",
       "      <td>none</td>\n",
       "      <td>72</td>\n",
       "      <td>72</td>\n",
       "      <td>74</td>\n",
       "    </tr>\n",
       "    <tr>\n",
       "      <th>1</th>\n",
       "      <td>female</td>\n",
       "      <td>group C</td>\n",
       "      <td>some college</td>\n",
       "      <td>standard</td>\n",
       "      <td>completed</td>\n",
       "      <td>69</td>\n",
       "      <td>90</td>\n",
       "      <td>88</td>\n",
       "    </tr>\n",
       "    <tr>\n",
       "      <th>2</th>\n",
       "      <td>female</td>\n",
       "      <td>group B</td>\n",
       "      <td>master's degree</td>\n",
       "      <td>standard</td>\n",
       "      <td>none</td>\n",
       "      <td>90</td>\n",
       "      <td>95</td>\n",
       "      <td>93</td>\n",
       "    </tr>\n",
       "    <tr>\n",
       "      <th>3</th>\n",
       "      <td>male</td>\n",
       "      <td>group A</td>\n",
       "      <td>associate's degree</td>\n",
       "      <td>free/reduced</td>\n",
       "      <td>none</td>\n",
       "      <td>47</td>\n",
       "      <td>57</td>\n",
       "      <td>44</td>\n",
       "    </tr>\n",
       "    <tr>\n",
       "      <th>4</th>\n",
       "      <td>male</td>\n",
       "      <td>group C</td>\n",
       "      <td>some college</td>\n",
       "      <td>standard</td>\n",
       "      <td>none</td>\n",
       "      <td>76</td>\n",
       "      <td>78</td>\n",
       "      <td>75</td>\n",
       "    </tr>\n",
       "    <tr>\n",
       "      <th>5</th>\n",
       "      <td>female</td>\n",
       "      <td>group B</td>\n",
       "      <td>associate's degree</td>\n",
       "      <td>standard</td>\n",
       "      <td>none</td>\n",
       "      <td>71</td>\n",
       "      <td>83</td>\n",
       "      <td>78</td>\n",
       "    </tr>\n",
       "    <tr>\n",
       "      <th>6</th>\n",
       "      <td>female</td>\n",
       "      <td>group B</td>\n",
       "      <td>some college</td>\n",
       "      <td>standard</td>\n",
       "      <td>completed</td>\n",
       "      <td>88</td>\n",
       "      <td>95</td>\n",
       "      <td>92</td>\n",
       "    </tr>\n",
       "    <tr>\n",
       "      <th>7</th>\n",
       "      <td>male</td>\n",
       "      <td>group B</td>\n",
       "      <td>some college</td>\n",
       "      <td>free/reduced</td>\n",
       "      <td>none</td>\n",
       "      <td>40</td>\n",
       "      <td>43</td>\n",
       "      <td>39</td>\n",
       "    </tr>\n",
       "    <tr>\n",
       "      <th>8</th>\n",
       "      <td>male</td>\n",
       "      <td>group D</td>\n",
       "      <td>high school</td>\n",
       "      <td>free/reduced</td>\n",
       "      <td>completed</td>\n",
       "      <td>64</td>\n",
       "      <td>64</td>\n",
       "      <td>67</td>\n",
       "    </tr>\n",
       "    <tr>\n",
       "      <th>9</th>\n",
       "      <td>female</td>\n",
       "      <td>group B</td>\n",
       "      <td>high school</td>\n",
       "      <td>free/reduced</td>\n",
       "      <td>none</td>\n",
       "      <td>38</td>\n",
       "      <td>60</td>\n",
       "      <td>50</td>\n",
       "    </tr>\n",
       "  </tbody>\n",
       "</table>\n",
       "</div>"
      ],
      "text/plain": [
       "   gender race_ethnicity parental_level_of_education         lunch  \\\n",
       "0  female        group B           bachelor's degree      standard   \n",
       "1  female        group C                some college      standard   \n",
       "2  female        group B             master's degree      standard   \n",
       "3    male        group A          associate's degree  free/reduced   \n",
       "4    male        group C                some college      standard   \n",
       "5  female        group B          associate's degree      standard   \n",
       "6  female        group B                some college      standard   \n",
       "7    male        group B                some college  free/reduced   \n",
       "8    male        group D                 high school  free/reduced   \n",
       "9  female        group B                 high school  free/reduced   \n",
       "\n",
       "  test_preparation_course  math_score  reading_score  writing_score  \n",
       "0                    none          72             72             74  \n",
       "1               completed          69             90             88  \n",
       "2                    none          90             95             93  \n",
       "3                    none          47             57             44  \n",
       "4                    none          76             78             75  \n",
       "5                    none          71             83             78  \n",
       "6               completed          88             95             92  \n",
       "7                    none          40             43             39  \n",
       "8               completed          64             64             67  \n",
       "9                    none          38             60             50  "
      ]
     },
     "execution_count": 6,
     "metadata": {},
     "output_type": "execute_result"
    }
   ],
   "source": [
    "df.head(10)"
   ]
  },
  {
   "cell_type": "code",
   "execution_count": 7,
   "id": "39d18717",
   "metadata": {},
   "outputs": [
    {
     "data": {
      "text/plain": [
       "(1000, 8)"
      ]
     },
     "execution_count": 7,
     "metadata": {},
     "output_type": "execute_result"
    }
   ],
   "source": [
    "df.shape"
   ]
  },
  {
   "cell_type": "code",
   "execution_count": 8,
   "id": "0bf9a3f2",
   "metadata": {},
   "outputs": [
    {
     "name": "stdout",
     "output_type": "stream",
     "text": [
      "<class 'pandas.core.frame.DataFrame'>\n",
      "RangeIndex: 1000 entries, 0 to 999\n",
      "Data columns (total 8 columns):\n",
      " #   Column                       Non-Null Count  Dtype \n",
      "---  ------                       --------------  ----- \n",
      " 0   gender                       1000 non-null   object\n",
      " 1   race_ethnicity               1000 non-null   object\n",
      " 2   parental_level_of_education  1000 non-null   object\n",
      " 3   lunch                        1000 non-null   object\n",
      " 4   test_preparation_course      1000 non-null   object\n",
      " 5   math_score                   1000 non-null   int64 \n",
      " 6   reading_score                1000 non-null   int64 \n",
      " 7   writing_score                1000 non-null   int64 \n",
      "dtypes: int64(3), object(5)\n",
      "memory usage: 62.6+ KB\n"
     ]
    }
   ],
   "source": [
    "df.info()"
   ]
  },
  {
   "cell_type": "code",
   "execution_count": 9,
   "id": "6cc6bc35",
   "metadata": {},
   "outputs": [
    {
     "data": {
      "application/vnd.microsoft.datawrangler.viewer.v0+json": {
       "columns": [
        {
         "name": "index",
         "rawType": "object",
         "type": "string"
        },
        {
         "name": "0",
         "rawType": "int64",
         "type": "integer"
        }
       ],
       "ref": "16812767-98fc-4b5d-911e-2806fce1bcc0",
       "rows": [
        [
         "gender",
         "0"
        ],
        [
         "race_ethnicity",
         "0"
        ],
        [
         "parental_level_of_education",
         "0"
        ],
        [
         "lunch",
         "0"
        ],
        [
         "test_preparation_course",
         "0"
        ],
        [
         "math_score",
         "0"
        ],
        [
         "reading_score",
         "0"
        ],
        [
         "writing_score",
         "0"
        ]
       ],
       "shape": {
        "columns": 1,
        "rows": 8
       }
      },
      "text/plain": [
       "gender                         0\n",
       "race_ethnicity                 0\n",
       "parental_level_of_education    0\n",
       "lunch                          0\n",
       "test_preparation_course        0\n",
       "math_score                     0\n",
       "reading_score                  0\n",
       "writing_score                  0\n",
       "dtype: int64"
      ]
     },
     "execution_count": 9,
     "metadata": {},
     "output_type": "execute_result"
    }
   ],
   "source": [
    "df.isna().sum()"
   ]
  },
  {
   "cell_type": "code",
   "execution_count": 10,
   "id": "7275da78",
   "metadata": {},
   "outputs": [
    {
     "data": {
      "text/plain": [
       "np.int64(0)"
      ]
     },
     "execution_count": 10,
     "metadata": {},
     "output_type": "execute_result"
    }
   ],
   "source": [
    "df.duplicated().sum()"
   ]
  },
  {
   "cell_type": "code",
   "execution_count": 11,
   "id": "f75727b0",
   "metadata": {},
   "outputs": [
    {
     "name": "stdout",
     "output_type": "stream",
     "text": [
      "<class 'pandas.core.frame.DataFrame'>\n",
      "RangeIndex: 1000 entries, 0 to 999\n",
      "Data columns (total 8 columns):\n",
      " #   Column                       Non-Null Count  Dtype \n",
      "---  ------                       --------------  ----- \n",
      " 0   gender                       1000 non-null   object\n",
      " 1   race_ethnicity               1000 non-null   object\n",
      " 2   parental_level_of_education  1000 non-null   object\n",
      " 3   lunch                        1000 non-null   object\n",
      " 4   test_preparation_course      1000 non-null   object\n",
      " 5   math_score                   1000 non-null   int64 \n",
      " 6   reading_score                1000 non-null   int64 \n",
      " 7   writing_score                1000 non-null   int64 \n",
      "dtypes: int64(3), object(5)\n",
      "memory usage: 62.6+ KB\n"
     ]
    }
   ],
   "source": [
    "df.info()"
   ]
  },
  {
   "cell_type": "code",
   "execution_count": 12,
   "id": "7067715d",
   "metadata": {},
   "outputs": [
    {
     "data": {
      "application/vnd.microsoft.datawrangler.viewer.v0+json": {
       "columns": [
        {
         "name": "index",
         "rawType": "object",
         "type": "string"
        },
        {
         "name": "0",
         "rawType": "int64",
         "type": "integer"
        }
       ],
       "ref": "135178fc-74ea-40f3-a83e-f18a80a42c48",
       "rows": [
        [
         "gender",
         "2"
        ],
        [
         "race_ethnicity",
         "5"
        ],
        [
         "parental_level_of_education",
         "6"
        ],
        [
         "lunch",
         "2"
        ],
        [
         "test_preparation_course",
         "2"
        ],
        [
         "math_score",
         "81"
        ],
        [
         "reading_score",
         "72"
        ],
        [
         "writing_score",
         "77"
        ]
       ],
       "shape": {
        "columns": 1,
        "rows": 8
       }
      },
      "text/plain": [
       "gender                          2\n",
       "race_ethnicity                  5\n",
       "parental_level_of_education     6\n",
       "lunch                           2\n",
       "test_preparation_course         2\n",
       "math_score                     81\n",
       "reading_score                  72\n",
       "writing_score                  77\n",
       "dtype: int64"
      ]
     },
     "execution_count": 12,
     "metadata": {},
     "output_type": "execute_result"
    }
   ],
   "source": [
    "df.nunique()"
   ]
  },
  {
   "cell_type": "code",
   "execution_count": 13,
   "id": "af177cb8",
   "metadata": {},
   "outputs": [
    {
     "data": {
      "application/vnd.microsoft.datawrangler.viewer.v0+json": {
       "columns": [
        {
         "name": "index",
         "rawType": "object",
         "type": "string"
        },
        {
         "name": "math_score",
         "rawType": "float64",
         "type": "float"
        },
        {
         "name": "reading_score",
         "rawType": "float64",
         "type": "float"
        },
        {
         "name": "writing_score",
         "rawType": "float64",
         "type": "float"
        }
       ],
       "ref": "228b6f1c-fd4c-4961-819b-c2b7044371d1",
       "rows": [
        [
         "count",
         "1000.0",
         "1000.0",
         "1000.0"
        ],
        [
         "mean",
         "66.089",
         "69.169",
         "68.054"
        ],
        [
         "std",
         "15.16308009600945",
         "14.600191937252216",
         "15.19565701086965"
        ],
        [
         "min",
         "0.0",
         "17.0",
         "10.0"
        ],
        [
         "25%",
         "57.0",
         "59.0",
         "57.75"
        ],
        [
         "50%",
         "66.0",
         "70.0",
         "69.0"
        ],
        [
         "75%",
         "77.0",
         "79.0",
         "79.0"
        ],
        [
         "max",
         "100.0",
         "100.0",
         "100.0"
        ]
       ],
       "shape": {
        "columns": 3,
        "rows": 8
       }
      },
      "text/html": [
       "<div>\n",
       "<style scoped>\n",
       "    .dataframe tbody tr th:only-of-type {\n",
       "        vertical-align: middle;\n",
       "    }\n",
       "\n",
       "    .dataframe tbody tr th {\n",
       "        vertical-align: top;\n",
       "    }\n",
       "\n",
       "    .dataframe thead th {\n",
       "        text-align: right;\n",
       "    }\n",
       "</style>\n",
       "<table border=\"1\" class=\"dataframe\">\n",
       "  <thead>\n",
       "    <tr style=\"text-align: right;\">\n",
       "      <th></th>\n",
       "      <th>math_score</th>\n",
       "      <th>reading_score</th>\n",
       "      <th>writing_score</th>\n",
       "    </tr>\n",
       "  </thead>\n",
       "  <tbody>\n",
       "    <tr>\n",
       "      <th>count</th>\n",
       "      <td>1000.00000</td>\n",
       "      <td>1000.000000</td>\n",
       "      <td>1000.000000</td>\n",
       "    </tr>\n",
       "    <tr>\n",
       "      <th>mean</th>\n",
       "      <td>66.08900</td>\n",
       "      <td>69.169000</td>\n",
       "      <td>68.054000</td>\n",
       "    </tr>\n",
       "    <tr>\n",
       "      <th>std</th>\n",
       "      <td>15.16308</td>\n",
       "      <td>14.600192</td>\n",
       "      <td>15.195657</td>\n",
       "    </tr>\n",
       "    <tr>\n",
       "      <th>min</th>\n",
       "      <td>0.00000</td>\n",
       "      <td>17.000000</td>\n",
       "      <td>10.000000</td>\n",
       "    </tr>\n",
       "    <tr>\n",
       "      <th>25%</th>\n",
       "      <td>57.00000</td>\n",
       "      <td>59.000000</td>\n",
       "      <td>57.750000</td>\n",
       "    </tr>\n",
       "    <tr>\n",
       "      <th>50%</th>\n",
       "      <td>66.00000</td>\n",
       "      <td>70.000000</td>\n",
       "      <td>69.000000</td>\n",
       "    </tr>\n",
       "    <tr>\n",
       "      <th>75%</th>\n",
       "      <td>77.00000</td>\n",
       "      <td>79.000000</td>\n",
       "      <td>79.000000</td>\n",
       "    </tr>\n",
       "    <tr>\n",
       "      <th>max</th>\n",
       "      <td>100.00000</td>\n",
       "      <td>100.000000</td>\n",
       "      <td>100.000000</td>\n",
       "    </tr>\n",
       "  </tbody>\n",
       "</table>\n",
       "</div>"
      ],
      "text/plain": [
       "       math_score  reading_score  writing_score\n",
       "count  1000.00000    1000.000000    1000.000000\n",
       "mean     66.08900      69.169000      68.054000\n",
       "std      15.16308      14.600192      15.195657\n",
       "min       0.00000      17.000000      10.000000\n",
       "25%      57.00000      59.000000      57.750000\n",
       "50%      66.00000      70.000000      69.000000\n",
       "75%      77.00000      79.000000      79.000000\n",
       "max     100.00000     100.000000     100.000000"
      ]
     },
     "execution_count": 13,
     "metadata": {},
     "output_type": "execute_result"
    }
   ],
   "source": [
    "df.describe()"
   ]
  },
  {
   "cell_type": "code",
   "execution_count": 14,
   "id": "71915531",
   "metadata": {},
   "outputs": [
    {
     "name": "stdout",
     "output_type": "stream",
     "text": [
      "Categories in 'gender' varialble ['female' 'male']\n",
      "Categories in 'race/ethnicity' varialble ['group B' 'group C' 'group A' 'group D' 'group E']\n",
      "Categories in 'parental level of education' varialble [\"bachelor's degree\" 'some college' \"master's degree\" \"associate's degree\"\n",
      " 'high school' 'some high school']\n",
      "Categories in 'lunch' varialble ['standard' 'free/reduced']\n",
      "Categories in 'test preparation course' varialble ['none' 'completed']\n",
      "Categories in 'math score' varialble [ 72  69  90  47  76  71  88  40  64  38  58  65  78  50  18  46  54  66\n",
      "  44  74  73  67  70  62  63  56  97  81  75  57  55  53  59  82  77  33\n",
      "  52   0  79  39  45  60  61  41  49  30  80  42  27  43  68  85  98  87\n",
      "  51  99  84  91  83  89  22 100  96  94  48  35  34  86  92  37  28  24\n",
      "  26  95  36  29  32  93  19  23   8]\n",
      "Categories in 'reading score' varialble [ 72  90  95  57  78  83  43  64  60  54  52  81  53  75  89  32  42  58\n",
      "  69  73  71  74  70  65  87  56  61  84  55  44  41  85  59  17  39  80\n",
      "  37  63  51  49  26  68  45  47  86  34  79  66  67  91 100  76  77  82\n",
      "  92  93  62  88  50  28  48  46  23  38  94  97  99  31  96  24  29  40]\n",
      "Categories in 'writing score' varialble [ 74  88  93  44  75  78  92  39  67  50  52  43  73  70  58  86  28  46\n",
      "  61  63  53  80  72  55  65  38  82  79  83  59  57  54  68  66  62  76\n",
      "  48  42  87  49  10  34  71  37  56  41  22  81  45  36  89  47  90 100\n",
      "  64  98  51  40  84  69  33  60  85  91  77  27  94  95  19  35  32  96\n",
      "  97  99  15  30  23]\n"
     ]
    }
   ],
   "source": [
    "print(\"Categories in 'gender' varialble\" ,df['gender'].unique())\n",
    "print(\"Categories in 'race/ethnicity' varialble\", df['race_ethnicity'].unique())\n",
    "print(\"Categories in 'parental level of education' varialble\", df['parental_level_of_education'].unique())\n",
    "print(\"Categories in 'lunch' varialble\", df['lunch'].unique())\n",
    "print(\"Categories in 'test preparation course' varialble\", df['test_preparation_course'].unique())\n",
    "print(\"Categories in 'math score' varialble\", df['math_score'].unique())\n",
    "print(\"Categories in 'reading score' varialble\", df['reading_score'].unique())\n",
    "print(\"Categories in 'writing score' varialble\", df['writing_score'].unique())\n"
   ]
  },
  {
   "cell_type": "code",
   "execution_count": 15,
   "id": "e66e7358",
   "metadata": {},
   "outputs": [
    {
     "name": "stdout",
     "output_type": "stream",
     "text": [
      "There are 3 numerical features : ['math_score', 'reading_score', 'writing_score']\n",
      "\n",
      "There are 5 categorical features : ['gender', 'race_ethnicity', 'parental_level_of_education', 'lunch', 'test_preparation_course']\n"
     ]
    }
   ],
   "source": [
    "#feature\n",
    "numeric_features = [feature for feature in df.columns if df[feature].dtype != 'O']\n",
    "categorical_features = [feature for feature in df.columns if df[feature].dtype == 'O']\n",
    "print('There are {} numerical features : {}'.format(len(numeric_features), numeric_features))\n",
    "print('\\nThere are {} categorical features : {}'.format(len(categorical_features), categorical_features))"
   ]
  },
  {
   "cell_type": "code",
   "execution_count": 16,
   "id": "f6f2aa76",
   "metadata": {},
   "outputs": [
    {
     "data": {
      "application/vnd.microsoft.datawrangler.viewer.v0+json": {
       "columns": [
        {
         "name": "index",
         "rawType": "int64",
         "type": "integer"
        },
        {
         "name": "gender",
         "rawType": "object",
         "type": "string"
        },
        {
         "name": "race_ethnicity",
         "rawType": "object",
         "type": "string"
        },
        {
         "name": "parental_level_of_education",
         "rawType": "object",
         "type": "string"
        },
        {
         "name": "lunch",
         "rawType": "object",
         "type": "string"
        },
        {
         "name": "test_preparation_course",
         "rawType": "object",
         "type": "string"
        },
        {
         "name": "math_score",
         "rawType": "int64",
         "type": "integer"
        },
        {
         "name": "reading_score",
         "rawType": "int64",
         "type": "integer"
        },
        {
         "name": "writing_score",
         "rawType": "int64",
         "type": "integer"
        },
        {
         "name": "total score",
         "rawType": "int64",
         "type": "integer"
        },
        {
         "name": "average",
         "rawType": "float64",
         "type": "float"
        }
       ],
       "ref": "1e09e49d-f926-4cea-8968-ec62320ee71c",
       "rows": [
        [
         "0",
         "female",
         "group B",
         "bachelor's degree",
         "standard",
         "none",
         "72",
         "72",
         "74",
         "218",
         "72.67"
        ],
        [
         "1",
         "female",
         "group C",
         "some college",
         "standard",
         "completed",
         "69",
         "90",
         "88",
         "247",
         "82.33"
        ],
        [
         "2",
         "female",
         "group B",
         "master's degree",
         "standard",
         "none",
         "90",
         "95",
         "93",
         "278",
         "92.67"
        ],
        [
         "3",
         "male",
         "group A",
         "associate's degree",
         "free/reduced",
         "none",
         "47",
         "57",
         "44",
         "148",
         "49.33"
        ],
        [
         "4",
         "male",
         "group C",
         "some college",
         "standard",
         "none",
         "76",
         "78",
         "75",
         "229",
         "76.33"
        ]
       ],
       "shape": {
        "columns": 10,
        "rows": 5
       }
      },
      "text/html": [
       "<div>\n",
       "<style scoped>\n",
       "    .dataframe tbody tr th:only-of-type {\n",
       "        vertical-align: middle;\n",
       "    }\n",
       "\n",
       "    .dataframe tbody tr th {\n",
       "        vertical-align: top;\n",
       "    }\n",
       "\n",
       "    .dataframe thead th {\n",
       "        text-align: right;\n",
       "    }\n",
       "</style>\n",
       "<table border=\"1\" class=\"dataframe\">\n",
       "  <thead>\n",
       "    <tr style=\"text-align: right;\">\n",
       "      <th></th>\n",
       "      <th>gender</th>\n",
       "      <th>race_ethnicity</th>\n",
       "      <th>parental_level_of_education</th>\n",
       "      <th>lunch</th>\n",
       "      <th>test_preparation_course</th>\n",
       "      <th>math_score</th>\n",
       "      <th>reading_score</th>\n",
       "      <th>writing_score</th>\n",
       "      <th>total score</th>\n",
       "      <th>average</th>\n",
       "    </tr>\n",
       "  </thead>\n",
       "  <tbody>\n",
       "    <tr>\n",
       "      <th>0</th>\n",
       "      <td>female</td>\n",
       "      <td>group B</td>\n",
       "      <td>bachelor's degree</td>\n",
       "      <td>standard</td>\n",
       "      <td>none</td>\n",
       "      <td>72</td>\n",
       "      <td>72</td>\n",
       "      <td>74</td>\n",
       "      <td>218</td>\n",
       "      <td>72.67</td>\n",
       "    </tr>\n",
       "    <tr>\n",
       "      <th>1</th>\n",
       "      <td>female</td>\n",
       "      <td>group C</td>\n",
       "      <td>some college</td>\n",
       "      <td>standard</td>\n",
       "      <td>completed</td>\n",
       "      <td>69</td>\n",
       "      <td>90</td>\n",
       "      <td>88</td>\n",
       "      <td>247</td>\n",
       "      <td>82.33</td>\n",
       "    </tr>\n",
       "    <tr>\n",
       "      <th>2</th>\n",
       "      <td>female</td>\n",
       "      <td>group B</td>\n",
       "      <td>master's degree</td>\n",
       "      <td>standard</td>\n",
       "      <td>none</td>\n",
       "      <td>90</td>\n",
       "      <td>95</td>\n",
       "      <td>93</td>\n",
       "      <td>278</td>\n",
       "      <td>92.67</td>\n",
       "    </tr>\n",
       "    <tr>\n",
       "      <th>3</th>\n",
       "      <td>male</td>\n",
       "      <td>group A</td>\n",
       "      <td>associate's degree</td>\n",
       "      <td>free/reduced</td>\n",
       "      <td>none</td>\n",
       "      <td>47</td>\n",
       "      <td>57</td>\n",
       "      <td>44</td>\n",
       "      <td>148</td>\n",
       "      <td>49.33</td>\n",
       "    </tr>\n",
       "    <tr>\n",
       "      <th>4</th>\n",
       "      <td>male</td>\n",
       "      <td>group C</td>\n",
       "      <td>some college</td>\n",
       "      <td>standard</td>\n",
       "      <td>none</td>\n",
       "      <td>76</td>\n",
       "      <td>78</td>\n",
       "      <td>75</td>\n",
       "      <td>229</td>\n",
       "      <td>76.33</td>\n",
       "    </tr>\n",
       "  </tbody>\n",
       "</table>\n",
       "</div>"
      ],
      "text/plain": [
       "   gender race_ethnicity parental_level_of_education         lunch  \\\n",
       "0  female        group B           bachelor's degree      standard   \n",
       "1  female        group C                some college      standard   \n",
       "2  female        group B             master's degree      standard   \n",
       "3    male        group A          associate's degree  free/reduced   \n",
       "4    male        group C                some college      standard   \n",
       "\n",
       "  test_preparation_course  math_score  reading_score  writing_score  \\\n",
       "0                    none          72             72             74   \n",
       "1               completed          69             90             88   \n",
       "2                    none          90             95             93   \n",
       "3                    none          47             57             44   \n",
       "4                    none          76             78             75   \n",
       "\n",
       "   total score  average  \n",
       "0          218    72.67  \n",
       "1          247    82.33  \n",
       "2          278    92.67  \n",
       "3          148    49.33  \n",
       "4          229    76.33  "
      ]
     },
     "execution_count": 16,
     "metadata": {},
     "output_type": "execute_result"
    }
   ],
   "source": [
    "df['total score']=df['math_score']+df['reading_score']+df['writing_score']\n",
    "df['average']=df['total score']/3\n",
    "df = df.round(2)\n",
    "df.head()"
   ]
  },
  {
   "cell_type": "code",
   "execution_count": 17,
   "id": "ea36eacf",
   "metadata": {},
   "outputs": [
    {
     "name": "stdout",
     "output_type": "stream",
     "text": [
      "Number of students with full marks in Reading: 17\n",
      "Number of students with full marks in Writing: 14\n",
      "Number of students with full marks in Math: 7\n"
     ]
    }
   ],
   "source": [
    "reading_full = df[df['reading_score'] == 100]['average'].count()\n",
    "writing_full = df[df['writing_score'] == 100]['average'].count()\n",
    "math_full = df[df['math_score'] == 100]['average'].count()\n",
    "\n",
    "print(f\"Number of students with full marks in Reading: {reading_full}\")\n",
    "print(f\"Number of students with full marks in Writing: {writing_full}\")\n",
    "print(f\"Number of students with full marks in Math: {math_full}\")"
   ]
  },
  {
   "cell_type": "code",
   "execution_count": 18,
   "id": "f79ad152",
   "metadata": {},
   "outputs": [
    {
     "name": "stdout",
     "output_type": "stream",
     "text": [
      "Number of students with less than 20 marks in Reading: 1\n",
      "Number of students with less than 20 marks in Writing: 3\n",
      "Number of students with less than 20 marks in Math: 4\n"
     ]
    }
   ],
   "source": [
    "reading_less_20 = df[df['reading_score'] <= 20]['average'].count()\n",
    "writing_less_20 = df[df['writing_score'] <= 20]['average'].count()\n",
    "math_less_20 = df[df['math_score'] <= 20]['average'].count()\n",
    "\n",
    "print(f\"Number of students with less than 20 marks in Reading: {reading_less_20}\")\n",
    "print(f\"Number of students with less than 20 marks in Writing: {writing_less_20}\")\n",
    "print(f\"Number of students with less than 20 marks in Math: {math_less_20}\")"
   ]
  },
  {
   "cell_type": "code",
   "execution_count": 19,
   "id": "d5f7b783",
   "metadata": {},
   "outputs": [
    {
     "data": {
      "image/png": "[encoded data removed]",
      "text/plain": [
       "<Figure size 1000x800 with 3 Axes>"
      ]
     },
     "metadata": {},
     "output_type": "display_data"
    }
   ],
   "source": [
    "fig, ax = plt.subplots(1, 1, figsize=(10, 8))\n",
    "plt.subplot(121)\n",
    "sns.histplot(data=df, x='average', bins=30, kde=True, color='g')\n",
    "plt.subplot(122)\n",
    "sns.histplot(data=df, x='total score', kde=True, hue='gender')\n",
    "plt.show()"
   ]
  },
  {
   "cell_type": "code",
   "execution_count": 20,
   "id": "d73bbbad",
   "metadata": {},
   "outputs": [
    {
     "data": {
      "application/vnd.plotly.v1+json": {
       "config": {
        "plotlyServerURL": "https://plot.ly"
       },
       "data": [
        {
         "customdata": [
          [
           "bachelor's degree",
           "standard"
          ],
          [
           "master's degree",
           "standard"
          ],
          [
           "associate's degree",
           "standard"
          ],
          [
           "high school",
           "free/reduced"
          ],
          [
           "high school",
           "standard"
          ],
          [
           "master's degree",
           "standard"
          ],
          [
           "some high school",
           "standard"
          ],
          [
           "some high school",
           "free/reduced"
          ],
          [
           "associate's degree",
           "free/reduced"
          ],
          [
           "some high school",
           "standard"
          ],
          [
           "bachelor's degree",
           "standard"
          ],
          [
           "master's degree",
           "standard"
          ],
          [
           "some college",
           "standard"
          ],
          [
           "some college",
           "standard"
          ],
          [
           "master's degree",
           "free/reduced"
          ],
          [
           "associate's degree",
           "standard"
          ],
          [
           "some high school",
           "free/reduced"
          ],
          [
           "associate's degree",
           "standard"
          ],
          [
           "associate's degree",
           "standard"
          ],
          [
           "associate's degree",
           "free/reduced"
          ],
          [
           "high school",
           "standard"
          ],
          [
           "high school",
           "free/reduced"
          ],
          [
           "some high school",
           "free/reduced"
          ],
          [
           "associate's degree",
           "standard"
          ],
          [
           "some high school",
           "standard"
          ],
          [
           "some college",
           "standard"
          ],
          [
           "associate's degree",
           "standard"
          ],
          [
           "associate's degree",
           "free/reduced"
          ],
          [
           "master's degree",
           "standard"
          ],
          [
           "associate's degree",
           "standard"
          ],
          [
           "some college",
           "standard"
          ],
          [
           "some college",
           "free/reduced"
          ],
          [
           "associate's degree",
           "standard"
          ],
          [
           "some college",
           "standard"
          ],
          [
           "some high school",
           "standard"
          ],
          [
           "bachelor's degree",
           "standard"
          ],
          [
           "some college",
           "standard"
          ],
          [
           "some college",
           "free/reduced"
          ],
          [
           "bachelor's degree",
           "standard"
          ],
          [
           "associate's degree",
           "standard"
          ],
          [
           "some college",
           "standard"
          ],
          [
           "master's degree",
           "standard"
          ],
          [
           "associate's degree",
           "free/reduced"
          ],
          [
           "some high school",
           "standard"
          ],
          [
           "some college",
           "standard"
          ],
          [
           "bachelor's degree",
           "free/reduced"
          ],
          [
           "bachelor's degree",
           "standard"
          ],
          [
           "some high school",
           "standard"
          ],
          [
           "some college",
           "standard"
          ],
          [
           "high school",
           "standard"
          ],
          [
           "bachelor's degree",
           "standard"
          ],
          [
           "associate's degree",
           "standard"
          ],
          [
           "some high school",
           "standard"
          ],
          [
           "some college",
           "free/reduced"
          ],
          [
           "some college",
           "free/reduced"
          ],
          [
           "master's degree",
           "standard"
          ],
          [
           "some college",
           "standard"
          ],
          [
           "associate's degree",
           "standard"
          ],
          [
           "some college",
           "free/reduced"
          ],
          [
           "high school",
           "standard"
          ],
          [
           "associate's degree",
           "standard"
          ],
          [
           "bachelor's degree",
           "standard"
          ],
          [
           "associate's degree",
           "standard"
          ],
          [
           "some high school",
           "standard"
          ],
          [
           "some college",
           "free/reduced"
          ],
          [
           "bachelor's degree",
           "free/reduced"
          ],
          [
           "some college",
           "free/reduced"
          ],
          [
           "associate's degree",
           "standard"
          ],
          [
           "some college",
           "free/reduced"
          ],
          [
           "some college",
           "free/reduced"
          ],
          [
           "high school",
           "free/reduced"
          ],
          [
           "high school",
           "free/reduced"
          ],
          [
           "some high school",
           "free/reduced"
          ],
          [
           "master's degree",
           "free/reduced"
          ],
          [
           "some college",
           "standard"
          ],
          [
           "bachelor's degree",
           "standard"
          ],
          [
           "bachelor's degree",
           "standard"
          ],
          [
           "high school",
           "standard"
          ],
          [
           "high school",
           "standard"
          ],
          [
           "some college",
           "free/reduced"
          ],
          [
           "some college",
           "standard"
          ],
          [
           "associate's degree",
           "free/reduced"
          ],
          [
           "some college",
           "standard"
          ],
          [
           "some high school",
           "free/reduced"
          ],
          [
           "high school",
           "standard"
          ],
          [
           "bachelor's degree",
           "standard"
          ],
          [
           "high school",
           "standard"
          ],
          [
           "some college",
           "free/reduced"
          ],
          [
           "associate's degree",
           "free/reduced"
          ],
          [
           "some college",
           "standard"
          ],
          [
           "some high school",
           "free/reduced"
          ],
          [
           "bachelor's degree",
           "free/reduced"
          ],
          [
           "some high school",
           "standard"
          ],
          [
           "some high school",
           "standard"
          ],
          [
           "bachelor's degree",
           "standard"
          ],
          [
           "associate's degree",
           "free/reduced"
          ],
          [
           "high school",
           "free/reduced"
          ],
          [
           "associate's degree",
           "standard"
          ],
          [
           "associate's degree",
           "free/reduced"
          ],
          [
           "high school",
           "standard"
          ],
          [
           "some college",
           "standard"
          ],
          [
           "some high school",
           "free/reduced"
          ],
          [
           "high school",
           "free/reduced"
          ],
          [
           "some college",
           "standard"
          ],
          [
           "some high school",
           "standard"
          ],
          [
           "bachelor's degree",
           "standard"
          ],
          [
           "some college",
           "free/reduced"
          ],
          [
           "some high school",
           "free/reduced"
          ],
          [
           "high school",
           "standard"
          ],
          [
           "high school",
           "standard"
          ],
          [
           "bachelor's degree",
           "standard"
          ],
          [
           "associate's degree",
           "standard"
          ],
          [
           "some college",
           "standard"
          ],
          [
           "bachelor's degree",
           "standard"
          ],
          [
           "some college",
           "standard"
          ],
          [
           "high school",
           "standard"
          ],
          [
           "some college",
           "standard"
          ],
          [
           "some high school",
           "free/reduced"
          ],
          [
           "some high school",
           "free/reduced"
          ],
          [
           "some high school",
           "standard"
          ],
          [
           "bachelor's degree",
           "standard"
          ],
          [
           "some high school",
           "standard"
          ],
          [
           "some high school",
           "standard"
          ],
          [
           "associate's degree",
           "standard"
          ],
          [
           "some high school",
           "free/reduced"
          ],
          [
           "some high school",
           "free/reduced"
          ],
          [
           "some college",
           "standard"
          ],
          [
           "bachelor's degree",
           "standard"
          ],
          [
           "associate's degree",
           "free/reduced"
          ],
          [
           "high school",
           "standard"
          ],
          [
           "some college",
           "standard"
          ],
          [
           "high school",
           "free/reduced"
          ],
          [
           "associate's degree",
           "standard"
          ],
          [
           "some college",
           "free/reduced"
          ],
          [
           "high school",
           "standard"
          ],
          [
           "some high school",
           "standard"
          ],
          [
           "associate's degree",
           "standard"
          ],
          [
           "some college",
           "free/reduced"
          ],
          [
           "high school",
           "standard"
          ],
          [
           "some high school",
           "free/reduced"
          ],
          [
           "high school",
           "standard"
          ],
          [
           "some high school",
           "free/reduced"
          ],
          [
           "associate's degree",
           "standard"
          ],
          [
           "some college",
           "standard"
          ],
          [
           "associate's degree",
           "free/reduced"
          ],
          [
           "associate's degree",
           "free/reduced"
          ],
          [
           "bachelor's degree",
           "standard"
          ],
          [
           "bachelor's degree",
           "standard"
          ],
          [
           "some college",
           "standard"
          ],
          [
           "some college",
           "free/reduced"
          ],
          [
           "some college",
           "standard"
          ],
          [
           "associate's degree",
           "free/reduced"
          ],
          [
           "high school",
           "standard"
          ],
          [
           "some high school",
           "standard"
          ],
          [
           "master's degree",
           "standard"
          ],
          [
           "associate's degree",
           "free/reduced"
          ],
          [
           "associate's degree",
           "standard"
          ],
          [
           "associate's degree",
           "free/reduced"
          ],
          [
           "associate's degree",
           "free/reduced"
          ],
          [
           "associate's degree",
           "standard"
          ],
          [
           "some college",
           "standard"
          ],
          [
           "bachelor's degree",
           "standard"
          ],
          [
           "high school",
           "standard"
          ],
          [
           "some college",
           "standard"
          ],
          [
           "some high school",
           "standard"
          ],
          [
           "master's degree",
           "standard"
          ],
          [
           "master's degree",
           "free/reduced"
          ],
          [
           "some high school",
           "standard"
          ],
          [
           "bachelor's degree",
           "standard"
          ],
          [
           "some college",
           "standard"
          ],
          [
           "associate's degree",
           "standard"
          ],
          [
           "high school",
           "free/reduced"
          ],
          [
           "bachelor's degree",
           "free/reduced"
          ],
          [
           "associate's degree",
           "standard"
          ],
          [
           "some high school",
           "standard"
          ],
          [
           "high school",
           "standard"
          ],
          [
           "associate's degree",
           "standard"
          ],
          [
           "associate's degree",
           "standard"
          ],
          [
           "master's degree",
           "standard"
          ],
          [
           "high school",
           "free/reduced"
          ],
          [
           "associate's degree",
           "standard"
          ],
          [
           "some college",
           "free/reduced"
          ],
          [
           "associate's degree",
           "free/reduced"
          ],
          [
           "some college",
           "standard"
          ],
          [
           "some college",
           "standard"
          ],
          [
           "high school",
           "standard"
          ],
          [
           "high school",
           "standard"
          ],
          [
           "master's degree",
           "standard"
          ],
          [
           "some high school",
           "standard"
          ],
          [
           "some high school",
           "standard"
          ],
          [
           "bachelor's degree",
           "free/reduced"
          ],
          [
           "some college",
           "standard"
          ],
          [
           "associate's degree",
           "standard"
          ],
          [
           "high school",
           "standard"
          ],
          [
           "bachelor's degree",
           "free/reduced"
          ],
          [
           "some college",
           "standard"
          ],
          [
           "some high school",
           "standard"
          ],
          [
           "high school",
           "standard"
          ],
          [
           "high school",
           "standard"
          ],
          [
           "some high school",
           "standard"
          ],
          [
           "master's degree",
           "standard"
          ],
          [
           "high school",
           "standard"
          ],
          [
           "some college",
           "standard"
          ],
          [
           "associate's degree",
           "standard"
          ],
          [
           "master's degree",
           "free/reduced"
          ],
          [
           "some college",
           "standard"
          ],
          [
           "associate's degree",
           "standard"
          ],
          [
           "some college",
           "standard"
          ],
          [
           "associate's degree",
           "standard"
          ],
          [
           "associate's degree",
           "standard"
          ],
          [
           "high school",
           "standard"
          ],
          [
           "bachelor's degree",
           "standard"
          ],
          [
           "high school",
           "free/reduced"
          ],
          [
           "bachelor's degree",
           "free/reduced"
          ],
          [
           "high school",
           "standard"
          ],
          [
           "associate's degree",
           "standard"
          ],
          [
           "some high school",
           "free/reduced"
          ],
          [
           "associate's degree",
           "standard"
          ],
          [
           "high school",
           "free/reduced"
          ],
          [
           "high school",
           "standard"
          ],
          [
           "some high school",
           "standard"
          ],
          [
           "some college",
           "standard"
          ],
          [
           "associate's degree",
           "free/reduced"
          ],
          [
           "some college",
           "free/reduced"
          ],
          [
           "high school",
           "standard"
          ],
          [
           "bachelor's degree",
           "free/reduced"
          ],
          [
           "high school",
           "free/reduced"
          ],
          [
           "some college",
           "standard"
          ],
          [
           "high school",
           "standard"
          ],
          [
           "associate's degree",
           "standard"
          ],
          [
           "associate's degree",
           "free/reduced"
          ],
          [
           "associate's degree",
           "standard"
          ],
          [
           "some high school",
           "standard"
          ],
          [
           "some college",
           "free/reduced"
          ],
          [
           "bachelor's degree",
           "standard"
          ],
          [
           "some high school",
           "standard"
          ],
          [
           "some college",
           "standard"
          ],
          [
           "some college",
           "standard"
          ],
          [
           "high school",
           "standard"
          ],
          [
           "some college",
           "free/reduced"
          ],
          [
           "high school",
           "free/reduced"
          ],
          [
           "some college",
           "free/reduced"
          ],
          [
           "associate's degree",
           "free/reduced"
          ],
          [
           "high school",
           "standard"
          ],
          [
           "bachelor's degree",
           "free/reduced"
          ],
          [
           "associate's degree",
           "standard"
          ],
          [
           "high school",
           "free/reduced"
          ],
          [
           "some high school",
           "standard"
          ],
          [
           "high school",
           "standard"
          ],
          [
           "high school",
           "standard"
          ],
          [
           "some high school",
           "standard"
          ],
          [
           "bachelor's degree",
           "free/reduced"
          ],
          [
           "some high school",
           "free/reduced"
          ],
          [
           "high school",
           "standard"
          ],
          [
           "some college",
           "free/reduced"
          ],
          [
           "associate's degree",
           "free/reduced"
          ],
          [
           "master's degree",
           "standard"
          ],
          [
           "some high school",
           "free/reduced"
          ],
          [
           "some college",
           "standard"
          ],
          [
           "master's degree",
           "free/reduced"
          ],
          [
           "high school",
           "standard"
          ],
          [
           "some college",
           "free/reduced"
          ],
          [
           "high school",
           "standard"
          ],
          [
           "associate's degree",
           "free/reduced"
          ],
          [
           "associate's degree",
           "standard"
          ],
          [
           "associate's degree",
           "standard"
          ],
          [
           "some college",
           "standard"
          ],
          [
           "some college",
           "standard"
          ],
          [
           "some college",
           "free/reduced"
          ],
          [
           "high school",
           "free/reduced"
          ],
          [
           "high school",
           "standard"
          ],
          [
           "bachelor's degree",
           "standard"
          ],
          [
           "high school",
           "free/reduced"
          ],
          [
           "some high school",
           "standard"
          ],
          [
           "bachelor's degree",
           "free/reduced"
          ],
          [
           "high school",
           "free/reduced"
          ],
          [
           "some high school",
           "free/reduced"
          ],
          [
           "some high school",
           "standard"
          ],
          [
           "some college",
           "free/reduced"
          ],
          [
           "associate's degree",
           "standard"
          ],
          [
           "high school",
           "free/reduced"
          ],
          [
           "high school",
           "standard"
          ],
          [
           "high school",
           "standard"
          ],
          [
           "some college",
           "standard"
          ],
          [
           "bachelor's degree",
           "standard"
          ],
          [
           "bachelor's degree",
           "standard"
          ],
          [
           "associate's degree",
           "standard"
          ],
          [
           "master's degree",
           "free/reduced"
          ],
          [
           "bachelor's degree",
           "free/reduced"
          ],
          [
           "some high school",
           "standard"
          ],
          [
           "associate's degree",
           "standard"
          ],
          [
           "high school",
           "free/reduced"
          ],
          [
           "associate's degree",
           "standard"
          ],
          [
           "some college",
           "free/reduced"
          ],
          [
           "associate's degree",
           "standard"
          ],
          [
           "master's degree",
           "free/reduced"
          ],
          [
           "associate's degree",
           "standard"
          ],
          [
           "some high school",
           "free/reduced"
          ],
          [
           "master's degree",
           "standard"
          ],
          [
           "some high school",
           "free/reduced"
          ],
          [
           "bachelor's degree",
           "free/reduced"
          ],
          [
           "some college",
           "standard"
          ],
          [
           "associate's degree",
           "free/reduced"
          ],
          [
           "some college",
           "standard"
          ],
          [
           "high school",
           "standard"
          ],
          [
           "high school",
           "free/reduced"
          ],
          [
           "associate's degree",
           "free/reduced"
          ],
          [
           "some high school",
           "free/reduced"
          ],
          [
           "high school",
           "free/reduced"
          ],
          [
           "master's degree",
           "standard"
          ],
          [
           "high school",
           "standard"
          ],
          [
           "associate's degree",
           "standard"
          ],
          [
           "some college",
           "free/reduced"
          ],
          [
           "some high school",
           "free/reduced"
          ],
          [
           "some college",
           "standard"
          ],
          [
           "master's degree",
           "standard"
          ],
          [
           "high school",
           "standard"
          ],
          [
           "some college",
           "standard"
          ],
          [
           "some high school",
           "free/reduced"
          ],
          [
           "associate's degree",
           "standard"
          ],
          [
           "some college",
           "standard"
          ],
          [
           "associate's degree",
           "standard"
          ],
          [
           "bachelor's degree",
           "standard"
          ],
          [
           "bachelor's degree",
           "standard"
          ],
          [
           "some college",
           "free/reduced"
          ],
          [
           "some college",
           "standard"
          ],
          [
           "associate's degree",
           "standard"
          ],
          [
           "high school",
           "free/reduced"
          ],
          [
           "some high school",
           "standard"
          ],
          [
           "associate's degree",
           "standard"
          ],
          [
           "some high school",
           "free/reduced"
          ],
          [
           "associate's degree",
           "free/reduced"
          ],
          [
           "bachelor's degree",
           "free/reduced"
          ],
          [
           "some college",
           "free/reduced"
          ]
         ],
         "hovertemplate": "gender=female<br>test_preparation_course=none<br>math_score=%{x}<br>reading_score=%{y}<br>writing_score=%{z}<br>parental_level_of_education=%{customdata[0]}<br>lunch=%{customdata[1]}<extra></extra>",
         "legendgroup": "female, none",
         "marker": {
          "color": "#636efa",
          "symbol": "circle"
         },
         "mode": "markers",
         "name": "female, none",
         "scene": "scene",
         "showlegend": true,
         "type": "scatter3d",
         "x": {
          "bdata": "SFpHJkEyRRI2RUM+RT84SjI6NTJCIQBFOzwnKT4vSUxHOklBTzpBVTpXNEYzS04zN1czO0w7FlFPPy4yQU1CPi1OQTlKOioiNy1IQ1A4QUc+QEYsYz9FRy9BQUklQ0E1MUk4S0crKVIpUz0YPUg0Ljs9UDo0GyxJO1BHUCYmQ0A5Pk0yVTE2P1I+PS9OO0lkQTVPZEdNVBo/Ozc0MTxBQFNRNjZCSihSVkpbJB0+LzNRUkA+KCA1PzVKUTVRTT9FQTcsNjBKRUE2HUxVKD06OkFSPCUjPUtMSDtAMkk+KzdBTUJFQzFJTTFPOzk/Ykw+STUlUTJUNTA+SkQ+MUIjLk1IEzQwPCpGNFdSSUApSC08TU5HMEE9Qic7PVdhQTVRKztAQDNFVTI7IElDQ0UuRCwjNjA5Tjo2MUo+XC04MGQ+REtZMTZbCEooLDc+TQ==",
          "dtype": "i1"
         },
         "y": {
          "bdata": "SF9TPFE1SyA6SUVGSkFIUUBJOjhHKRFQOkhAM0QxUFNHRlZIVkNDW0NkTEA6VVI/RV8xQkg+J1xWQ0AyRVhBQDVPUUVRPT4qQThIVlM0QFNJSUsyXUtITDVGVk8uWUlHOUxBVlE1Llo3XUQmSVBBOkdIWj46IkBURlpTVjErTElOQERDWUE7SVBDSDtRSVNcTT1ZZEZaVx9FQ0A7NEtVQFNYQDBFTztSXFlWNSlKNkJNXz9DMCdGSj5RWz1hT0lNTEk/QEJMTVI8HU5UOkA/O01dRC09OlhKUUY+NU9DPEdFVUxOSDVMTT9ZSENAZExIXDo5VDxfSDo+SEdOOkgsOFpPJkE+QjRUN15VTEotUDtIW1pXOkU8TTRIRFVhTz5WPkhMSTNBXEM+Ik5US1Q9Rj01QTg6W0Q9OkpFZD86NmRGTFRkQT9fGEs7LUxIVg==",
          "dtype": "i1"
         },
         "z": {
          "bdata": "Sl1OMkk6Thw9SUtLSj1BUztEQTZMKwpHO0o5MEQyUlhKQ1JKXD4+WUhkRkg2Uk89QVYzQ0dAIVtRRkIvRldFQjdMTURMQjwnPjZHU1M3PlNGRE4zWlFNRjpHUFQuUktDNFA/T1A1K14zX0IbP0tFOUZGWTs6IDpVSVJNUy0rS0ZDQE0/Xzc+RE0+RjJQRUxhSj5ZZExbWyZKPUY4NkpMRlpaRDREUjZQV1RUKy9GNT5PWUJAMiFGSjhHWURgUE5NTEk+QUFJSVE/HlBSNj5BQkpdSCY2PlVJT0FEN09DOkVDV0RMSjVOSThWRkhDY0pGVDk4UjtcQDY/SEtPN0YrOVRNID08RjNROV9XTksoU0BEWF1SNEw5SS5EP11gUTVXPVBKRzZKVUlFJkpUSFI3QjQuQTM5YD06PEhFZDtANWRIQ1BkPUNeF1IzLUxKVg==",
          "dtype": "i1"
         }
        },
        {
         "customdata": [
          [
           "some college",
           "standard"
          ],
          [
           "some college",
           "standard"
          ],
          [
           "some college",
           "free/reduced"
          ],
          [
           "associate's degree",
           "free/reduced"
          ],
          [
           "associate's degree",
           "standard"
          ],
          [
           "associate's degree",
           "free/reduced"
          ],
          [
           "some high school",
           "free/reduced"
          ],
          [
           "associate's degree",
           "standard"
          ],
          [
           "some college",
           "free/reduced"
          ],
          [
           "some high school",
           "standard"
          ],
          [
           "some college",
           "standard"
          ],
          [
           "associate's degree",
           "free/reduced"
          ],
          [
           "bachelor's degree",
           "standard"
          ],
          [
           "bachelor's degree",
           "standard"
          ],
          [
           "some college",
           "standard"
          ],
          [
           "some college",
           "standard"
          ],
          [
           "some college",
           "free/reduced"
          ],
          [
           "bachelor's degree",
           "standard"
          ],
          [
           "associate's degree",
           "standard"
          ],
          [
           "some college",
           "standard"
          ],
          [
           "high school",
           "free/reduced"
          ],
          [
           "associate's degree",
           "standard"
          ],
          [
           "some college",
           "free/reduced"
          ],
          [
           "bachelor's degree",
           "standard"
          ],
          [
           "master's degree",
           "free/reduced"
          ],
          [
           "high school",
           "standard"
          ],
          [
           "some college",
           "free/reduced"
          ],
          [
           "bachelor's degree",
           "free/reduced"
          ],
          [
           "master's degree",
           "standard"
          ],
          [
           "high school",
           "free/reduced"
          ],
          [
           "associate's degree",
           "standard"
          ],
          [
           "master's degree",
           "free/reduced"
          ],
          [
           "some high school",
           "standard"
          ],
          [
           "master's degree",
           "standard"
          ],
          [
           "associate's degree",
           "standard"
          ],
          [
           "associate's degree",
           "free/reduced"
          ],
          [
           "high school",
           "standard"
          ],
          [
           "associate's degree",
           "standard"
          ],
          [
           "some college",
           "standard"
          ],
          [
           "some high school",
           "standard"
          ],
          [
           "high school",
           "standard"
          ],
          [
           "some high school",
           "standard"
          ],
          [
           "master's degree",
           "free/reduced"
          ],
          [
           "some high school",
           "free/reduced"
          ],
          [
           "associate's degree",
           "standard"
          ],
          [
           "some high school",
           "standard"
          ],
          [
           "high school",
           "standard"
          ],
          [
           "some college",
           "free/reduced"
          ],
          [
           "associate's degree",
           "standard"
          ],
          [
           "associate's degree",
           "standard"
          ],
          [
           "associate's degree",
           "free/reduced"
          ],
          [
           "bachelor's degree",
           "standard"
          ],
          [
           "master's degree",
           "standard"
          ],
          [
           "high school",
           "free/reduced"
          ],
          [
           "some high school",
           "free/reduced"
          ],
          [
           "high school",
           "standard"
          ],
          [
           "bachelor's degree",
           "standard"
          ],
          [
           "some college",
           "standard"
          ],
          [
           "some college",
           "free/reduced"
          ],
          [
           "some college",
           "free/reduced"
          ],
          [
           "some college",
           "standard"
          ],
          [
           "master's degree",
           "free/reduced"
          ],
          [
           "some high school",
           "standard"
          ],
          [
           "some high school",
           "standard"
          ],
          [
           "high school",
           "standard"
          ],
          [
           "high school",
           "free/reduced"
          ],
          [
           "master's degree",
           "standard"
          ],
          [
           "bachelor's degree",
           "free/reduced"
          ],
          [
           "associate's degree",
           "free/reduced"
          ],
          [
           "high school",
           "standard"
          ],
          [
           "master's degree",
           "free/reduced"
          ],
          [
           "some high school",
           "standard"
          ],
          [
           "some college",
           "standard"
          ],
          [
           "some high school",
           "standard"
          ],
          [
           "some college",
           "free/reduced"
          ],
          [
           "high school",
           "free/reduced"
          ],
          [
           "associate's degree",
           "standard"
          ],
          [
           "associate's degree",
           "standard"
          ],
          [
           "associate's degree",
           "standard"
          ],
          [
           "bachelor's degree",
           "standard"
          ],
          [
           "some college",
           "free/reduced"
          ],
          [
           "associate's degree",
           "standard"
          ],
          [
           "associate's degree",
           "standard"
          ],
          [
           "some high school",
           "standard"
          ],
          [
           "master's degree",
           "free/reduced"
          ],
          [
           "some high school",
           "standard"
          ],
          [
           "some college",
           "standard"
          ],
          [
           "some high school",
           "standard"
          ],
          [
           "high school",
           "free/reduced"
          ],
          [
           "associate's degree",
           "standard"
          ],
          [
           "associate's degree",
           "standard"
          ],
          [
           "bachelor's degree",
           "free/reduced"
          ],
          [
           "some high school",
           "standard"
          ],
          [
           "associate's degree",
           "standard"
          ],
          [
           "some college",
           "standard"
          ],
          [
           "some college",
           "free/reduced"
          ],
          [
           "bachelor's degree",
           "free/reduced"
          ],
          [
           "master's degree",
           "free/reduced"
          ],
          [
           "high school",
           "free/reduced"
          ],
          [
           "some college",
           "free/reduced"
          ],
          [
           "associate's degree",
           "standard"
          ],
          [
           "bachelor's degree",
           "standard"
          ],
          [
           "bachelor's degree",
           "standard"
          ],
          [
           "some high school",
           "standard"
          ],
          [
           "bachelor's degree",
           "standard"
          ],
          [
           "high school",
           "free/reduced"
          ],
          [
           "some high school",
           "standard"
          ],
          [
           "associate's degree",
           "free/reduced"
          ],
          [
           "high school",
           "standard"
          ],
          [
           "bachelor's degree",
           "standard"
          ],
          [
           "some college",
           "standard"
          ],
          [
           "high school",
           "standard"
          ],
          [
           "some college",
           "standard"
          ],
          [
           "associate's degree",
           "standard"
          ],
          [
           "some high school",
           "free/reduced"
          ],
          [
           "some college",
           "free/reduced"
          ],
          [
           "associate's degree",
           "standard"
          ],
          [
           "high school",
           "standard"
          ],
          [
           "some college",
           "standard"
          ],
          [
           "some college",
           "standard"
          ],
          [
           "some high school",
           "standard"
          ],
          [
           "some high school",
           "free/reduced"
          ],
          [
           "master's degree",
           "standard"
          ],
          [
           "bachelor's degree",
           "free/reduced"
          ],
          [
           "associate's degree",
           "standard"
          ],
          [
           "associate's degree",
           "standard"
          ],
          [
           "bachelor's degree",
           "standard"
          ],
          [
           "some high school",
           "free/reduced"
          ],
          [
           "associate's degree",
           "free/reduced"
          ],
          [
           "some high school",
           "standard"
          ],
          [
           "some high school",
           "standard"
          ],
          [
           "associate's degree",
           "free/reduced"
          ],
          [
           "associate's degree",
           "standard"
          ],
          [
           "some high school",
           "free/reduced"
          ],
          [
           "associate's degree",
           "standard"
          ],
          [
           "associate's degree",
           "free/reduced"
          ],
          [
           "some college",
           "standard"
          ],
          [
           "some college",
           "free/reduced"
          ],
          [
           "associate's degree",
           "standard"
          ],
          [
           "some high school",
           "standard"
          ],
          [
           "some college",
           "free/reduced"
          ],
          [
           "high school",
           "standard"
          ],
          [
           "some high school",
           "free/reduced"
          ],
          [
           "some college",
           "standard"
          ],
          [
           "high school",
           "free/reduced"
          ],
          [
           "associate's degree",
           "standard"
          ],
          [
           "some high school",
           "standard"
          ],
          [
           "associate's degree",
           "free/reduced"
          ],
          [
           "master's degree",
           "standard"
          ],
          [
           "some high school",
           "standard"
          ],
          [
           "associate's degree",
           "free/reduced"
          ],
          [
           "some high school",
           "free/reduced"
          ],
          [
           "bachelor's degree",
           "free/reduced"
          ],
          [
           "high school",
           "standard"
          ],
          [
           "high school",
           "standard"
          ],
          [
           "high school",
           "standard"
          ],
          [
           "high school",
           "free/reduced"
          ],
          [
           "some high school",
           "free/reduced"
          ],
          [
           "some college",
           "standard"
          ],
          [
           "some college",
           "standard"
          ],
          [
           "bachelor's degree",
           "standard"
          ],
          [
           "associate's degree",
           "standard"
          ],
          [
           "associate's degree",
           "standard"
          ],
          [
           "some college",
           "standard"
          ],
          [
           "some high school",
           "free/reduced"
          ],
          [
           "some high school",
           "standard"
          ],
          [
           "high school",
           "free/reduced"
          ],
          [
           "bachelor's degree",
           "free/reduced"
          ],
          [
           "some college",
           "standard"
          ],
          [
           "bachelor's degree",
           "standard"
          ],
          [
           "bachelor's degree",
           "free/reduced"
          ],
          [
           "associate's degree",
           "standard"
          ],
          [
           "high school",
           "free/reduced"
          ],
          [
           "high school",
           "free/reduced"
          ],
          [
           "some college",
           "standard"
          ],
          [
           "some high school",
           "free/reduced"
          ],
          [
           "high school",
           "free/reduced"
          ],
          [
           "some college",
           "standard"
          ],
          [
           "some college",
           "standard"
          ],
          [
           "some college",
           "free/reduced"
          ],
          [
           "some high school",
           "standard"
          ],
          [
           "master's degree",
           "standard"
          ],
          [
           "high school",
           "free/reduced"
          ],
          [
           "some college",
           "standard"
          ]
         ],
         "hovertemplate": "gender=female<br>test_preparation_course=completed<br>math_score=%{x}<br>reading_score=%{y}<br>writing_score=%{z}<br>parental_level_of_education=%{customdata[0]}<br>lunch=%{customdata[1]}<extra></extra>",
         "legendgroup": "female, completed",
         "marker": {
          "color": "#636efa",
          "symbol": "diamond"
         },
         "mode": "markers",
         "name": "female, completed",
         "scene": "scene",
         "showlegend": true,
         "type": "scatter3d",
         "x": {
          "bdata": "RVhBSzc5R1I6PT9NY09YSypEO0ZCPUtgOkRDK1EuRzRhRUNTODRYQDo8QUBYVTtGQ0pEO01DI0VNPyotUlVBO1g0RjNSOS87Q0NATVNEWkc7Xl82TUxCQkNET0JcN0o/XD0yMElcOCxCQ1BKSkFFRFVBMj9BRTJJRh1eQks5TzsqUDxMYEpBRFc1O000OjRITDQgOTZVOEVKTTxLFyhHRkc+XVY/QSJdTzQvOUE5S0E1QE5DQVg7RA==",
          "dtype": "i1"
         },
         "y": {
          "bdata": "Wl9LWkFKVFU/SkhZZFxdUTdLRllKVlhkTFNLM1s2TUZkVFRWREJfPEZGUU9cXD9OVEtDQFJPN0xeTkJJYV9KNmM5R0hdOjpVUUpVWFVWWkxOV1k9YVdKTk5DWFNkSEtQZEdCOEtkTzNKUFxYT1FPUFZGPElUTUBOUihjSlJOUT89VUZeYFpLTVlCSVo7S0NPVTszREBaRFZWUkBSLEFHSEZMZFVOTjBkVD0+TT1LTUwyUldWUmNHTg==",
          "dtype": "i1"
         },
         "z": {
          "bdata": "WFxGWD5MV1ZJSEZiZFldVDZRQlhOV1VkTk5GNlc6TT5kVVZYSkleSkRGUU1fXUtOUVNFS1tUPEpfUEVGYGRNQ2Q4Sk9dQENQT01VVVpUW1NMXFw+XlVJTk9JXlNhT09QZE5AOlBjSDdRUVhaUFFRTGJKPEdUTkJMTCxkUVpPUkA6VUpXY1hNUF5JSFVBTUhSUj4sSUNcRlFZWUpPJEBQTEZQX1tPUilkW0JCUEdJU0s8TVtTTl9BTQ==",
          "dtype": "i1"
         }
        },
        {
         "customdata": [
          [
           "associate's degree",
           "free/reduced"
          ],
          [
           "some college",
           "standard"
          ],
          [
           "some college",
           "free/reduced"
          ],
          [
           "associate's degree",
           "standard"
          ],
          [
           "associate's degree",
           "standard"
          ],
          [
           "high school",
           "standard"
          ],
          [
           "high school",
           "standard"
          ],
          [
           "some college",
           "standard"
          ],
          [
           "master's degree",
           "free/reduced"
          ],
          [
           "some college",
           "standard"
          ],
          [
           "high school",
           "standard"
          ],
          [
           "some college",
           "standard"
          ],
          [
           "some college",
           "standard"
          ],
          [
           "associate's degree",
           "free/reduced"
          ],
          [
           "associate's degree",
           "free/reduced"
          ],
          [
           "associate's degree",
           "standard"
          ],
          [
           "some college",
           "standard"
          ],
          [
           "some college",
           "standard"
          ],
          [
           "high school",
           "standard"
          ],
          [
           "associate's degree",
           "standard"
          ],
          [
           "some high school",
           "free/reduced"
          ],
          [
           "associate's degree",
           "free/reduced"
          ],
          [
           "some high school",
           "standard"
          ],
          [
           "some high school",
           "free/reduced"
          ],
          [
           "associate's degree",
           "free/reduced"
          ],
          [
           "some high school",
           "free/reduced"
          ],
          [
           "some high school",
           "standard"
          ],
          [
           "associate's degree",
           "free/reduced"
          ],
          [
           "some high school",
           "standard"
          ],
          [
           "high school",
           "free/reduced"
          ],
          [
           "associate's degree",
           "standard"
          ],
          [
           "high school",
           "free/reduced"
          ],
          [
           "high school",
           "free/reduced"
          ],
          [
           "high school",
           "standard"
          ],
          [
           "some college",
           "standard"
          ],
          [
           "high school",
           "standard"
          ],
          [
           "associate's degree",
           "standard"
          ],
          [
           "high school",
           "standard"
          ],
          [
           "high school",
           "free/reduced"
          ],
          [
           "some college",
           "standard"
          ],
          [
           "some high school",
           "standard"
          ],
          [
           "master's degree",
           "standard"
          ],
          [
           "master's degree",
           "standard"
          ],
          [
           "bachelor's degree",
           "standard"
          ],
          [
           "high school",
           "standard"
          ],
          [
           "high school",
           "standard"
          ],
          [
           "some college",
           "standard"
          ],
          [
           "some high school",
           "standard"
          ],
          [
           "associate's degree",
           "free/reduced"
          ],
          [
           "bachelor's degree",
           "standard"
          ],
          [
           "bachelor's degree",
           "standard"
          ],
          [
           "some high school",
           "standard"
          ],
          [
           "some college",
           "free/reduced"
          ],
          [
           "associate's degree",
           "free/reduced"
          ],
          [
           "master's degree",
           "free/reduced"
          ],
          [
           "high school",
           "standard"
          ],
          [
           "some high school",
           "standard"
          ],
          [
           "high school",
           "standard"
          ],
          [
           "some high school",
           "free/reduced"
          ],
          [
           "associate's degree",
           "standard"
          ],
          [
           "high school",
           "free/reduced"
          ],
          [
           "associate's degree",
           "standard"
          ],
          [
           "some college",
           "standard"
          ],
          [
           "bachelor's degree",
           "standard"
          ],
          [
           "some college",
           "free/reduced"
          ],
          [
           "high school",
           "free/reduced"
          ],
          [
           "associate's degree",
           "standard"
          ],
          [
           "some high school",
           "standard"
          ],
          [
           "high school",
           "standard"
          ],
          [
           "some high school",
           "free/reduced"
          ],
          [
           "some college",
           "standard"
          ],
          [
           "associate's degree",
           "standard"
          ],
          [
           "some high school",
           "standard"
          ],
          [
           "associate's degree",
           "standard"
          ],
          [
           "bachelor's degree",
           "free/reduced"
          ],
          [
           "some college",
           "standard"
          ],
          [
           "associate's degree",
           "standard"
          ],
          [
           "some college",
           "standard"
          ],
          [
           "some high school",
           "standard"
          ],
          [
           "associate's degree",
           "standard"
          ],
          [
           "associate's degree",
           "standard"
          ],
          [
           "high school",
           "standard"
          ],
          [
           "master's degree",
           "standard"
          ],
          [
           "high school",
           "standard"
          ],
          [
           "high school",
           "standard"
          ],
          [
           "some high school",
           "free/reduced"
          ],
          [
           "bachelor's degree",
           "standard"
          ],
          [
           "some college",
           "standard"
          ],
          [
           "bachelor's degree",
           "standard"
          ],
          [
           "bachelor's degree",
           "free/reduced"
          ],
          [
           "high school",
           "standard"
          ],
          [
           "high school",
           "standard"
          ],
          [
           "bachelor's degree",
           "free/reduced"
          ],
          [
           "associate's degree",
           "standard"
          ],
          [
           "some high school",
           "standard"
          ],
          [
           "associate's degree",
           "free/reduced"
          ],
          [
           "associate's degree",
           "free/reduced"
          ],
          [
           "some high school",
           "free/reduced"
          ],
          [
           "associate's degree",
           "standard"
          ],
          [
           "some college",
           "standard"
          ],
          [
           "some high school",
           "standard"
          ],
          [
           "bachelor's degree",
           "standard"
          ],
          [
           "high school",
           "standard"
          ],
          [
           "associate's degree",
           "standard"
          ],
          [
           "bachelor's degree",
           "standard"
          ],
          [
           "some college",
           "standard"
          ],
          [
           "some college",
           "free/reduced"
          ],
          [
           "high school",
           "standard"
          ],
          [
           "associate's degree",
           "standard"
          ],
          [
           "associate's degree",
           "standard"
          ],
          [
           "associate's degree",
           "standard"
          ],
          [
           "high school",
           "free/reduced"
          ],
          [
           "some college",
           "standard"
          ],
          [
           "some college",
           "standard"
          ],
          [
           "high school",
           "free/reduced"
          ],
          [
           "associate's degree",
           "standard"
          ],
          [
           "some college",
           "standard"
          ],
          [
           "associate's degree",
           "standard"
          ],
          [
           "some college",
           "free/reduced"
          ],
          [
           "some college",
           "standard"
          ],
          [
           "bachelor's degree",
           "free/reduced"
          ],
          [
           "some college",
           "standard"
          ],
          [
           "some high school",
           "standard"
          ],
          [
           "associate's degree",
           "free/reduced"
          ],
          [
           "bachelor's degree",
           "standard"
          ],
          [
           "master's degree",
           "free/reduced"
          ],
          [
           "master's degree",
           "standard"
          ],
          [
           "some college",
           "standard"
          ],
          [
           "high school",
           "free/reduced"
          ],
          [
           "some high school",
           "standard"
          ],
          [
           "some high school",
           "standard"
          ],
          [
           "some college",
           "standard"
          ],
          [
           "associate's degree",
           "standard"
          ],
          [
           "high school",
           "standard"
          ],
          [
           "associate's degree",
           "standard"
          ],
          [
           "some college",
           "standard"
          ],
          [
           "some college",
           "free/reduced"
          ],
          [
           "bachelor's degree",
           "standard"
          ],
          [
           "some high school",
           "free/reduced"
          ],
          [
           "some high school",
           "free/reduced"
          ],
          [
           "some high school",
           "free/reduced"
          ],
          [
           "associate's degree",
           "free/reduced"
          ],
          [
           "high school",
           "standard"
          ],
          [
           "some high school",
           "standard"
          ],
          [
           "associate's degree",
           "standard"
          ],
          [
           "associate's degree",
           "free/reduced"
          ],
          [
           "high school",
           "standard"
          ],
          [
           "some high school",
           "free/reduced"
          ],
          [
           "some college",
           "free/reduced"
          ],
          [
           "high school",
           "standard"
          ],
          [
           "associate's degree",
           "standard"
          ],
          [
           "some college",
           "free/reduced"
          ],
          [
           "bachelor's degree",
           "free/reduced"
          ],
          [
           "associate's degree",
           "free/reduced"
          ],
          [
           "bachelor's degree",
           "free/reduced"
          ],
          [
           "some college",
           "free/reduced"
          ],
          [
           "some college",
           "standard"
          ],
          [
           "associate's degree",
           "standard"
          ],
          [
           "associate's degree",
           "standard"
          ],
          [
           "some college",
           "free/reduced"
          ],
          [
           "high school",
           "standard"
          ],
          [
           "high school",
           "standard"
          ],
          [
           "some college",
           "free/reduced"
          ],
          [
           "some college",
           "standard"
          ],
          [
           "some college",
           "free/reduced"
          ],
          [
           "high school",
           "standard"
          ],
          [
           "bachelor's degree",
           "free/reduced"
          ],
          [
           "master's degree",
           "standard"
          ],
          [
           "some college",
           "standard"
          ],
          [
           "some high school",
           "standard"
          ],
          [
           "some high school",
           "free/reduced"
          ],
          [
           "some college",
           "standard"
          ],
          [
           "bachelor's degree",
           "standard"
          ],
          [
           "master's degree",
           "free/reduced"
          ],
          [
           "some college",
           "standard"
          ],
          [
           "master's degree",
           "standard"
          ],
          [
           "some high school",
           "free/reduced"
          ],
          [
           "some college",
           "free/reduced"
          ],
          [
           "associate's degree",
           "standard"
          ],
          [
           "master's degree",
           "free/reduced"
          ],
          [
           "some high school",
           "standard"
          ],
          [
           "bachelor's degree",
           "free/reduced"
          ],
          [
           "associate's degree",
           "standard"
          ],
          [
           "high school",
           "free/reduced"
          ],
          [
           "bachelor's degree",
           "free/reduced"
          ],
          [
           "bachelor's degree",
           "standard"
          ],
          [
           "some college",
           "free/reduced"
          ],
          [
           "some high school",
           "standard"
          ],
          [
           "bachelor's degree",
           "standard"
          ],
          [
           "high school",
           "free/reduced"
          ],
          [
           "some high school",
           "standard"
          ],
          [
           "high school",
           "free/reduced"
          ],
          [
           "some high school",
           "standard"
          ],
          [
           "bachelor's degree",
           "standard"
          ],
          [
           "master's degree",
           "standard"
          ],
          [
           "bachelor's degree",
           "free/reduced"
          ],
          [
           "associate's degree",
           "standard"
          ],
          [
           "some college",
           "free/reduced"
          ],
          [
           "some college",
           "standard"
          ],
          [
           "high school",
           "standard"
          ],
          [
           "some high school",
           "standard"
          ],
          [
           "high school",
           "standard"
          ],
          [
           "some college",
           "standard"
          ],
          [
           "high school",
           "standard"
          ],
          [
           "high school",
           "standard"
          ],
          [
           "associate's degree",
           "free/reduced"
          ],
          [
           "some high school",
           "standard"
          ],
          [
           "associate's degree",
           "standard"
          ],
          [
           "some college",
           "free/reduced"
          ],
          [
           "some high school",
           "standard"
          ],
          [
           "associate's degree",
           "standard"
          ],
          [
           "some college",
           "standard"
          ],
          [
           "associate's degree",
           "free/reduced"
          ],
          [
           "associate's degree",
           "free/reduced"
          ],
          [
           "some college",
           "free/reduced"
          ],
          [
           "high school",
           "standard"
          ],
          [
           "high school",
           "standard"
          ],
          [
           "associate's degree",
           "free/reduced"
          ],
          [
           "high school",
           "free/reduced"
          ],
          [
           "some college",
           "free/reduced"
          ],
          [
           "high school",
           "free/reduced"
          ],
          [
           "bachelor's degree",
           "free/reduced"
          ],
          [
           "high school",
           "standard"
          ],
          [
           "some college",
           "standard"
          ],
          [
           "high school",
           "standard"
          ],
          [
           "master's degree",
           "standard"
          ],
          [
           "high school",
           "standard"
          ],
          [
           "some college",
           "standard"
          ],
          [
           "some college",
           "standard"
          ],
          [
           "some high school",
           "free/reduced"
          ],
          [
           "some high school",
           "standard"
          ],
          [
           "master's degree",
           "standard"
          ],
          [
           "associate's degree",
           "standard"
          ],
          [
           "associate's degree",
           "standard"
          ],
          [
           "high school",
           "free/reduced"
          ],
          [
           "bachelor's degree",
           "standard"
          ],
          [
           "some college",
           "free/reduced"
          ],
          [
           "associate's degree",
           "standard"
          ],
          [
           "high school",
           "standard"
          ],
          [
           "some college",
           "standard"
          ],
          [
           "some college",
           "standard"
          ],
          [
           "associate's degree",
           "free/reduced"
          ],
          [
           "some college",
           "standard"
          ],
          [
           "some college",
           "standard"
          ],
          [
           "some college",
           "free/reduced"
          ],
          [
           "high school",
           "standard"
          ],
          [
           "bachelor's degree",
           "standard"
          ],
          [
           "some college",
           "standard"
          ],
          [
           "associate's degree",
           "free/reduced"
          ],
          [
           "high school",
           "free/reduced"
          ],
          [
           "high school",
           "standard"
          ],
          [
           "some college",
           "standard"
          ],
          [
           "some college",
           "free/reduced"
          ],
          [
           "high school",
           "standard"
          ],
          [
           "bachelor's degree",
           "standard"
          ],
          [
           "some high school",
           "standard"
          ],
          [
           "high school",
           "free/reduced"
          ],
          [
           "high school",
           "standard"
          ],
          [
           "some high school",
           "standard"
          ],
          [
           "bachelor's degree",
           "standard"
          ],
          [
           "some college",
           "standard"
          ],
          [
           "high school",
           "standard"
          ],
          [
           "some high school",
           "standard"
          ],
          [
           "master's degree",
           "standard"
          ],
          [
           "high school",
           "standard"
          ],
          [
           "associate's degree",
           "standard"
          ],
          [
           "master's degree",
           "standard"
          ],
          [
           "some high school",
           "standard"
          ],
          [
           "some high school",
           "standard"
          ],
          [
           "some college",
           "free/reduced"
          ],
          [
           "associate's degree",
           "free/reduced"
          ],
          [
           "associate's degree",
           "standard"
          ],
          [
           "high school",
           "free/reduced"
          ],
          [
           "associate's degree",
           "standard"
          ],
          [
           "associate's degree",
           "free/reduced"
          ],
          [
           "high school",
           "standard"
          ],
          [
           "associate's degree",
           "free/reduced"
          ],
          [
           "some college",
           "free/reduced"
          ],
          [
           "some college",
           "standard"
          ],
          [
           "some high school",
           "standard"
          ],
          [
           "bachelor's degree",
           "free/reduced"
          ],
          [
           "high school",
           "free/reduced"
          ],
          [
           "high school",
           "free/reduced"
          ],
          [
           "high school",
           "free/reduced"
          ],
          [
           "master's degree",
           "standard"
          ],
          [
           "some college",
           "standard"
          ],
          [
           "high school",
           "standard"
          ],
          [
           "bachelor's degree",
           "free/reduced"
          ],
          [
           "high school",
           "free/reduced"
          ],
          [
           "high school",
           "standard"
          ],
          [
           "high school",
           "free/reduced"
          ],
          [
           "associate's degree",
           "free/reduced"
          ],
          [
           "some college",
           "free/reduced"
          ],
          [
           "some college",
           "free/reduced"
          ],
          [
           "associate's degree",
           "standard"
          ],
          [
           "high school",
           "standard"
          ],
          [
           "high school",
           "standard"
          ],
          [
           "high school",
           "standard"
          ],
          [
           "associate's degree",
           "standard"
          ],
          [
           "some college",
           "standard"
          ],
          [
           "high school",
           "standard"
          ],
          [
           "some college",
           "standard"
          ],
          [
           "some college",
           "standard"
          ],
          [
           "associate's degree",
           "standard"
          ],
          [
           "some high school",
           "standard"
          ],
          [
           "high school",
           "standard"
          ],
          [
           "high school",
           "standard"
          ],
          [
           "high school",
           "free/reduced"
          ]
         ],
         "hovertemplate": "gender=male<br>test_preparation_course=none<br>math_score=%{x}<br>reading_score=%{y}<br>writing_score=%{z}<br>parental_level_of_education=%{customdata[0]}<br>lunch=%{customdata[1]}<extra></extra>",
         "legendgroup": "male, none",
         "marker": {
          "color": "#EF553B",
          "symbol": "circle"
         },
         "mode": "markers",
         "name": "male, none",
         "scene": "scene",
         "showlegend": true,
         "type": "scatter3d",
         "x": {
          "bdata": "L0woOihYQixJRUYoYTk3QTU1WDQnPkMtPT0xLB4xSCobR08+NlQ/U0hSWTpGOVhYSU02PjxCMTReUDA9N0U7UiNCV1Y5REwuXFA/NlQ7S1VZRFA2TDtFOlNJNS1YTFZDWjhQRTNCR1M/PRxHL1oxOk8+S1dCPzs7PVRKLkJPSUwwSjw1R1RKRClWRUFEQD1JS0tGT0UvUUElNTU2W1BMRDtGPUw/RDdPTEA+R0U2RE9PTTU9STAwP0RbOkdEHjU8S1hfPj0xQ09UR1YpRk1FWkpJUEk0UT88Pk01XUI+LkJZUTIvNTc3Q1xRPVA3SEVFRDo3PDo0S0JEQkZFS1o7My0+REA6SUBaQFBHUj5LV2E7PTE7WlBROTc2LCRVWDkyRUhKQD5GQ1FSXkhUS0g/PlE5Pz4=",
          "dtype": "i1"
         },
         "y": {
          "bdata": "OU4rNjRZRTZKNkYqVzg9NjcsTjcnPUAlOjkxKRotQCciT0M3NU05UERSVDc3K0lUREMxQzw+NTVYTDQ3OE0pPhxNVVAySEArV0tCNFAzSkxMPFA0SSo/MU44NDBLRkk+VzZMQzQ8QkhHPRc8JU4zPUk9Sko5PT48Qk1KK0BRRkMtPzsrQklJOydTRzs/QjhCREI4UkIuSTo4Njo2SkRHRDRKL0c9RjtORzIxMTo7PEhMPi1DQjMrMERgOT5EGDY5SE5RPzA5QDxUSkw0QUNCV01CP0o5Sz1EN046WkJIIjtXUTArJy4vOU9HPEk3T0tASDc6PzwwSUFBSkY8UUs2Hy9DNjwyQDpVNktDQ0BESV01KjM6WkBSPS5IMx1UTTAqRkJGODk/OUJSSTlXUTk/QU4zPzc=",
          "dtype": "i1"
         },
         "z": {
          "bdata": "LEsnNCtWPzVIN0EmUjk2OTAqSzEiNz0lODgpJhYtPyIkR0MxL0o4SUNKUjA4L05LQkQvPTxANDFOQS00M0UqPhtGSUs2QEIqTk1DM1ArRUdKNUg0RCk9Kkk5Ki5MREY8SzRARSw5QU5FPhM9I1ErNEM5Qkw0PT06PUdIKT5HS0MpOTYrPEVDPiJWQTU2OzdCQEkzSTwqSDEvMDctTEhDPS5HOEg2QjZNSSs0NDkyO0VBQChCPi4tL0NcNjJADzAzPlNUOC4uRkFQQEozPEA9VUk/Pz0yTjw8NkksUztBJDRPVCopJSssO1RJN0gvSkdEQTU0OzkxSjw9RUY2SkUzJDE6NTotOTNUMkVDPTdBSFs0KTMvUkJUNiw7MBtZTTMwQ0JFND46NUBQRz5RRzo8Ok42Pjc=",
          "dtype": "i1"
         }
        },
        {
         "customdata": [
          [
           "high school",
           "free/reduced"
          ],
          [
           "some college",
           "standard"
          ],
          [
           "master's degree",
           "free/reduced"
          ],
          [
           "bachelor's degree",
           "free/reduced"
          ],
          [
           "associate's degree",
           "standard"
          ],
          [
           "some college",
           "free/reduced"
          ],
          [
           "high school",
           "standard"
          ],
          [
           "associate's degree",
           "free/reduced"
          ],
          [
           "some college",
           "standard"
          ],
          [
           "bachelor's degree",
           "free/reduced"
          ],
          [
           "some college",
           "standard"
          ],
          [
           "bachelor's degree",
           "standard"
          ],
          [
           "some college",
           "free/reduced"
          ],
          [
           "associate's degree",
           "free/reduced"
          ],
          [
           "associate's degree",
           "free/reduced"
          ],
          [
           "some high school",
           "standard"
          ],
          [
           "bachelor's degree",
           "standard"
          ],
          [
           "high school",
           "standard"
          ],
          [
           "some college",
           "standard"
          ],
          [
           "associate's degree",
           "standard"
          ],
          [
           "associate's degree",
           "standard"
          ],
          [
           "some college",
           "standard"
          ],
          [
           "some high school",
           "free/reduced"
          ],
          [
           "some college",
           "free/reduced"
          ],
          [
           "bachelor's degree",
           "free/reduced"
          ],
          [
           "some high school",
           "standard"
          ],
          [
           "some college",
           "standard"
          ],
          [
           "associate's degree",
           "free/reduced"
          ],
          [
           "some high school",
           "standard"
          ],
          [
           "associate's degree",
           "free/reduced"
          ],
          [
           "high school",
           "free/reduced"
          ],
          [
           "high school",
           "standard"
          ],
          [
           "master's degree",
           "free/reduced"
          ],
          [
           "some high school",
           "free/reduced"
          ],
          [
           "associate's degree",
           "free/reduced"
          ],
          [
           "some high school",
           "standard"
          ],
          [
           "some college",
           "standard"
          ],
          [
           "some college",
           "standard"
          ],
          [
           "some high school",
           "free/reduced"
          ],
          [
           "some high school",
           "standard"
          ],
          [
           "high school",
           "standard"
          ],
          [
           "some high school",
           "free/reduced"
          ],
          [
           "associate's degree",
           "free/reduced"
          ],
          [
           "high school",
           "standard"
          ],
          [
           "some high school",
           "standard"
          ],
          [
           "some high school",
           "standard"
          ],
          [
           "bachelor's degree",
           "standard"
          ],
          [
           "high school",
           "free/reduced"
          ],
          [
           "some high school",
           "standard"
          ],
          [
           "associate's degree",
           "standard"
          ],
          [
           "some college",
           "standard"
          ],
          [
           "some college",
           "standard"
          ],
          [
           "associate's degree",
           "standard"
          ],
          [
           "associate's degree",
           "standard"
          ],
          [
           "some high school",
           "standard"
          ],
          [
           "some high school",
           "standard"
          ],
          [
           "high school",
           "free/reduced"
          ],
          [
           "some high school",
           "standard"
          ],
          [
           "associate's degree",
           "standard"
          ],
          [
           "high school",
           "free/reduced"
          ],
          [
           "some college",
           "free/reduced"
          ],
          [
           "some college",
           "standard"
          ],
          [
           "bachelor's degree",
           "standard"
          ],
          [
           "associate's degree",
           "standard"
          ],
          [
           "associate's degree",
           "standard"
          ],
          [
           "some high school",
           "standard"
          ],
          [
           "associate's degree",
           "standard"
          ],
          [
           "some high school",
           "standard"
          ],
          [
           "bachelor's degree",
           "free/reduced"
          ],
          [
           "high school",
           "standard"
          ],
          [
           "associate's degree",
           "standard"
          ],
          [
           "some high school",
           "free/reduced"
          ],
          [
           "associate's degree",
           "standard"
          ],
          [
           "associate's degree",
           "standard"
          ],
          [
           "associate's degree",
           "standard"
          ],
          [
           "some college",
           "standard"
          ],
          [
           "some high school",
           "standard"
          ],
          [
           "bachelor's degree",
           "standard"
          ],
          [
           "high school",
           "free/reduced"
          ],
          [
           "some college",
           "free/reduced"
          ],
          [
           "some high school",
           "standard"
          ],
          [
           "high school",
           "standard"
          ],
          [
           "high school",
           "standard"
          ],
          [
           "bachelor's degree",
           "standard"
          ],
          [
           "high school",
           "free/reduced"
          ],
          [
           "bachelor's degree",
           "standard"
          ],
          [
           "high school",
           "standard"
          ],
          [
           "some high school",
           "standard"
          ],
          [
           "associate's degree",
           "free/reduced"
          ],
          [
           "high school",
           "standard"
          ],
          [
           "high school",
           "standard"
          ],
          [
           "some high school",
           "free/reduced"
          ],
          [
           "associate's degree",
           "standard"
          ],
          [
           "high school",
           "standard"
          ],
          [
           "associate's degree",
           "standard"
          ],
          [
           "bachelor's degree",
           "standard"
          ],
          [
           "associate's degree",
           "standard"
          ],
          [
           "high school",
           "standard"
          ],
          [
           "associate's degree",
           "free/reduced"
          ],
          [
           "some high school",
           "free/reduced"
          ],
          [
           "high school",
           "standard"
          ],
          [
           "bachelor's degree",
           "free/reduced"
          ],
          [
           "bachelor's degree",
           "standard"
          ],
          [
           "some college",
           "standard"
          ],
          [
           "associate's degree",
           "free/reduced"
          ],
          [
           "some college",
           "standard"
          ],
          [
           "master's degree",
           "free/reduced"
          ],
          [
           "some college",
           "free/reduced"
          ],
          [
           "bachelor's degree",
           "standard"
          ],
          [
           "associate's degree",
           "free/reduced"
          ],
          [
           "high school",
           "free/reduced"
          ],
          [
           "some college",
           "standard"
          ],
          [
           "some college",
           "standard"
          ],
          [
           "associate's degree",
           "free/reduced"
          ],
          [
           "some high school",
           "free/reduced"
          ],
          [
           "associate's degree",
           "standard"
          ],
          [
           "some college",
           "standard"
          ],
          [
           "some college",
           "standard"
          ],
          [
           "bachelor's degree",
           "standard"
          ],
          [
           "some college",
           "standard"
          ],
          [
           "associate's degree",
           "standard"
          ],
          [
           "associate's degree",
           "free/reduced"
          ],
          [
           "some high school",
           "free/reduced"
          ],
          [
           "some college",
           "standard"
          ],
          [
           "some high school",
           "standard"
          ],
          [
           "some college",
           "standard"
          ],
          [
           "some high school",
           "standard"
          ],
          [
           "master's degree",
           "free/reduced"
          ],
          [
           "bachelor's degree",
           "free/reduced"
          ],
          [
           "some college",
           "standard"
          ],
          [
           "some high school",
           "standard"
          ],
          [
           "high school",
           "standard"
          ],
          [
           "associate's degree",
           "standard"
          ],
          [
           "bachelor's degree",
           "standard"
          ],
          [
           "some high school",
           "standard"
          ],
          [
           "some high school",
           "standard"
          ],
          [
           "some high school",
           "standard"
          ],
          [
           "some high school",
           "standard"
          ],
          [
           "some high school",
           "standard"
          ],
          [
           "bachelor's degree",
           "free/reduced"
          ],
          [
           "some college",
           "free/reduced"
          ],
          [
           "associate's degree",
           "free/reduced"
          ],
          [
           "some college",
           "free/reduced"
          ],
          [
           "master's degree",
           "standard"
          ],
          [
           "high school",
           "standard"
          ],
          [
           "bachelor's degree",
           "free/reduced"
          ],
          [
           "some college",
           "standard"
          ],
          [
           "associate's degree",
           "free/reduced"
          ],
          [
           "associate's degree",
           "standard"
          ],
          [
           "bachelor's degree",
           "standard"
          ],
          [
           "some high school",
           "standard"
          ],
          [
           "associate's degree",
           "standard"
          ],
          [
           "bachelor's degree",
           "standard"
          ],
          [
           "bachelor's degree",
           "standard"
          ],
          [
           "some college",
           "standard"
          ],
          [
           "some high school",
           "standard"
          ],
          [
           "associate's degree",
           "free/reduced"
          ],
          [
           "some college",
           "free/reduced"
          ],
          [
           "associate's degree",
           "free/reduced"
          ],
          [
           "bachelor's degree",
           "free/reduced"
          ],
          [
           "associate's degree",
           "standard"
          ],
          [
           "some college",
           "standard"
          ],
          [
           "some high school",
           "standard"
          ],
          [
           "master's degree",
           "free/reduced"
          ],
          [
           "some high school",
           "free/reduced"
          ],
          [
           "some high school",
           "free/reduced"
          ],
          [
           "high school",
           "standard"
          ],
          [
           "some high school",
           "standard"
          ],
          [
           "some high school",
           "standard"
          ],
          [
           "some college",
           "free/reduced"
          ],
          [
           "high school",
           "standard"
          ],
          [
           "some high school",
           "standard"
          ],
          [
           "some high school",
           "standard"
          ],
          [
           "high school",
           "free/reduced"
          ]
         ],
         "hovertemplate": "gender=male<br>test_preparation_course=completed<br>math_score=%{x}<br>reading_score=%{y}<br>writing_score=%{z}<br>parental_level_of_education=%{customdata[0]}<br>lunch=%{customdata[1]}<extra></extra>",
         "legendgroup": "male, completed",
         "marker": {
          "color": "#EF553B",
          "symbol": "diamond"
         },
         "mode": "markers",
         "name": "male, completed",
         "scene": "scene",
         "showlegend": true,
         "type": "scatter3d",
         "x": {
          "bdata": "QE4uSlE7Uk06Tz9QMitOQUQ8YkJbQTVXSjNHZD5SNUg+LUE+TE07SlFQPFdUPVNJL05PWFFhTT9OLkcoUWNDUj5MQ1UxRVdJOUFXVD9HOTJZVkhLSExJQE9ENTg+STNVYUtPTkhXYEcoPVRFXkE6ZGRFM1E+VVddSVs3UURXR09GRU5MXltZQ0xXXj0xOkpbNCdSTlI/WENGZFtKLkM9RmJVTUg9MTpCTjw3T1FW",
          "dtype": "i1"
         },
         "y": {
          "bdata": "QEgqR1FBVEU7SjdOLy1RQkosVj9ZTSVKTzY9ZENOM0lENENCUz5FR1BPM1tTOFJEMU1PVVJSTDxNKUouTlc9SzhGSFQ6OmRDNkFUU0NKODBYUUE6Qz5HNVJAND09RTxCXEVSU0NaWks3M1k8WkkzYGFGOEhCS1RUTkk7SjNURU1ETVE+VVFUSVBUVkY0OU1VMSpSSlRASjZAZGBAK0pHS1dRREI+MjRESD4pVUtR",
          "dtype": "i1"
         },
         "z": {
          "bdata": "Q0YuUE9CUkQ6SD9RNjJSPkovWkBcSihGSylFXUVKM0pLMUFETz5BTkxPOFFLOFRCMU1OTFJYTTlQK0QyUVFETTVFQ048NV87OD9VTkNENjVSUEQ+QUJEOVJCMTw6RDpHVkRQUEBYXEY1NFo/W0Q0VmM/NU1ERFdaSFA7RzlWREtITVY8Uk9NRElMV0wzNUxVLiZYSE5CSz9GZFs8LEZJSlpVRUg9NDZARTwwVkxL",
          "dtype": "i1"
         }
        }
       ],
       "layout": {
        "legend": {
         "title": {
          "text": "gender, test_preparation_course"
         },
         "tracegroupgap": 0
        },
        "scene": {
         "domain": {
          "x": [
           0,
           1
          ],
          "y": [
           0,
           1
          ]
         },
         "xaxis": {
          "title": {
           "text": "math_score"
          }
         },
         "yaxis": {
          "title": {
           "text": "reading_score"
          }
         },
         "zaxis": {
          "title": {
           "text": "writing_score"
          }
         }
        },
        "template": {
         "data": {
          "bar": [
           {
            "error_x": {
             "color": "#2a3f5f"
            },
            "error_y": {
             "color": "#2a3f5f"
            },
            "marker": {
             "line": {
              "color": "#E5ECF6",
              "width": 0.5
             },
             "pattern": {
              "fillmode": "overlay",
              "size": 10,
              "solidity": 0.2
             }
            },
            "type": "bar"
           }
          ],
          "barpolar": [
           {
            "marker": {
             "line": {
              "color": "#E5ECF6",
              "width": 0.5
             },
             "pattern": {
              "fillmode": "overlay",
              "size": 10,
              "solidity": 0.2
             }
            },
            "type": "barpolar"
           }
          ],
          "carpet": [
           {
            "aaxis": {
             "endlinecolor": "#2a3f5f",
             "gridcolor": "white",
             "linecolor": "white",
             "minorgridcolor": "white",
             "startlinecolor": "#2a3f5f"
            },
            "baxis": {
             "endlinecolor": "#2a3f5f",
             "gridcolor": "white",
             "linecolor": "white",
             "minorgridcolor": "white",
             "startlinecolor": "#2a3f5f"
            },
            "type": "carpet"
           }
          ],
          "choropleth": [
           {
            "colorbar": {
             "outlinewidth": 0,
             "ticks": ""
            },
            "type": "choropleth"
           }
          ],
          "contour": [
           {
            "colorbar": {
             "outlinewidth": 0,
             "ticks": ""
            },
            "colorscale": [
             [
              0,
              "#0d0887"
             ],
             [
              0.1111111111111111,
              "#46039f"
             ],
             [
              0.2222222222222222,
              "#7201a8"
             ],
             [
              0.3333333333333333,
              "#9c179e"
             ],
             [
              0.4444444444444444,
              "#bd3786"
             ],
             [
              0.5555555555555556,
              "#d8576b"
             ],
             [
              0.6666666666666666,
              "#ed7953"
             ],
             [
              0.7777777777777778,
              "#fb9f3a"
             ],
             [
              0.8888888888888888,
              "#fdca26"
             ],
             [
              1,
              "#f0f921"
             ]
            ],
            "type": "contour"
           }
          ],
          "contourcarpet": [
           {
            "colorbar": {
             "outlinewidth": 0,
             "ticks": ""
            },
            "type": "contourcarpet"
           }
          ],
          "heatmap": [
           {
            "colorbar": {
             "outlinewidth": 0,
             "ticks": ""
            },
            "colorscale": [
             [
              0,
              "#0d0887"
             ],
             [
              0.1111111111111111,
              "#46039f"
             ],
             [
              0.2222222222222222,
              "#7201a8"
             ],
             [
              0.3333333333333333,
              "#9c179e"
             ],
             [
              0.4444444444444444,
              "#bd3786"
             ],
             [
              0.5555555555555556,
              "#d8576b"
             ],
             [
              0.6666666666666666,
              "#ed7953"
             ],
             [
              0.7777777777777778,
              "#fb9f3a"
             ],
             [
              0.8888888888888888,
              "#fdca26"
             ],
             [
              1,
              "#f0f921"
             ]
            ],
            "type": "heatmap"
           }
          ],
          "histogram": [
           {
            "marker": {
             "pattern": {
              "fillmode": "overlay",
              "size": 10,
              "solidity": 0.2
             }
            },
            "type": "histogram"
           }
          ],
          "histogram2d": [
           {
            "colorbar": {
             "outlinewidth": 0,
             "ticks": ""
            },
            "colorscale": [
             [
              0,
              "#0d0887"
             ],
             [
              0.1111111111111111,
              "#46039f"
             ],
             [
              0.2222222222222222,
              "#7201a8"
             ],
             [
              0.3333333333333333,
              "#9c179e"
             ],
             [
              0.4444444444444444,
              "#bd3786"
             ],
             [
              0.5555555555555556,
              "#d8576b"
             ],
             [
              0.6666666666666666,
              "#ed7953"
             ],
             [
              0.7777777777777778,
              "#fb9f3a"
             ],
             [
              0.8888888888888888,
              "#fdca26"
             ],
             [
              1,
              "#f0f921"
             ]
            ],
            "type": "histogram2d"
           }
          ],
          "histogram2dcontour": [
           {
            "colorbar": {
             "outlinewidth": 0,
             "ticks": ""
            },
            "colorscale": [
             [
              0,
              "#0d0887"
             ],
             [
              0.1111111111111111,
              "#46039f"
             ],
             [
              0.2222222222222222,
              "#7201a8"
             ],
             [
              0.3333333333333333,
              "#9c179e"
             ],
             [
              0.4444444444444444,
              "#bd3786"
             ],
             [
              0.5555555555555556,
              "#d8576b"
             ],
             [
              0.6666666666666666,
              "#ed7953"
             ],
             [
              0.7777777777777778,
              "#fb9f3a"
             ],
             [
              0.8888888888888888,
              "#fdca26"
             ],
             [
              1,
              "#f0f921"
             ]
            ],
            "type": "histogram2dcontour"
           }
          ],
          "mesh3d": [
           {
            "colorbar": {
             "outlinewidth": 0,
             "ticks": ""
            },
            "type": "mesh3d"
           }
          ],
          "parcoords": [
           {
            "line": {
             "colorbar": {
              "outlinewidth": 0,
              "ticks": ""
             }
            },
            "type": "parcoords"
           }
          ],
          "pie": [
           {
            "automargin": true,
            "type": "pie"
           }
          ],
          "scatter": [
           {
            "fillpattern": {
             "fillmode": "overlay",
             "size": 10,
             "solidity": 0.2
            },
            "type": "scatter"
           }
          ],
          "scatter3d": [
           {
            "line": {
             "colorbar": {
              "outlinewidth": 0,
              "ticks": ""
             }
            },
            "marker": {
             "colorbar": {
              "outlinewidth": 0,
              "ticks": ""
             }
            },
            "type": "scatter3d"
           }
          ],
          "scattercarpet": [
           {
            "marker": {
             "colorbar": {
              "outlinewidth": 0,
              "ticks": ""
             }
            },
            "type": "scattercarpet"
           }
          ],
          "scattergeo": [
           {
            "marker": {
             "colorbar": {
              "outlinewidth": 0,
              "ticks": ""
             }
            },
            "type": "scattergeo"
           }
          ],
          "scattergl": [
           {
            "marker": {
             "colorbar": {
              "outlinewidth": 0,
              "ticks": ""
             }
            },
            "type": "scattergl"
           }
          ],
          "scattermap": [
           {
            "marker": {
             "colorbar": {
              "outlinewidth": 0,
              "ticks": ""
             }
            },
            "type": "scattermap"
           }
          ],
          "scattermapbox": [
           {
            "marker": {
             "colorbar": {
              "outlinewidth": 0,
              "ticks": ""
             }
            },
            "type": "scattermapbox"
           }
          ],
          "scatterpolar": [
           {
            "marker": {
             "colorbar": {
              "outlinewidth": 0,
              "ticks": ""
             }
            },
            "type": "scatterpolar"
           }
          ],
          "scatterpolargl": [
           {
            "marker": {
             "colorbar": {
              "outlinewidth": 0,
              "ticks": ""
             }
            },
            "type": "scatterpolargl"
           }
          ],
          "scatterternary": [
           {
            "marker": {
             "colorbar": {
              "outlinewidth": 0,
              "ticks": ""
             }
            },
            "type": "scatterternary"
           }
          ],
          "surface": [
           {
            "colorbar": {
             "outlinewidth": 0,
             "ticks": ""
            },
            "colorscale": [
             [
              0,
              "#0d0887"
             ],
             [
              0.1111111111111111,
              "#46039f"
             ],
             [
              0.2222222222222222,
              "#7201a8"
             ],
             [
              0.3333333333333333,
              "#9c179e"
             ],
             [
              0.4444444444444444,
              "#bd3786"
             ],
             [
              0.5555555555555556,
              "#d8576b"
             ],
             [
              0.6666666666666666,
              "#ed7953"
             ],
             [
              0.7777777777777778,
              "#fb9f3a"
             ],
             [
              0.8888888888888888,
              "#fdca26"
             ],
             [
              1,
              "#f0f921"
             ]
            ],
            "type": "surface"
           }
          ],
          "table": [
           {
            "cells": {
             "fill": {
              "color": "#EBF0F8"
             },
             "line": {
              "color": "white"
             }
            },
            "header": {
             "fill": {
              "color": "#C8D4E3"
             },
             "line": {
              "color": "white"
             }
            },
            "type": "table"
           }
          ]
         },
         "layout": {
          "annotationdefaults": {
           "arrowcolor": "#2a3f5f",
           "arrowhead": 0,
           "arrowwidth": 1
          },
          "autotypenumbers": "strict",
          "coloraxis": {
           "colorbar": {
            "outlinewidth": 0,
            "ticks": ""
           }
          },
          "colorscale": {
           "diverging": [
            [
             0,
             "#8e0152"
            ],
            [
             0.1,
             "#c51b7d"
            ],
            [
             0.2,
             "#de77ae"
            ],
            [
             0.3,
             "#f1b6da"
            ],
            [
             0.4,
             "#fde0ef"
            ],
            [
             0.5,
             "#f7f7f7"
            ],
            [
             0.6,
             "#e6f5d0"
            ],
            [
             0.7,
             "#b8e186"
            ],
            [
             0.8,
             "#7fbc41"
            ],
            [
             0.9,
             "#4d9221"
            ],
            [
             1,
             "#276419"
            ]
           ],
           "sequential": [
            [
             0,
             "#0d0887"
            ],
            [
             0.1111111111111111,
             "#46039f"
            ],
            [
             0.2222222222222222,
             "#7201a8"
            ],
            [
             0.3333333333333333,
             "#9c179e"
            ],
            [
             0.4444444444444444,
             "#bd3786"
            ],
            [
             0.5555555555555556,
             "#d8576b"
            ],
            [
             0.6666666666666666,
             "#ed7953"
            ],
            [
             0.7777777777777778,
             "#fb9f3a"
            ],
            [
             0.8888888888888888,
             "#fdca26"
            ],
            [
             1,
             "#f0f921"
            ]
           ],
           "sequentialminus": [
            [
             0,
             "#0d0887"
            ],
            [
             0.1111111111111111,
             "#46039f"
            ],
            [
             0.2222222222222222,
             "#7201a8"
            ],
            [
             0.3333333333333333,
             "#9c179e"
            ],
            [
             0.4444444444444444,
             "#bd3786"
            ],
            [
             0.5555555555555556,
             "#d8576b"
            ],
            [
             0.6666666666666666,
             "#ed7953"
            ],
            [
             0.7777777777777778,
             "#fb9f3a"
            ],
            [
             0.8888888888888888,
             "#fdca26"
            ],
            [
             1,
             "#f0f921"
            ]
           ]
          },
          "colorway": [
           "#636efa",
           "#EF553B",
           "#00cc96",
           "#ab63fa",
           "#FFA15A",
           "#19d3f3",
           "#FF6692",
           "#B6E880",
           "#FF97FF",
           "#FECB52"
          ],
          "font": {
           "color": "#2a3f5f"
          },
          "geo": {
           "bgcolor": "white",
           "lakecolor": "white",
           "landcolor": "#E5ECF6",
           "showlakes": true,
           "showland": true,
           "subunitcolor": "white"
          },
          "hoverlabel": {
           "align": "left"
          },
          "hovermode": "closest",
          "mapbox": {
           "style": "light"
          },
          "paper_bgcolor": "white",
          "plot_bgcolor": "#E5ECF6",
          "polar": {
           "angularaxis": {
            "gridcolor": "white",
            "linecolor": "white",
            "ticks": ""
           },
           "bgcolor": "#E5ECF6",
           "radialaxis": {
            "gridcolor": "white",
            "linecolor": "white",
            "ticks": ""
           }
          },
          "scene": {
           "xaxis": {
            "backgroundcolor": "#E5ECF6",
            "gridcolor": "white",
            "gridwidth": 2,
            "linecolor": "white",
            "showbackground": true,
            "ticks": "",
            "zerolinecolor": "white"
           },
           "yaxis": {
            "backgroundcolor": "#E5ECF6",
            "gridcolor": "white",
            "gridwidth": 2,
            "linecolor": "white",
            "showbackground": true,
            "ticks": "",
            "zerolinecolor": "white"
           },
           "zaxis": {
            "backgroundcolor": "#E5ECF6",
            "gridcolor": "white",
            "gridwidth": 2,
            "linecolor": "white",
            "showbackground": true,
            "ticks": "",
            "zerolinecolor": "white"
           }
          },
          "shapedefaults": {
           "line": {
            "color": "#2a3f5f"
           }
          },
          "ternary": {
           "aaxis": {
            "gridcolor": "white",
            "linecolor": "white",
            "ticks": ""
           },
           "baxis": {
            "gridcolor": "white",
            "linecolor": "white",
            "ticks": ""
           },
           "bgcolor": "#E5ECF6",
           "caxis": {
            "gridcolor": "white",
            "linecolor": "white",
            "ticks": ""
           }
          },
          "title": {
           "x": 0.05
          },
          "xaxis": {
           "automargin": true,
           "gridcolor": "white",
           "linecolor": "white",
           "ticks": "",
           "title": {
            "standoff": 15
           },
           "zerolinecolor": "white",
           "zerolinewidth": 2
          },
          "yaxis": {
           "automargin": true,
           "gridcolor": "white",
           "linecolor": "white",
           "ticks": "",
           "title": {
            "standoff": 15
           },
           "zerolinecolor": "white",
           "zerolinewidth": 2
          }
         }
        },
        "title": {
         "text": "3D Score Distribution by Gender & Test Prep"
        }
       }
      }
     },
     "metadata": {},
     "output_type": "display_data"
    }
   ],
   "source": [
    "#3D Scatter Plot\n",
    "fig = px.scatter_3d(df, x='math_score', y='reading_score', z='writing_score',\n",
    "                   color='gender', symbol='test_preparation_course',\n",
    "                   title='3D Score Distribution by Gender & Test Prep',\n",
    "                   hover_data=['parental_level_of_education', 'lunch'])\n",
    "fig.show()"
   ]
  },
  {
   "cell_type": "code",
   "execution_count": 21,
   "id": "b0d7b83c",
   "metadata": {},
   "outputs": [
    {
     "data": {
      "application/vnd.plotly.v1+json": {
       "config": {
        "plotlyServerURL": "https://plot.ly"
       },
       "data": [
        {
         "branchvalues": "total",
         "domain": {
          "x": [
           0,
           1
          ],
          "y": [
           0,
           1
          ]
         },
         "hovertemplate": "labels=%{label}<br>math_score=%{value}<br>parent=%{parent}<br>id=%{id}<extra></extra>",
         "ids": [
          "group B/bachelor's degree/female",
          "group C/some college/female",
          "group B/master's degree/female",
          "group A/associate's degree/male",
          "group C/some college/male",
          "group B/associate's degree/female",
          "group B/some college/female",
          "group B/some college/male",
          "group D/high school/male",
          "group B/high school/female",
          "group C/associate's degree/male",
          "group D/associate's degree/male",
          "group A/some college/male",
          "group A/master's degree/female",
          "group C/some high school/female",
          "group C/high school/male",
          "group B/some high school/female",
          "group C/master's degree/male",
          "group C/associate's degree/female",
          "group D/some college/male",
          "group D/bachelor's degree/male",
          "group A/master's degree/male",
          "group C/bachelor's degree/female",
          "group D/master's degree/female",
          "group D/some college/female",
          "group E/master's degree/female",
          "group E/some college/male",
          "group E/associate's degree/male",
          "group D/associate's degree/female",
          "group D/some high school/female",
          "group B/associate's degree/male",
          "group E/associate's degree/female",
          "group A/associate's degree/female",
          "group C/high school/female",
          "group E/bachelor's degree/male",
          "group A/some high school/male",
          "group B/some high school/male",
          "group D/some high school/male",
          "group C/some high school/male",
          "group E/some high school/male",
          "group A/bachelor's degree/male",
          "group B/high school/male",
          "group A/some college/female",
          "group E/some college/female",
          "group D/bachelor's degree/female",
          "group E/bachelor's degree/female",
          "group D/master's degree/male",
          "group A/bachelor's degree/female",
          "group C/bachelor's degree/male",
          "group E/high school/male",
          "group A/high school/male",
          "group E/high school/female",
          "group B/master's degree/male",
          "group C/master's degree/female",
          "group D/high school/female",
          "group B/bachelor's degree/male",
          "group A/some high school/female",
          "group E/some high school/female",
          "group A/high school/female",
          "group E/master's degree/male",
          "group B/bachelor's degree",
          "group C/some college",
          "group B/master's degree",
          "group A/associate's degree",
          "group B/associate's degree",
          "group B/some college",
          "group D/high school",
          "group B/high school",
          "group C/associate's degree",
          "group D/associate's degree",
          "group A/some college",
          "group A/master's degree",
          "group C/some high school",
          "group C/high school",
          "group B/some high school",
          "group C/master's degree",
          "group D/some college",
          "group D/bachelor's degree",
          "group C/bachelor's degree",
          "group D/master's degree",
          "group E/master's degree",
          "group E/some college",
          "group E/associate's degree",
          "group D/some high school",
          "group E/bachelor's degree",
          "group A/some high school",
          "group E/some high school",
          "group A/bachelor's degree",
          "group E/high school",
          "group A/high school",
          "group B",
          "group C",
          "group A",
          "group D",
          "group E"
         ],
         "labels": [
          "female",
          "female",
          "female",
          "male",
          "male",
          "female",
          "female",
          "male",
          "male",
          "female",
          "male",
          "male",
          "male",
          "female",
          "female",
          "male",
          "female",
          "male",
          "female",
          "male",
          "male",
          "male",
          "female",
          "female",
          "female",
          "female",
          "male",
          "male",
          "female",
          "female",
          "male",
          "female",
          "female",
          "female",
          "male",
          "male",
          "male",
          "male",
          "male",
          "male",
          "male",
          "male",
          "female",
          "female",
          "female",
          "female",
          "male",
          "female",
          "male",
          "male",
          "male",
          "female",
          "male",
          "female",
          "female",
          "male",
          "female",
          "female",
          "female",
          "male",
          "bachelor's degree",
          "some college",
          "master's degree",
          "associate's degree",
          "associate's degree",
          "some college",
          "high school",
          "high school",
          "associate's degree",
          "associate's degree",
          "some college",
          "master's degree",
          "some high school",
          "high school",
          "some high school",
          "master's degree",
          "some college",
          "bachelor's degree",
          "bachelor's degree",
          "master's degree",
          "master's degree",
          "some college",
          "associate's degree",
          "some high school",
          "bachelor's degree",
          "some high school",
          "some high school",
          "bachelor's degree",
          "high school",
          "high school",
          "group B",
          "group C",
          "group A",
          "group D",
          "group E"
         ],
         "name": "",
         "parents": [
          "group B/bachelor's degree",
          "group C/some college",
          "group B/master's degree",
          "group A/associate's degree",
          "group C/some college",
          "group B/associate's degree",
          "group B/some college",
          "group B/some college",
          "group D/high school",
          "group B/high school",
          "group C/associate's degree",
          "group D/associate's degree",
          "group A/some college",
          "group A/master's degree",
          "group C/some high school",
          "group C/high school",
          "group B/some high school",
          "group C/master's degree",
          "group C/associate's degree",
          "group D/some college",
          "group D/bachelor's degree",
          "group A/master's degree",
          "group C/bachelor's degree",
          "group D/master's degree",
          "group D/some college",
          "group E/master's degree",
          "group E/some college",
          "group E/associate's degree",
          "group D/associate's degree",
          "group D/some high school",
          "group B/associate's degree",
          "group E/associate's degree",
          "group A/associate's degree",
          "group C/high school",
          "group E/bachelor's degree",
          "group A/some high school",
          "group B/some high school",
          "group D/some high school",
          "group C/some high school",
          "group E/some high school",
          "group A/bachelor's degree",
          "group B/high school",
          "group A/some college",
          "group E/some college",
          "group D/bachelor's degree",
          "group E/bachelor's degree",
          "group D/master's degree",
          "group A/bachelor's degree",
          "group C/bachelor's degree",
          "group E/high school",
          "group A/high school",
          "group E/high school",
          "group B/master's degree",
          "group C/master's degree",
          "group D/high school",
          "group B/bachelor's degree",
          "group A/some high school",
          "group E/some high school",
          "group A/high school",
          "group E/master's degree",
          "group B",
          "group C",
          "group B",
          "group A",
          "group B",
          "group B",
          "group D",
          "group B",
          "group C",
          "group D",
          "group A",
          "group A",
          "group C",
          "group C",
          "group B",
          "group C",
          "group D",
          "group D",
          "group C",
          "group D",
          "group E",
          "group E",
          "group E",
          "group D",
          "group E",
          "group A",
          "group E",
          "group A",
          "group E",
          "group A",
          "",
          "",
          "",
          "",
          ""
         ],
         "type": "sunburst",
         "values": {
          "bdata": "AAAAAACIiEAAAAAAAN6lQAAAAAAAIHZAAAAAAADQf0AAAAAAAHyaQAAAAAAAhJZAAAAAAACojEAAAAAAADSWQAAAAAAA5JpAAAAAAADQmUAAAAAAAOShQAAAAAAADJ1AAAAAAABohEAAAAAAAABZQAAAAAAAmJlAAAAAAABqoUAAAAAAAFSTQAAAAAAAQIpAAAAAAADGpkAAAAAAAFqhQAAAAAAAyI5AAAAAAABAUkAAAAAAALyaQAAAAAAAOI9AAAAAAACgokAAAAAAALB/QAAAAAAA3JZAAAAAAACYmEAAAAAAAMSXQAAAAAAAZJhAAAAAAADUk0AAAAAAAAyVQAAAAAAAkHVAAAAAAAAUmkAAAAAAALCDQAAAAAAA2IlAAAAAAABgkUAAAAAAAMSbQAAAAAAAxJRAAAAAAADojEAAAAAAAFiEQAAAAAAACJNAAAAAAAAQf0AAAAAAAISRQAAAAAAAWIxAAAAAAABgh0AAAAAAAOiEQAAAAAAAYGNAAAAAAAC4j0AAAAAAAPiHQAAAAAAAyIRAAAAAAACwiEAAAAAAAIBIQAAAAAAAIHtAAAAAAABUkEAAAAAAAMiCQAAAAAAAWIJAAAAAAABQd0AAAAAAAHB6QAAAAAAAgFZAAAAAAAColUAAAAAAAI6xQAAAAAAAMHlAAAAAAACwikAAAAAAACylQAAAAAAARKJAAAAAAACcpUAAAAAAAGymQAAAAAAAVbRAAAAAAABoqkAAAAAAAPiRQAAAAAAAoGVAAAAAAAAup0AAAAAAAHSuQAAAAAAAWqJAAAAAAADok0AAAAAAAP2xQAAAAAAAkJ1AAAAAAABMpUAAAAAAABCaQAAAAAAAqIJAAAAAAAAwpEAAAAAAANKmQAAAAAAAFKpAAAAAAACIlUAAAAAAABiWQAAAAAAASJRAAAAAAAAwiUAAAAAAAFSYQAAAAAAAAJFAAAAAAACMx0AAAAAAABXUQAAAAAAAbbVAAAAAAEA80UAAAAAAgC/EQA==",
          "dtype": "f8"
         }
        }
       ],
       "layout": {
        "legend": {
         "tracegroupgap": 0
        },
        "template": {
         "data": {
          "bar": [
           {
            "error_x": {
             "color": "#2a3f5f"
            },
            "error_y": {
             "color": "#2a3f5f"
            },
            "marker": {
             "line": {
              "color": "#E5ECF6",
              "width": 0.5
             },
             "pattern": {
              "fillmode": "overlay",
              "size": 10,
              "solidity": 0.2
             }
            },
            "type": "bar"
           }
          ],
          "barpolar": [
           {
            "marker": {
             "line": {
              "color": "#E5ECF6",
              "width": 0.5
             },
             "pattern": {
              "fillmode": "overlay",
              "size": 10,
              "solidity": 0.2
             }
            },
            "type": "barpolar"
           }
          ],
          "carpet": [
           {
            "aaxis": {
             "endlinecolor": "#2a3f5f",
             "gridcolor": "white",
             "linecolor": "white",
             "minorgridcolor": "white",
             "startlinecolor": "#2a3f5f"
            },
            "baxis": {
             "endlinecolor": "#2a3f5f",
             "gridcolor": "white",
             "linecolor": "white",
             "minorgridcolor": "white",
             "startlinecolor": "#2a3f5f"
            },
            "type": "carpet"
           }
          ],
          "choropleth": [
           {
            "colorbar": {
             "outlinewidth": 0,
             "ticks": ""
            },
            "type": "choropleth"
           }
          ],
          "contour": [
           {
            "colorbar": {
             "outlinewidth": 0,
             "ticks": ""
            },
            "colorscale": [
             [
              0,
              "#0d0887"
             ],
             [
              0.1111111111111111,
              "#46039f"
             ],
             [
              0.2222222222222222,
              "#7201a8"
             ],
             [
              0.3333333333333333,
              "#9c179e"
             ],
             [
              0.4444444444444444,
              "#bd3786"
             ],
             [
              0.5555555555555556,
              "#d8576b"
             ],
             [
              0.6666666666666666,
              "#ed7953"
             ],
             [
              0.7777777777777778,
              "#fb9f3a"
             ],
             [
              0.8888888888888888,
              "#fdca26"
             ],
             [
              1,
              "#f0f921"
             ]
            ],
            "type": "contour"
           }
          ],
          "contourcarpet": [
           {
            "colorbar": {
             "outlinewidth": 0,
             "ticks": ""
            },
            "type": "contourcarpet"
           }
          ],
          "heatmap": [
           {
            "colorbar": {
             "outlinewidth": 0,
             "ticks": ""
            },
            "colorscale": [
             [
              0,
              "#0d0887"
             ],
             [
              0.1111111111111111,
              "#46039f"
             ],
             [
              0.2222222222222222,
              "#7201a8"
             ],
             [
              0.3333333333333333,
              "#9c179e"
             ],
             [
              0.4444444444444444,
              "#bd3786"
             ],
             [
              0.5555555555555556,
              "#d8576b"
             ],
             [
              0.6666666666666666,
              "#ed7953"
             ],
             [
              0.7777777777777778,
              "#fb9f3a"
             ],
             [
              0.8888888888888888,
              "#fdca26"
             ],
             [
              1,
              "#f0f921"
             ]
            ],
            "type": "heatmap"
           }
          ],
          "histogram": [
           {
            "marker": {
             "pattern": {
              "fillmode": "overlay",
              "size": 10,
              "solidity": 0.2
             }
            },
            "type": "histogram"
           }
          ],
          "histogram2d": [
           {
            "colorbar": {
             "outlinewidth": 0,
             "ticks": ""
            },
            "colorscale": [
             [
              0,
              "#0d0887"
             ],
             [
              0.1111111111111111,
              "#46039f"
             ],
             [
              0.2222222222222222,
              "#7201a8"
             ],
             [
              0.3333333333333333,
              "#9c179e"
             ],
             [
              0.4444444444444444,
              "#bd3786"
             ],
             [
              0.5555555555555556,
              "#d8576b"
             ],
             [
              0.6666666666666666,
              "#ed7953"
             ],
             [
              0.7777777777777778,
              "#fb9f3a"
             ],
             [
              0.8888888888888888,
              "#fdca26"
             ],
             [
              1,
              "#f0f921"
             ]
            ],
            "type": "histogram2d"
           }
          ],
          "histogram2dcontour": [
           {
            "colorbar": {
             "outlinewidth": 0,
             "ticks": ""
            },
            "colorscale": [
             [
              0,
              "#0d0887"
             ],
             [
              0.1111111111111111,
              "#46039f"
             ],
             [
              0.2222222222222222,
              "#7201a8"
             ],
             [
              0.3333333333333333,
              "#9c179e"
             ],
             [
              0.4444444444444444,
              "#bd3786"
             ],
             [
              0.5555555555555556,
              "#d8576b"
             ],
             [
              0.6666666666666666,
              "#ed7953"
             ],
             [
              0.7777777777777778,
              "#fb9f3a"
             ],
             [
              0.8888888888888888,
              "#fdca26"
             ],
             [
              1,
              "#f0f921"
             ]
            ],
            "type": "histogram2dcontour"
           }
          ],
          "mesh3d": [
           {
            "colorbar": {
             "outlinewidth": 0,
             "ticks": ""
            },
            "type": "mesh3d"
           }
          ],
          "parcoords": [
           {
            "line": {
             "colorbar": {
              "outlinewidth": 0,
              "ticks": ""
             }
            },
            "type": "parcoords"
           }
          ],
          "pie": [
           {
            "automargin": true,
            "type": "pie"
           }
          ],
          "scatter": [
           {
            "fillpattern": {
             "fillmode": "overlay",
             "size": 10,
             "solidity": 0.2
            },
            "type": "scatter"
           }
          ],
          "scatter3d": [
           {
            "line": {
             "colorbar": {
              "outlinewidth": 0,
              "ticks": ""
             }
            },
            "marker": {
             "colorbar": {
              "outlinewidth": 0,
              "ticks": ""
             }
            },
            "type": "scatter3d"
           }
          ],
          "scattercarpet": [
           {
            "marker": {
             "colorbar": {
              "outlinewidth": 0,
              "ticks": ""
             }
            },
            "type": "scattercarpet"
           }
          ],
          "scattergeo": [
           {
            "marker": {
             "colorbar": {
              "outlinewidth": 0,
              "ticks": ""
             }
            },
            "type": "scattergeo"
           }
          ],
          "scattergl": [
           {
            "marker": {
             "colorbar": {
              "outlinewidth": 0,
              "ticks": ""
             }
            },
            "type": "scattergl"
           }
          ],
          "scattermap": [
           {
            "marker": {
             "colorbar": {
              "outlinewidth": 0,
              "ticks": ""
             }
            },
            "type": "scattermap"
           }
          ],
          "scattermapbox": [
           {
            "marker": {
             "colorbar": {
              "outlinewidth": 0,
              "ticks": ""
             }
            },
            "type": "scattermapbox"
           }
          ],
          "scatterpolar": [
           {
            "marker": {
             "colorbar": {
              "outlinewidth": 0,
              "ticks": ""
             }
            },
            "type": "scatterpolar"
           }
          ],
          "scatterpolargl": [
           {
            "marker": {
             "colorbar": {
              "outlinewidth": 0,
              "ticks": ""
             }
            },
            "type": "scatterpolargl"
           }
          ],
          "scatterternary": [
           {
            "marker": {
             "colorbar": {
              "outlinewidth": 0,
              "ticks": ""
             }
            },
            "type": "scatterternary"
           }
          ],
          "surface": [
           {
            "colorbar": {
             "outlinewidth": 0,
             "ticks": ""
            },
            "colorscale": [
             [
              0,
              "#0d0887"
             ],
             [
              0.1111111111111111,
              "#46039f"
             ],
             [
              0.2222222222222222,
              "#7201a8"
             ],
             [
              0.3333333333333333,
              "#9c179e"
             ],
             [
              0.4444444444444444,
              "#bd3786"
             ],
             [
              0.5555555555555556,
              "#d8576b"
             ],
             [
              0.6666666666666666,
              "#ed7953"
             ],
             [
              0.7777777777777778,
              "#fb9f3a"
             ],
             [
              0.8888888888888888,
              "#fdca26"
             ],
             [
              1,
              "#f0f921"
             ]
            ],
            "type": "surface"
           }
          ],
          "table": [
           {
            "cells": {
             "fill": {
              "color": "#EBF0F8"
             },
             "line": {
              "color": "white"
             }
            },
            "header": {
             "fill": {
              "color": "#C8D4E3"
             },
             "line": {
              "color": "white"
             }
            },
            "type": "table"
           }
          ]
         },
         "layout": {
          "annotationdefaults": {
           "arrowcolor": "#2a3f5f",
           "arrowhead": 0,
           "arrowwidth": 1
          },
          "autotypenumbers": "strict",
          "coloraxis": {
           "colorbar": {
            "outlinewidth": 0,
            "ticks": ""
           }
          },
          "colorscale": {
           "diverging": [
            [
             0,
             "#8e0152"
            ],
            [
             0.1,
             "#c51b7d"
            ],
            [
             0.2,
             "#de77ae"
            ],
            [
             0.3,
             "#f1b6da"
            ],
            [
             0.4,
             "#fde0ef"
            ],
            [
             0.5,
             "#f7f7f7"
            ],
            [
             0.6,
             "#e6f5d0"
            ],
            [
             0.7,
             "#b8e186"
            ],
            [
             0.8,
             "#7fbc41"
            ],
            [
             0.9,
             "#4d9221"
            ],
            [
             1,
             "#276419"
            ]
           ],
           "sequential": [
            [
             0,
             "#0d0887"
            ],
            [
             0.1111111111111111,
             "#46039f"
            ],
            [
             0.2222222222222222,
             "#7201a8"
            ],
            [
             0.3333333333333333,
             "#9c179e"
            ],
            [
             0.4444444444444444,
             "#bd3786"
            ],
            [
             0.5555555555555556,
             "#d8576b"
            ],
            [
             0.6666666666666666,
             "#ed7953"
            ],
            [
             0.7777777777777778,
             "#fb9f3a"
            ],
            [
             0.8888888888888888,
             "#fdca26"
            ],
            [
             1,
             "#f0f921"
            ]
           ],
           "sequentialminus": [
            [
             0,
             "#0d0887"
            ],
            [
             0.1111111111111111,
             "#46039f"
            ],
            [
             0.2222222222222222,
             "#7201a8"
            ],
            [
             0.3333333333333333,
             "#9c179e"
            ],
            [
             0.4444444444444444,
             "#bd3786"
            ],
            [
             0.5555555555555556,
             "#d8576b"
            ],
            [
             0.6666666666666666,
             "#ed7953"
            ],
            [
             0.7777777777777778,
             "#fb9f3a"
            ],
            [
             0.8888888888888888,
             "#fdca26"
            ],
            [
             1,
             "#f0f921"
            ]
           ]
          },
          "colorway": [
           "#636efa",
           "#EF553B",
           "#00cc96",
           "#ab63fa",
           "#FFA15A",
           "#19d3f3",
           "#FF6692",
           "#B6E880",
           "#FF97FF",
           "#FECB52"
          ],
          "font": {
           "color": "#2a3f5f"
          },
          "geo": {
           "bgcolor": "white",
           "lakecolor": "white",
           "landcolor": "#E5ECF6",
           "showlakes": true,
           "showland": true,
           "subunitcolor": "white"
          },
          "hoverlabel": {
           "align": "left"
          },
          "hovermode": "closest",
          "mapbox": {
           "style": "light"
          },
          "paper_bgcolor": "white",
          "plot_bgcolor": "#E5ECF6",
          "polar": {
           "angularaxis": {
            "gridcolor": "white",
            "linecolor": "white",
            "ticks": ""
           },
           "bgcolor": "#E5ECF6",
           "radialaxis": {
            "gridcolor": "white",
            "linecolor": "white",
            "ticks": ""
           }
          },
          "scene": {
           "xaxis": {
            "backgroundcolor": "#E5ECF6",
            "gridcolor": "white",
            "gridwidth": 2,
            "linecolor": "white",
            "showbackground": true,
            "ticks": "",
            "zerolinecolor": "white"
           },
           "yaxis": {
            "backgroundcolor": "#E5ECF6",
            "gridcolor": "white",
            "gridwidth": 2,
            "linecolor": "white",
            "showbackground": true,
            "ticks": "",
            "zerolinecolor": "white"
           },
           "zaxis": {
            "backgroundcolor": "#E5ECF6",
            "gridcolor": "white",
            "gridwidth": 2,
            "linecolor": "white",
            "showbackground": true,
            "ticks": "",
            "zerolinecolor": "white"
           }
          },
          "shapedefaults": {
           "line": {
            "color": "#2a3f5f"
           }
          },
          "ternary": {
           "aaxis": {
            "gridcolor": "white",
            "linecolor": "white",
            "ticks": ""
           },
           "baxis": {
            "gridcolor": "white",
            "linecolor": "white",
            "ticks": ""
           },
           "bgcolor": "#E5ECF6",
           "caxis": {
            "gridcolor": "white",
            "linecolor": "white",
            "ticks": ""
           }
          },
          "title": {
           "x": 0.05
          },
          "xaxis": {
           "automargin": true,
           "gridcolor": "white",
           "linecolor": "white",
           "ticks": "",
           "title": {
            "standoff": 15
           },
           "zerolinecolor": "white",
           "zerolinewidth": 2
          },
          "yaxis": {
           "automargin": true,
           "gridcolor": "white",
           "linecolor": "white",
           "ticks": "",
           "title": {
            "standoff": 15
           },
           "zerolinecolor": "white",
           "zerolinewidth": 2
          }
         }
        },
        "title": {
         "text": "Student Demographics Hierarchy"
        }
       }
      }
     },
     "metadata": {},
     "output_type": "display_data"
    }
   ],
   "source": [
    "#Sunburst Chart - Hierarchical Data\n",
    "fig = px.sunburst(df, path=['race_ethnicity', 'parental_level_of_education', 'gender'],\n",
    "                  values='math_score', title='Student Demographics Hierarchy')\n",
    "fig.show()"
   ]
  },
  {
   "cell_type": "code",
   "execution_count": 22,
   "id": "887d0e40",
   "metadata": {},
   "outputs": [
    {
     "data": {
      "application/vnd.plotly.v1+json": {
       "config": {
        "plotlyServerURL": "https://plot.ly"
       },
       "data": [
        {
         "dimensions": [
          {
           "label": "math_score",
           "values": {
            "bdata": "SEVaL0xHWChAJjooQU4yRVgSLjZCQSxFSklFQ0Y+RT84KGFRSjJLOTc6NTsyQTdCOVI1TTVYRyFSNDoATyc+RTtDLTw9Jzo/KT0xLB5QPT4vMTJIKklMRzpJQRtHK09OQT86QU9EVTxiOldCNEZNPjYzY1RLTjM3T1tYP1NXSEFSM1k1V0tKOjNGO0dMOyo5WBZYSURkPk07Nj5GQjw9QlJLMTRRYDU6RENIXk8/K1EuRzRhPi4yQS1BUD4wTUJMPk1FPTs3LU5DQUU5O0pSUUo6UCMqPFdUUyJCPThXN1Y0LUg5RFhMLkNcU1A/QDZUSVA4O0tVWTpBRC9HPFA2PkBORkFATyxjTDs/RVhHRTovQVhTVTtBSTUtSUYlUWFDWE1MVj9BTkMuRyhaUThDUEpFYzM1MUlCQ0Q7R01TPzhDS0crKVI9HFIpRy8+WlM9TDEYIzo9RUNPSD5NS1c0Qj8uOz0/KjtQOlU0GzsxRT0sSVQtSlI7LlBVR0JQV08mJkNAOT5JSU1MOUEwMlVKPDs1MVg2P0FSNFdGVEc/M1RHSkQ5UjkvOyk+VkVBREA9PS9JMktLRllDTjtJT0NFVi9RQGRBQTUlTzVkSDU2R01LVBpITVtTP0Q7WkdMUDdMSTREOzFGPTxAT0FAU1E2RDY7QkxKXj9fKFJEN09WTEA+Nk1MSkJCQ0dbRTY1RDgkHT5ELz5PSUIzM1VhS09RUkBOXEg+T09XKE01IDc9NUlKP2A/MDBcPT9ER1s1MkooPVEwNVFNP0lFQTcsNjA6R0RKXDgeNUVBNh1MPFRLVSg9OkU6XkFSPCVYX0EjPjpkPWRFPTEsQ09CS1RHQ1BWTClKSEpGQTtAMkUzRFVBST5NRStaSkk3QVAyP01JUUI0RUFFMklGUT9DPD4dPl5VTTVdMUlCTTFPSzs5Qk85Vz87Pi5CWSpdUGJRPExJYExbPjdKMi9RQURJNUQ3Vzc1Q1w1UT1QJVE7N0hFRTJXR0RPTTpUN0Y0RTUwTj48SjpMRDo0SzQ+QjFCI0heLk1MNFsgSBNENDA8QlkqOUZGRTRDTFdSSUtAKVo7My02V0heLT08TVVOMUcwPjhBRUQ9SkBNOjxJSzpCJ0AXSihaW0A7UEc9V1I+YUtBNFc1USdHYVI7PU4xO0ZSWitQUTk7QD9HQDczPl02RSxWVTJYOyAkP0NBVUkiXUNYOU9DRjJFNC8uRGQsOVtFI0g2SkpAQS4wQz49RmJGQzlVTUhOUT06NlIxMTleS0o6PkhUXC1LODBkQUg+Qj9ES1lONTE2QDw+N1sIUU9OSjkoUSxDVkE3Pj9YPjtETQ==",
            "dtype": "i1"
           }
          },
          {
           "label": "reading_score",
           "values": {
            "bdata": "SFpfOU5TXytAPDY0UUg1S1kgKjpFSzZJR0o2RUZGSkFIKldRUUBaOD1JOkE4NkFHSlQ3RSxOVClVNzsRSic9UDpAJUg6QD83MzkxKRpOSkQxLS9AJ1BTR0ZWSCJPLVZRQkhDQ0NKWyxWQ2Q/TEBZNzU6ZE1VUj9FXFldOVBfRE1SMVQlSlFPNzY3Qj1IPjcrSSdUREtkQ0NGMUNZSjxWPk5YNTVcZDNMU0tJWFZDM1s2TUZkREAyRTRDTEI0WEFTQD5UN0U4NU9UUU1FKUc+UFE9Txw+M1tTVipNOERVQVBCOEgySF9AK1ZXUktCPDRQRFM0M0pMTEZAPDFTRlA0SUlNS1FPTzJdSSpLSFxMPzE1RlVOXD9WODQwT04uUlJZS0xGSTxJTT4pSi5XTjZUTEtDVzRHOUw8PUNAQlJIR0FPVlE1Llo9F0s3PCU4Tl1ERjMmNz1JTEhJUD1eSkpBOU46R0g9Qj5aPlQ6Ijw6OkJAVE1JSmFGK1pfU0BWZFExK0xJTkBGQ0RDNkotQ1k/OzYrQWM7SUFQOVRHU0JDSElKSTs4XTo6VSdDU0c7P0JIODtCMERCOFhRUUlTUkpCUS5JVVxNOj04WTZkQTo2Rlo6Vx9DWEpVRVZDWkw+REBHRztENDRKL0s1UlVAU1hAQDBORUdPVz1ZO1JGO05cRzIxPWFXWUpOTjFWOjs0PD01KUpDNj1YRVM8QkJcRVJNXz9TZENDSExaMD4tJ0hDRkJLSlpQMytkRzBES2A+QlE3M1s4PWFPSUtNTEk/QEI5PkRMZE8YNk1SPB1OOVlIVDpAPzw7Wk1dRC1OUUk9PzNgOmFGMDkzQDxKWFRKUFxMSjRYUU9BUUY+NU84UFZGT0NDQjxXTUJHRT88SVVKSEw5TlRNQE5SSz1IRDcoQmNLTjpaNUxKTT9ZUkhOQlFDVEA/SCI7Vz1UVWRRRl5OYExJSDtaMCtKSzNcJ00uWS86OU9CRzxJOVRJN09LQDxURUhNWjdfOkQ7TUg6UT4/SEs+RzwwSUNOQTpILE9VOFpVO1EzTyZBQT5CSlQ0REZUPDdJUF5VTFFKLUs2Hy9AVFBWO0ZIW1paNFc6Q0RFVjY8VjxSMkBAUjlNNDosTUFVVTZIS0NEVUNAYURPMUk+VipHXVI1KkozOkhUWj5AUj1ITEBGSS4zTGRIQTNVXENKPiIdTjZOVE4wZFRNMFRLQCpUPT49RmQ9TWBGNUJBRkA4PSs4SjlHS1c/OTpRREJbQj5EPVI6MktJTUo0RTlXZD9ROjZkTDlGRD9MVGRIMkE/Uj5BKV8YTlVXSzM7Sy1WUVJMSD9jN0dOVg==",
            "dtype": "i1"
           }
          },
          {
           "label": "writing_score",
           "values": {
            "bdata": "SlhdLEtOXCdDMjQrSUY6TlYcLj0/RjVJUEg3S0FLSj1BJlJPUztYOTZEQUI2OT5MTFIwRCpLVytWMToKSCI3Rzs9JUo4OUk/MDgpJhZRSEQyLTY/IlJYSkNSSiRHMlxSPkY+PkNKWS9aSGRARkhiMS82ZEpSTz1BWVxdOElWQ0pKM1IoRlRLMCk4Q0VHQDYvTiFLQlFdRURCLz1YTjxXQEpVNDFbZDNOTkZKTlFGNlc6TT5kS0IvRjFBQUQtV0VPQj5VNEEzN0xWTUVEKk4+TExCTxs8OFFLWCdGOEpJPktJNkc2QF5CKlNOVE1DSjNQQlM3K0VHSkQ+NTFTRkg0RkRNTlFNTjNaRClRTV9GPSo6R0xJXUtQOSouVE4uUlhSTE1ERjlLUDwrRDJLUTRRQFNFUSxDNFA5REVLQVtORT9UT1A1K14+E00zPSM1UV9CRSsbPDQ/SkNDSzlfQkxFNFA5RkY9RT1ZO046IDo8NT06VUdGSGBJKVJkTT5TX0ctK0tGQ0BLO01DOE0pP185NkMrN2Q+RD9NOFVKTjxDT0VEQz42XUBDUCI+VkE1NjtGNzJCNUBJM1JPUEVMSU08UCpIVWFKMT4vWTBkRDctTFs+WyZBVUxaSlQ9W1NCSEZDRDg9LjZHOEo5UkxGWlpEQjRMREhSXDZcNlBCNk1XSSs0Pl5VVElOTzRUOTIxOzwrL0ZJNTpeRFM6PkdWRFBPWUJQYUBARUFYMkAoIU9CRj5PSlxQLi1kTi9DRlw4QEc1NFk6RGBQTlBNTEk+QUE2MkBJY0gPMElRPx5QM1o+UjY+QT9CW0pdSCZTVEQ2ODRWPmM/Li43RkFRVVBAUVhKSTNaT1A8UUFEN1E1TGJKT0NAPTpVST9FQz88R1c9TUQyTFROQkxMTjxKPDYsRGRESSxTNU5RSThWWkZPO1JIV0NAQSQ0TzpaVWNUSldIY0pQRjtYKilHTTlUJVArXiw5O1RJSTdIOFJIL0pHRDtWREFLVTVcNEhBTUA2Vj87SE08SzkxSkhPPDdGK1JSOVRSPk8sTSA9PTxGRU0zSUZRNjlESV9XTkpLKEUzJDFDTFNXQExEWFxdM1I0OkZMUTU5WTpZLUo5TzVJLjMkTEBUVTJERUM/XT03YEFRLkg1VyZQW1g0KUgzL0xOUj1CVDZQSkJGRyw2UF87SjBbVUlLRSYbTz9SWUopZFRNM1tIRjBSQkI3QmQ0UFtDLkJBRTw0RywzRj5JSlo6NTlVRUhgQD09OlA8NElHU0g2RT5RZDtHQDVkSzpIQDxDUGRFPD1DTTw6MF4XTlZbUjYzTC1TS05MSj5fN0FNVg==",
            "dtype": "i1"
           }
          }
         ],
         "domain": {
          "x": [
           0,
           1
          ],
          "y": [
           0,
           1
          ]
         },
         "line": {
          "color": {
           "bdata": "SEVaL0xHWChAJjooQU4yRVgSLjZCQSxFSklFQ0Y+RT84KGFRSjJLOTc6NTsyQTdCOVI1TTVYRyFSNDoATyc+RTtDLTw9Jzo/KT0xLB5QPT4vMTJIKklMRzpJQRtHK09OQT86QU9EVTxiOldCNEZNPjYzY1RLTjM3T1tYP1NXSEFSM1k1V0tKOjNGO0dMOyo5WBZYSURkPk07Nj5GQjw9QlJLMTRRYDU6RENIXk8/K1EuRzRhPi4yQS1BUD4wTUJMPk1FPTs3LU5DQUU5O0pSUUo6UCMqPFdUUyJCPThXN1Y0LUg5RFhMLkNcU1A/QDZUSVA4O0tVWTpBRC9HPFA2PkBORkFATyxjTDs/RVhHRTovQVhTVTtBSTUtSUYlUWFDWE1MVj9BTkMuRyhaUThDUEpFYzM1MUlCQ0Q7R01TPzhDS0crKVI9HFIpRy8+WlM9TDEYIzo9RUNPSD5NS1c0Qj8uOz0/KjtQOlU0GzsxRT0sSVQtSlI7LlBVR0JQV08mJkNAOT5JSU1MOUEwMlVKPDs1MVg2P0FSNFdGVEc/M1RHSkQ5UjkvOyk+VkVBREA9PS9JMktLRllDTjtJT0NFVi9RQGRBQTUlTzVkSDU2R01LVBpITVtTP0Q7WkdMUDdMSTREOzFGPTxAT0FAU1E2RDY7QkxKXj9fKFJEN09WTEA+Nk1MSkJCQ0dbRTY1RDgkHT5ELz5PSUIzM1VhS09RUkBOXEg+T09XKE01IDc9NUlKP2A/MDBcPT9ER1s1MkooPVEwNVFNP0lFQTcsNjA6R0RKXDgeNUVBNh1MPFRLVSg9OkU6XkFSPCVYX0EjPjpkPWRFPTEsQ09CS1RHQ1BWTClKSEpGQTtAMkUzRFVBST5NRStaSkk3QVAyP01JUUI0RUFFMklGUT9DPD4dPl5VTTVdMUlCTTFPSzs5Qk85Vz87Pi5CWSpdUGJRPExJYExbPjdKMi9RQURJNUQ3Vzc1Q1w1UT1QJVE7N0hFRTJXR0RPTTpUN0Y0RTUwTj48SjpMRDo0SzQ+QjFCI0heLk1MNFsgSBNENDA8QlkqOUZGRTRDTFdSSUtAKVo7My02V0heLT08TVVOMUcwPjhBRUQ9SkBNOjxJSzpCJ0AXSihaW0A7UEc9V1I+YUtBNFc1USdHYVI7PU4xO0ZSWitQUTk7QD9HQDczPl02RSxWVTJYOyAkP0NBVUkiXUNYOU9DRjJFNC8uRGQsOVtFI0g2SkpAQS4wQz49RmJGQzlVTUhOUT06NlIxMTleS0o6PkhUXC1LODBkQUg+Qj9ES1lONTE2QDw+N1sIUU9OSjkoUSxDVkE3Pj9YPjtETQ==",
           "dtype": "i1"
          },
          "coloraxis": "coloraxis"
         },
         "name": "",
         "type": "parcoords"
        }
       ],
       "layout": {
        "coloraxis": {
         "colorbar": {
          "title": {
           "text": "math_score"
          }
         },
         "colorscale": [
          [
           0,
           "#0d0887"
          ],
          [
           0.1111111111111111,
           "#46039f"
          ],
          [
           0.2222222222222222,
           "#7201a8"
          ],
          [
           0.3333333333333333,
           "#9c179e"
          ],
          [
           0.4444444444444444,
           "#bd3786"
          ],
          [
           0.5555555555555556,
           "#d8576b"
          ],
          [
           0.6666666666666666,
           "#ed7953"
          ],
          [
           0.7777777777777778,
           "#fb9f3a"
          ],
          [
           0.8888888888888888,
           "#fdca26"
          ],
          [
           1,
           "#f0f921"
          ]
         ]
        },
        "legend": {
         "tracegroupgap": 0
        },
        "template": {
         "data": {
          "bar": [
           {
            "error_x": {
             "color": "#2a3f5f"
            },
            "error_y": {
             "color": "#2a3f5f"
            },
            "marker": {
             "line": {
              "color": "#E5ECF6",
              "width": 0.5
             },
             "pattern": {
              "fillmode": "overlay",
              "size": 10,
              "solidity": 0.2
             }
            },
            "type": "bar"
           }
          ],
          "barpolar": [
           {
            "marker": {
             "line": {
              "color": "#E5ECF6",
              "width": 0.5
             },
             "pattern": {
              "fillmode": "overlay",
              "size": 10,
              "solidity": 0.2
             }
            },
            "type": "barpolar"
           }
          ],
          "carpet": [
           {
            "aaxis": {
             "endlinecolor": "#2a3f5f",
             "gridcolor": "white",
             "linecolor": "white",
             "minorgridcolor": "white",
             "startlinecolor": "#2a3f5f"
            },
            "baxis": {
             "endlinecolor": "#2a3f5f",
             "gridcolor": "white",
             "linecolor": "white",
             "minorgridcolor": "white",
             "startlinecolor": "#2a3f5f"
            },
            "type": "carpet"
           }
          ],
          "choropleth": [
           {
            "colorbar": {
             "outlinewidth": 0,
             "ticks": ""
            },
            "type": "choropleth"
           }
          ],
          "contour": [
           {
            "colorbar": {
             "outlinewidth": 0,
             "ticks": ""
            },
            "colorscale": [
             [
              0,
              "#0d0887"
             ],
             [
              0.1111111111111111,
              "#46039f"
             ],
             [
              0.2222222222222222,
              "#7201a8"
             ],
             [
              0.3333333333333333,
              "#9c179e"
             ],
             [
              0.4444444444444444,
              "#bd3786"
             ],
             [
              0.5555555555555556,
              "#d8576b"
             ],
             [
              0.6666666666666666,
              "#ed7953"
             ],
             [
              0.7777777777777778,
              "#fb9f3a"
             ],
             [
              0.8888888888888888,
              "#fdca26"
             ],
             [
              1,
              "#f0f921"
             ]
            ],
            "type": "contour"
           }
          ],
          "contourcarpet": [
           {
            "colorbar": {
             "outlinewidth": 0,
             "ticks": ""
            },
            "type": "contourcarpet"
           }
          ],
          "heatmap": [
           {
            "colorbar": {
             "outlinewidth": 0,
             "ticks": ""
            },
            "colorscale": [
             [
              0,
              "#0d0887"
             ],
             [
              0.1111111111111111,
              "#46039f"
             ],
             [
              0.2222222222222222,
              "#7201a8"
             ],
             [
              0.3333333333333333,
              "#9c179e"
             ],
             [
              0.4444444444444444,
              "#bd3786"
             ],
             [
              0.5555555555555556,
              "#d8576b"
             ],
             [
              0.6666666666666666,
              "#ed7953"
             ],
             [
              0.7777777777777778,
              "#fb9f3a"
             ],
             [
              0.8888888888888888,
              "#fdca26"
             ],
             [
              1,
              "#f0f921"
             ]
            ],
            "type": "heatmap"
           }
          ],
          "histogram": [
           {
            "marker": {
             "pattern": {
              "fillmode": "overlay",
              "size": 10,
              "solidity": 0.2
             }
            },
            "type": "histogram"
           }
          ],
          "histogram2d": [
           {
            "colorbar": {
             "outlinewidth": 0,
             "ticks": ""
            },
            "colorscale": [
             [
              0,
              "#0d0887"
             ],
             [
              0.1111111111111111,
              "#46039f"
             ],
             [
              0.2222222222222222,
              "#7201a8"
             ],
             [
              0.3333333333333333,
              "#9c179e"
             ],
             [
              0.4444444444444444,
              "#bd3786"
             ],
             [
              0.5555555555555556,
              "#d8576b"
             ],
             [
              0.6666666666666666,
              "#ed7953"
             ],
             [
              0.7777777777777778,
              "#fb9f3a"
             ],
             [
              0.8888888888888888,
              "#fdca26"
             ],
             [
              1,
              "#f0f921"
             ]
            ],
            "type": "histogram2d"
           }
          ],
          "histogram2dcontour": [
           {
            "colorbar": {
             "outlinewidth": 0,
             "ticks": ""
            },
            "colorscale": [
             [
              0,
              "#0d0887"
             ],
             [
              0.1111111111111111,
              "#46039f"
             ],
             [
              0.2222222222222222,
              "#7201a8"
             ],
             [
              0.3333333333333333,
              "#9c179e"
             ],
             [
              0.4444444444444444,
              "#bd3786"
             ],
             [
              0.5555555555555556,
              "#d8576b"
             ],
             [
              0.6666666666666666,
              "#ed7953"
             ],
             [
              0.7777777777777778,
              "#fb9f3a"
             ],
             [
              0.8888888888888888,
              "#fdca26"
             ],
             [
              1,
              "#f0f921"
             ]
            ],
            "type": "histogram2dcontour"
           }
          ],
          "mesh3d": [
           {
            "colorbar": {
             "outlinewidth": 0,
             "ticks": ""
            },
            "type": "mesh3d"
           }
          ],
          "parcoords": [
           {
            "line": {
             "colorbar": {
              "outlinewidth": 0,
              "ticks": ""
             }
            },
            "type": "parcoords"
           }
          ],
          "pie": [
           {
            "automargin": true,
            "type": "pie"
           }
          ],
          "scatter": [
           {
            "fillpattern": {
             "fillmode": "overlay",
             "size": 10,
             "solidity": 0.2
            },
            "type": "scatter"
           }
          ],
          "scatter3d": [
           {
            "line": {
             "colorbar": {
              "outlinewidth": 0,
              "ticks": ""
             }
            },
            "marker": {
             "colorbar": {
              "outlinewidth": 0,
              "ticks": ""
             }
            },
            "type": "scatter3d"
           }
          ],
          "scattercarpet": [
           {
            "marker": {
             "colorbar": {
              "outlinewidth": 0,
              "ticks": ""
             }
            },
            "type": "scattercarpet"
           }
          ],
          "scattergeo": [
           {
            "marker": {
             "colorbar": {
              "outlinewidth": 0,
              "ticks": ""
             }
            },
            "type": "scattergeo"
           }
          ],
          "scattergl": [
           {
            "marker": {
             "colorbar": {
              "outlinewidth": 0,
              "ticks": ""
             }
            },
            "type": "scattergl"
           }
          ],
          "scattermap": [
           {
            "marker": {
             "colorbar": {
              "outlinewidth": 0,
              "ticks": ""
             }
            },
            "type": "scattermap"
           }
          ],
          "scattermapbox": [
           {
            "marker": {
             "colorbar": {
              "outlinewidth": 0,
              "ticks": ""
             }
            },
            "type": "scattermapbox"
           }
          ],
          "scatterpolar": [
           {
            "marker": {
             "colorbar": {
              "outlinewidth": 0,
              "ticks": ""
             }
            },
            "type": "scatterpolar"
           }
          ],
          "scatterpolargl": [
           {
            "marker": {
             "colorbar": {
              "outlinewidth": 0,
              "ticks": ""
             }
            },
            "type": "scatterpolargl"
           }
          ],
          "scatterternary": [
           {
            "marker": {
             "colorbar": {
              "outlinewidth": 0,
              "ticks": ""
             }
            },
            "type": "scatterternary"
           }
          ],
          "surface": [
           {
            "colorbar": {
             "outlinewidth": 0,
             "ticks": ""
            },
            "colorscale": [
             [
              0,
              "#0d0887"
             ],
             [
              0.1111111111111111,
              "#46039f"
             ],
             [
              0.2222222222222222,
              "#7201a8"
             ],
             [
              0.3333333333333333,
              "#9c179e"
             ],
             [
              0.4444444444444444,
              "#bd3786"
             ],
             [
              0.5555555555555556,
              "#d8576b"
             ],
             [
              0.6666666666666666,
              "#ed7953"
             ],
             [
              0.7777777777777778,
              "#fb9f3a"
             ],
             [
              0.8888888888888888,
              "#fdca26"
             ],
             [
              1,
              "#f0f921"
             ]
            ],
            "type": "surface"
           }
          ],
          "table": [
           {
            "cells": {
             "fill": {
              "color": "#EBF0F8"
             },
             "line": {
              "color": "white"
             }
            },
            "header": {
             "fill": {
              "color": "#C8D4E3"
             },
             "line": {
              "color": "white"
             }
            },
            "type": "table"
           }
          ]
         },
         "layout": {
          "annotationdefaults": {
           "arrowcolor": "#2a3f5f",
           "arrowhead": 0,
           "arrowwidth": 1
          },
          "autotypenumbers": "strict",
          "coloraxis": {
           "colorbar": {
            "outlinewidth": 0,
            "ticks": ""
           }
          },
          "colorscale": {
           "diverging": [
            [
             0,
             "#8e0152"
            ],
            [
             0.1,
             "#c51b7d"
            ],
            [
             0.2,
             "#de77ae"
            ],
            [
             0.3,
             "#f1b6da"
            ],
            [
             0.4,
             "#fde0ef"
            ],
            [
             0.5,
             "#f7f7f7"
            ],
            [
             0.6,
             "#e6f5d0"
            ],
            [
             0.7,
             "#b8e186"
            ],
            [
             0.8,
             "#7fbc41"
            ],
            [
             0.9,
             "#4d9221"
            ],
            [
             1,
             "#276419"
            ]
           ],
           "sequential": [
            [
             0,
             "#0d0887"
            ],
            [
             0.1111111111111111,
             "#46039f"
            ],
            [
             0.2222222222222222,
             "#7201a8"
            ],
            [
             0.3333333333333333,
             "#9c179e"
            ],
            [
             0.4444444444444444,
             "#bd3786"
            ],
            [
             0.5555555555555556,
             "#d8576b"
            ],
            [
             0.6666666666666666,
             "#ed7953"
            ],
            [
             0.7777777777777778,
             "#fb9f3a"
            ],
            [
             0.8888888888888888,
             "#fdca26"
            ],
            [
             1,
             "#f0f921"
            ]
           ],
           "sequentialminus": [
            [
             0,
             "#0d0887"
            ],
            [
             0.1111111111111111,
             "#46039f"
            ],
            [
             0.2222222222222222,
             "#7201a8"
            ],
            [
             0.3333333333333333,
             "#9c179e"
            ],
            [
             0.4444444444444444,
             "#bd3786"
            ],
            [
             0.5555555555555556,
             "#d8576b"
            ],
            [
             0.6666666666666666,
             "#ed7953"
            ],
            [
             0.7777777777777778,
             "#fb9f3a"
            ],
            [
             0.8888888888888888,
             "#fdca26"
            ],
            [
             1,
             "#f0f921"
            ]
           ]
          },
          "colorway": [
           "#636efa",
           "#EF553B",
           "#00cc96",
           "#ab63fa",
           "#FFA15A",
           "#19d3f3",
           "#FF6692",
           "#B6E880",
           "#FF97FF",
           "#FECB52"
          ],
          "font": {
           "color": "#2a3f5f"
          },
          "geo": {
           "bgcolor": "white",
           "lakecolor": "white",
           "landcolor": "#E5ECF6",
           "showlakes": true,
           "showland": true,
           "subunitcolor": "white"
          },
          "hoverlabel": {
           "align": "left"
          },
          "hovermode": "closest",
          "mapbox": {
           "style": "light"
          },
          "paper_bgcolor": "white",
          "plot_bgcolor": "#E5ECF6",
          "polar": {
           "angularaxis": {
            "gridcolor": "white",
            "linecolor": "white",
            "ticks": ""
           },
           "bgcolor": "#E5ECF6",
           "radialaxis": {
            "gridcolor": "white",
            "linecolor": "white",
            "ticks": ""
           }
          },
          "scene": {
           "xaxis": {
            "backgroundcolor": "#E5ECF6",
            "gridcolor": "white",
            "gridwidth": 2,
            "linecolor": "white",
            "showbackground": true,
            "ticks": "",
            "zerolinecolor": "white"
           },
           "yaxis": {
            "backgroundcolor": "#E5ECF6",
            "gridcolor": "white",
            "gridwidth": 2,
            "linecolor": "white",
            "showbackground": true,
            "ticks": "",
            "zerolinecolor": "white"
           },
           "zaxis": {
            "backgroundcolor": "#E5ECF6",
            "gridcolor": "white",
            "gridwidth": 2,
            "linecolor": "white",
            "showbackground": true,
            "ticks": "",
            "zerolinecolor": "white"
           }
          },
          "shapedefaults": {
           "line": {
            "color": "#2a3f5f"
           }
          },
          "ternary": {
           "aaxis": {
            "gridcolor": "white",
            "linecolor": "white",
            "ticks": ""
           },
           "baxis": {
            "gridcolor": "white",
            "linecolor": "white",
            "ticks": ""
           },
           "bgcolor": "#E5ECF6",
           "caxis": {
            "gridcolor": "white",
            "linecolor": "white",
            "ticks": ""
           }
          },
          "title": {
           "x": 0.05
          },
          "xaxis": {
           "automargin": true,
           "gridcolor": "white",
           "linecolor": "white",
           "ticks": "",
           "title": {
            "standoff": 15
           },
           "zerolinecolor": "white",
           "zerolinewidth": 2
          },
          "yaxis": {
           "automargin": true,
           "gridcolor": "white",
           "linecolor": "white",
           "ticks": "",
           "title": {
            "standoff": 15
           },
           "zerolinecolor": "white",
           "zerolinewidth": 2
          }
         }
        },
        "title": {
         "text": "Score Patterns Across Subjects"
        }
       }
      }
     },
     "metadata": {},
     "output_type": "display_data"
    }
   ],
   "source": [
    "#Parallel Coordinates Plot\n",
    "fig = px.parallel_coordinates(df, color='math_score',\n",
    "                            dimensions=['math_score', 'reading_score', 'writing_score'],\n",
    "                            title='Score Patterns Across Subjects')\n",
    "fig.show()"
   ]
  },
  {
   "cell_type": "code",
   "execution_count": 23,
   "id": "edce46ee",
   "metadata": {},
   "outputs": [
    {
     "data": {
      "application/vnd.plotly.v1+json": {
       "config": {
        "plotlyServerURL": "https://plot.ly"
       },
       "data": [
        {
         "box": {
          "visible": true
         },
         "meanline": {
          "visible": true
         },
         "name": "Math Score",
         "type": "violin",
         "y": {
          "bdata": "SEVaL0xHWChAJjooQU4yRVgSLjZCQSxFSklFQ0Y+RT84KGFRSjJLOTc6NTsyQTdCOVI1TTVYRyFSNDoATyc+RTtDLTw9Jzo/KT0xLB5QPT4vMTJIKklMRzpJQRtHK09OQT86QU9EVTxiOldCNEZNPjYzY1RLTjM3T1tYP1NXSEFSM1k1V0tKOjNGO0dMOyo5WBZYSURkPk07Nj5GQjw9QlJLMTRRYDU6RENIXk8/K1EuRzRhPi4yQS1BUD4wTUJMPk1FPTs3LU5DQUU5O0pSUUo6UCMqPFdUUyJCPThXN1Y0LUg5RFhMLkNcU1A/QDZUSVA4O0tVWTpBRC9HPFA2PkBORkFATyxjTDs/RVhHRTovQVhTVTtBSTUtSUYlUWFDWE1MVj9BTkMuRyhaUThDUEpFYzM1MUlCQ0Q7R01TPzhDS0crKVI9HFIpRy8+WlM9TDEYIzo9RUNPSD5NS1c0Qj8uOz0/KjtQOlU0GzsxRT0sSVQtSlI7LlBVR0JQV08mJkNAOT5JSU1MOUEwMlVKPDs1MVg2P0FSNFdGVEc/M1RHSkQ5UjkvOyk+VkVBREA9PS9JMktLRllDTjtJT0NFVi9RQGRBQTUlTzVkSDU2R01LVBpITVtTP0Q7WkdMUDdMSTREOzFGPTxAT0FAU1E2RDY7QkxKXj9fKFJEN09WTEA+Nk1MSkJCQ0dbRTY1RDgkHT5ELz5PSUIzM1VhS09RUkBOXEg+T09XKE01IDc9NUlKP2A/MDBcPT9ER1s1MkooPVEwNVFNP0lFQTcsNjA6R0RKXDgeNUVBNh1MPFRLVSg9OkU6XkFSPCVYX0EjPjpkPWRFPTEsQ09CS1RHQ1BWTClKSEpGQTtAMkUzRFVBST5NRStaSkk3QVAyP01JUUI0RUFFMklGUT9DPD4dPl5VTTVdMUlCTTFPSzs5Qk85Vz87Pi5CWSpdUGJRPExJYExbPjdKMi9RQURJNUQ3Vzc1Q1w1UT1QJVE7N0hFRTJXR0RPTTpUN0Y0RTUwTj48SjpMRDo0SzQ+QjFCI0heLk1MNFsgSBNENDA8QlkqOUZGRTRDTFdSSUtAKVo7My02V0heLT08TVVOMUcwPjhBRUQ9SkBNOjxJSzpCJ0AXSihaW0A7UEc9V1I+YUtBNFc1USdHYVI7PU4xO0ZSWitQUTk7QD9HQDczPl02RSxWVTJYOyAkP0NBVUkiXUNYOU9DRjJFNC8uRGQsOVtFI0g2SkpAQS4wQz49RmJGQzlVTUhOUT06NlIxMTleS0o6PkhUXC1LODBkQUg+Qj9ES1lONTE2QDw+N1sIUU9OSjkoUSxDVkE3Pj9YPjtETQ==",
          "dtype": "i1"
         }
        },
        {
         "box": {
          "visible": true
         },
         "meanline": {
          "visible": true
         },
         "name": "Reading Score",
         "type": "violin",
         "y": {
          "bdata": "SFpfOU5TXytAPDY0UUg1S1kgKjpFSzZJR0o2RUZGSkFIKldRUUBaOD1JOkE4NkFHSlQ3RSxOVClVNzsRSic9UDpAJUg6QD83MzkxKRpOSkQxLS9AJ1BTR0ZWSCJPLVZRQkhDQ0NKWyxWQ2Q/TEBZNzU6ZE1VUj9FXFldOVBfRE1SMVQlSlFPNzY3Qj1IPjcrSSdUREtkQ0NGMUNZSjxWPk5YNTVcZDNMU0tJWFZDM1s2TUZkREAyRTRDTEI0WEFTQD5UN0U4NU9UUU1FKUc+UFE9Txw+M1tTVipNOERVQVBCOEgySF9AK1ZXUktCPDRQRFM0M0pMTEZAPDFTRlA0SUlNS1FPTzJdSSpLSFxMPzE1RlVOXD9WODQwT04uUlJZS0xGSTxJTT4pSi5XTjZUTEtDVzRHOUw8PUNAQlJIR0FPVlE1Llo9F0s3PCU4Tl1ERjMmNz1JTEhJUD1eSkpBOU46R0g9Qj5aPlQ6Ijw6OkJAVE1JSmFGK1pfU0BWZFExK0xJTkBGQ0RDNkotQ1k/OzYrQWM7SUFQOVRHU0JDSElKSTs4XTo6VSdDU0c7P0JIODtCMERCOFhRUUlTUkpCUS5JVVxNOj04WTZkQTo2Rlo6Vx9DWEpVRVZDWkw+REBHRztENDRKL0s1UlVAU1hAQDBORUdPVz1ZO1JGO05cRzIxPWFXWUpOTjFWOjs0PD01KUpDNj1YRVM8QkJcRVJNXz9TZENDSExaMD4tJ0hDRkJLSlpQMytkRzBES2A+QlE3M1s4PWFPSUtNTEk/QEI5PkRMZE8YNk1SPB1OOVlIVDpAPzw7Wk1dRC1OUUk9PzNgOmFGMDkzQDxKWFRKUFxMSjRYUU9BUUY+NU84UFZGT0NDQjxXTUJHRT88SVVKSEw5TlRNQE5SSz1IRDcoQmNLTjpaNUxKTT9ZUkhOQlFDVEA/SCI7Vz1UVWRRRl5OYExJSDtaMCtKSzNcJ00uWS86OU9CRzxJOVRJN09LQDxURUhNWjdfOkQ7TUg6UT4/SEs+RzwwSUNOQTpILE9VOFpVO1EzTyZBQT5CSlQ0REZUPDdJUF5VTFFKLUs2Hy9AVFBWO0ZIW1paNFc6Q0RFVjY8VjxSMkBAUjlNNDosTUFVVTZIS0NEVUNAYURPMUk+VipHXVI1KkozOkhUWj5AUj1ITEBGSS4zTGRIQTNVXENKPiIdTjZOVE4wZFRNMFRLQCpUPT49RmQ9TWBGNUJBRkA4PSs4SjlHS1c/OTpRREJbQj5EPVI6MktJTUo0RTlXZD9ROjZkTDlGRD9MVGRIMkE/Uj5BKV8YTlVXSzM7Sy1WUVJMSD9jN0dOVg==",
          "dtype": "i1"
         }
        },
        {
         "box": {
          "visible": true
         },
         "meanline": {
          "visible": true
         },
         "name": "Writing Score",
         "type": "violin",
         "y": {
          "bdata": "SlhdLEtOXCdDMjQrSUY6TlYcLj0/RjVJUEg3S0FLSj1BJlJPUztYOTZEQUI2OT5MTFIwRCpLVytWMToKSCI3Rzs9JUo4OUk/MDgpJhZRSEQyLTY/IlJYSkNSSiRHMlxSPkY+PkNKWS9aSGRARkhiMS82ZEpSTz1BWVxdOElWQ0pKM1IoRlRLMCk4Q0VHQDYvTiFLQlFdRURCLz1YTjxXQEpVNDFbZDNOTkZKTlFGNlc6TT5kS0IvRjFBQUQtV0VPQj5VNEEzN0xWTUVEKk4+TExCTxs8OFFLWCdGOEpJPktJNkc2QF5CKlNOVE1DSjNQQlM3K0VHSkQ+NTFTRkg0RkRNTlFNTjNaRClRTV9GPSo6R0xJXUtQOSouVE4uUlhSTE1ERjlLUDwrRDJLUTRRQFNFUSxDNFA5REVLQVtORT9UT1A1K14+E00zPSM1UV9CRSsbPDQ/SkNDSzlfQkxFNFA5RkY9RT1ZO046IDo8NT06VUdGSGBJKVJkTT5TX0ctK0tGQ0BLO01DOE0pP185NkMrN2Q+RD9NOFVKTjxDT0VEQz42XUBDUCI+VkE1NjtGNzJCNUBJM1JPUEVMSU08UCpIVWFKMT4vWTBkRDctTFs+WyZBVUxaSlQ9W1NCSEZDRDg9LjZHOEo5UkxGWlpEQjRMREhSXDZcNlBCNk1XSSs0Pl5VVElOTzRUOTIxOzwrL0ZJNTpeRFM6PkdWRFBPWUJQYUBARUFYMkAoIU9CRj5PSlxQLi1kTi9DRlw4QEc1NFk6RGBQTlBNTEk+QUE2MkBJY0gPMElRPx5QM1o+UjY+QT9CW0pdSCZTVEQ2ODRWPmM/Li43RkFRVVBAUVhKSTNaT1A8UUFEN1E1TGJKT0NAPTpVST9FQz88R1c9TUQyTFROQkxMTjxKPDYsRGRESSxTNU5RSThWWkZPO1JIV0NAQSQ0TzpaVWNUSldIY0pQRjtYKilHTTlUJVArXiw5O1RJSTdIOFJIL0pHRDtWREFLVTVcNEhBTUA2Vj87SE08SzkxSkhPPDdGK1JSOVRSPk8sTSA9PTxGRU0zSUZRNjlESV9XTkpLKEUzJDFDTFNXQExEWFxdM1I0OkZMUTU5WTpZLUo5TzVJLjMkTEBUVTJERUM/XT03YEFRLkg1VyZQW1g0KUgzL0xOUj1CVDZQSkJGRyw2UF87SjBbVUlLRSYbTz9SWUopZFRNM1tIRjBSQkI3QmQ0UFtDLkJBRTw0RywzRj5JSlo6NTlVRUhgQD09OlA8NElHU0g2RT5RZDtHQDVkSzpIQDxDUGRFPD1DTTw6MF4XTlZbUjYzTC1TS05MSj5fN0FNVg==",
          "dtype": "i1"
         }
        }
       ],
       "layout": {
        "template": {
         "data": {
          "bar": [
           {
            "error_x": {
             "color": "#2a3f5f"
            },
            "error_y": {
             "color": "#2a3f5f"
            },
            "marker": {
             "line": {
              "color": "#E5ECF6",
              "width": 0.5
             },
             "pattern": {
              "fillmode": "overlay",
              "size": 10,
              "solidity": 0.2
             }
            },
            "type": "bar"
           }
          ],
          "barpolar": [
           {
            "marker": {
             "line": {
              "color": "#E5ECF6",
              "width": 0.5
             },
             "pattern": {
              "fillmode": "overlay",
              "size": 10,
              "solidity": 0.2
             }
            },
            "type": "barpolar"
           }
          ],
          "carpet": [
           {
            "aaxis": {
             "endlinecolor": "#2a3f5f",
             "gridcolor": "white",
             "linecolor": "white",
             "minorgridcolor": "white",
             "startlinecolor": "#2a3f5f"
            },
            "baxis": {
             "endlinecolor": "#2a3f5f",
             "gridcolor": "white",
             "linecolor": "white",
             "minorgridcolor": "white",
             "startlinecolor": "#2a3f5f"
            },
            "type": "carpet"
           }
          ],
          "choropleth": [
           {
            "colorbar": {
             "outlinewidth": 0,
             "ticks": ""
            },
            "type": "choropleth"
           }
          ],
          "contour": [
           {
            "colorbar": {
             "outlinewidth": 0,
             "ticks": ""
            },
            "colorscale": [
             [
              0,
              "#0d0887"
             ],
             [
              0.1111111111111111,
              "#46039f"
             ],
             [
              0.2222222222222222,
              "#7201a8"
             ],
             [
              0.3333333333333333,
              "#9c179e"
             ],
             [
              0.4444444444444444,
              "#bd3786"
             ],
             [
              0.5555555555555556,
              "#d8576b"
             ],
             [
              0.6666666666666666,
              "#ed7953"
             ],
             [
              0.7777777777777778,
              "#fb9f3a"
             ],
             [
              0.8888888888888888,
              "#fdca26"
             ],
             [
              1,
              "#f0f921"
             ]
            ],
            "type": "contour"
           }
          ],
          "contourcarpet": [
           {
            "colorbar": {
             "outlinewidth": 0,
             "ticks": ""
            },
            "type": "contourcarpet"
           }
          ],
          "heatmap": [
           {
            "colorbar": {
             "outlinewidth": 0,
             "ticks": ""
            },
            "colorscale": [
             [
              0,
              "#0d0887"
             ],
             [
              0.1111111111111111,
              "#46039f"
             ],
             [
              0.2222222222222222,
              "#7201a8"
             ],
             [
              0.3333333333333333,
              "#9c179e"
             ],
             [
              0.4444444444444444,
              "#bd3786"
             ],
             [
              0.5555555555555556,
              "#d8576b"
             ],
             [
              0.6666666666666666,
              "#ed7953"
             ],
             [
              0.7777777777777778,
              "#fb9f3a"
             ],
             [
              0.8888888888888888,
              "#fdca26"
             ],
             [
              1,
              "#f0f921"
             ]
            ],
            "type": "heatmap"
           }
          ],
          "histogram": [
           {
            "marker": {
             "pattern": {
              "fillmode": "overlay",
              "size": 10,
              "solidity": 0.2
             }
            },
            "type": "histogram"
           }
          ],
          "histogram2d": [
           {
            "colorbar": {
             "outlinewidth": 0,
             "ticks": ""
            },
            "colorscale": [
             [
              0,
              "#0d0887"
             ],
             [
              0.1111111111111111,
              "#46039f"
             ],
             [
              0.2222222222222222,
              "#7201a8"
             ],
             [
              0.3333333333333333,
              "#9c179e"
             ],
             [
              0.4444444444444444,
              "#bd3786"
             ],
             [
              0.5555555555555556,
              "#d8576b"
             ],
             [
              0.6666666666666666,
              "#ed7953"
             ],
             [
              0.7777777777777778,
              "#fb9f3a"
             ],
             [
              0.8888888888888888,
              "#fdca26"
             ],
             [
              1,
              "#f0f921"
             ]
            ],
            "type": "histogram2d"
           }
          ],
          "histogram2dcontour": [
           {
            "colorbar": {
             "outlinewidth": 0,
             "ticks": ""
            },
            "colorscale": [
             [
              0,
              "#0d0887"
             ],
             [
              0.1111111111111111,
              "#46039f"
             ],
             [
              0.2222222222222222,
              "#7201a8"
             ],
             [
              0.3333333333333333,
              "#9c179e"
             ],
             [
              0.4444444444444444,
              "#bd3786"
             ],
             [
              0.5555555555555556,
              "#d8576b"
             ],
             [
              0.6666666666666666,
              "#ed7953"
             ],
             [
              0.7777777777777778,
              "#fb9f3a"
             ],
             [
              0.8888888888888888,
              "#fdca26"
             ],
             [
              1,
              "#f0f921"
             ]
            ],
            "type": "histogram2dcontour"
           }
          ],
          "mesh3d": [
           {
            "colorbar": {
             "outlinewidth": 0,
             "ticks": ""
            },
            "type": "mesh3d"
           }
          ],
          "parcoords": [
           {
            "line": {
             "colorbar": {
              "outlinewidth": 0,
              "ticks": ""
             }
            },
            "type": "parcoords"
           }
          ],
          "pie": [
           {
            "automargin": true,
            "type": "pie"
           }
          ],
          "scatter": [
           {
            "fillpattern": {
             "fillmode": "overlay",
             "size": 10,
             "solidity": 0.2
            },
            "type": "scatter"
           }
          ],
          "scatter3d": [
           {
            "line": {
             "colorbar": {
              "outlinewidth": 0,
              "ticks": ""
             }
            },
            "marker": {
             "colorbar": {
              "outlinewidth": 0,
              "ticks": ""
             }
            },
            "type": "scatter3d"
           }
          ],
          "scattercarpet": [
           {
            "marker": {
             "colorbar": {
              "outlinewidth": 0,
              "ticks": ""
             }
            },
            "type": "scattercarpet"
           }
          ],
          "scattergeo": [
           {
            "marker": {
             "colorbar": {
              "outlinewidth": 0,
              "ticks": ""
             }
            },
            "type": "scattergeo"
           }
          ],
          "scattergl": [
           {
            "marker": {
             "colorbar": {
              "outlinewidth": 0,
              "ticks": ""
             }
            },
            "type": "scattergl"
           }
          ],
          "scattermap": [
           {
            "marker": {
             "colorbar": {
              "outlinewidth": 0,
              "ticks": ""
             }
            },
            "type": "scattermap"
           }
          ],
          "scattermapbox": [
           {
            "marker": {
             "colorbar": {
              "outlinewidth": 0,
              "ticks": ""
             }
            },
            "type": "scattermapbox"
           }
          ],
          "scatterpolar": [
           {
            "marker": {
             "colorbar": {
              "outlinewidth": 0,
              "ticks": ""
             }
            },
            "type": "scatterpolar"
           }
          ],
          "scatterpolargl": [
           {
            "marker": {
             "colorbar": {
              "outlinewidth": 0,
              "ticks": ""
             }
            },
            "type": "scatterpolargl"
           }
          ],
          "scatterternary": [
           {
            "marker": {
             "colorbar": {
              "outlinewidth": 0,
              "ticks": ""
             }
            },
            "type": "scatterternary"
           }
          ],
          "surface": [
           {
            "colorbar": {
             "outlinewidth": 0,
             "ticks": ""
            },
            "colorscale": [
             [
              0,
              "#0d0887"
             ],
             [
              0.1111111111111111,
              "#46039f"
             ],
             [
              0.2222222222222222,
              "#7201a8"
             ],
             [
              0.3333333333333333,
              "#9c179e"
             ],
             [
              0.4444444444444444,
              "#bd3786"
             ],
             [
              0.5555555555555556,
              "#d8576b"
             ],
             [
              0.6666666666666666,
              "#ed7953"
             ],
             [
              0.7777777777777778,
              "#fb9f3a"
             ],
             [
              0.8888888888888888,
              "#fdca26"
             ],
             [
              1,
              "#f0f921"
             ]
            ],
            "type": "surface"
           }
          ],
          "table": [
           {
            "cells": {
             "fill": {
              "color": "#EBF0F8"
             },
             "line": {
              "color": "white"
             }
            },
            "header": {
             "fill": {
              "color": "#C8D4E3"
             },
             "line": {
              "color": "white"
             }
            },
            "type": "table"
           }
          ]
         },
         "layout": {
          "annotationdefaults": {
           "arrowcolor": "#2a3f5f",
           "arrowhead": 0,
           "arrowwidth": 1
          },
          "autotypenumbers": "strict",
          "coloraxis": {
           "colorbar": {
            "outlinewidth": 0,
            "ticks": ""
           }
          },
          "colorscale": {
           "diverging": [
            [
             0,
             "#8e0152"
            ],
            [
             0.1,
             "#c51b7d"
            ],
            [
             0.2,
             "#de77ae"
            ],
            [
             0.3,
             "#f1b6da"
            ],
            [
             0.4,
             "#fde0ef"
            ],
            [
             0.5,
             "#f7f7f7"
            ],
            [
             0.6,
             "#e6f5d0"
            ],
            [
             0.7,
             "#b8e186"
            ],
            [
             0.8,
             "#7fbc41"
            ],
            [
             0.9,
             "#4d9221"
            ],
            [
             1,
             "#276419"
            ]
           ],
           "sequential": [
            [
             0,
             "#0d0887"
            ],
            [
             0.1111111111111111,
             "#46039f"
            ],
            [
             0.2222222222222222,
             "#7201a8"
            ],
            [
             0.3333333333333333,
             "#9c179e"
            ],
            [
             0.4444444444444444,
             "#bd3786"
            ],
            [
             0.5555555555555556,
             "#d8576b"
            ],
            [
             0.6666666666666666,
             "#ed7953"
            ],
            [
             0.7777777777777778,
             "#fb9f3a"
            ],
            [
             0.8888888888888888,
             "#fdca26"
            ],
            [
             1,
             "#f0f921"
            ]
           ],
           "sequentialminus": [
            [
             0,
             "#0d0887"
            ],
            [
             0.1111111111111111,
             "#46039f"
            ],
            [
             0.2222222222222222,
             "#7201a8"
            ],
            [
             0.3333333333333333,
             "#9c179e"
            ],
            [
             0.4444444444444444,
             "#bd3786"
            ],
            [
             0.5555555555555556,
             "#d8576b"
            ],
            [
             0.6666666666666666,
             "#ed7953"
            ],
            [
             0.7777777777777778,
             "#fb9f3a"
            ],
            [
             0.8888888888888888,
             "#fdca26"
            ],
            [
             1,
             "#f0f921"
            ]
           ]
          },
          "colorway": [
           "#636efa",
           "#EF553B",
           "#00cc96",
           "#ab63fa",
           "#FFA15A",
           "#19d3f3",
           "#FF6692",
           "#B6E880",
           "#FF97FF",
           "#FECB52"
          ],
          "font": {
           "color": "#2a3f5f"
          },
          "geo": {
           "bgcolor": "white",
           "lakecolor": "white",
           "landcolor": "#E5ECF6",
           "showlakes": true,
           "showland": true,
           "subunitcolor": "white"
          },
          "hoverlabel": {
           "align": "left"
          },
          "hovermode": "closest",
          "mapbox": {
           "style": "light"
          },
          "paper_bgcolor": "white",
          "plot_bgcolor": "#E5ECF6",
          "polar": {
           "angularaxis": {
            "gridcolor": "white",
            "linecolor": "white",
            "ticks": ""
           },
           "bgcolor": "#E5ECF6",
           "radialaxis": {
            "gridcolor": "white",
            "linecolor": "white",
            "ticks": ""
           }
          },
          "scene": {
           "xaxis": {
            "backgroundcolor": "#E5ECF6",
            "gridcolor": "white",
            "gridwidth": 2,
            "linecolor": "white",
            "showbackground": true,
            "ticks": "",
            "zerolinecolor": "white"
           },
           "yaxis": {
            "backgroundcolor": "#E5ECF6",
            "gridcolor": "white",
            "gridwidth": 2,
            "linecolor": "white",
            "showbackground": true,
            "ticks": "",
            "zerolinecolor": "white"
           },
           "zaxis": {
            "backgroundcolor": "#E5ECF6",
            "gridcolor": "white",
            "gridwidth": 2,
            "linecolor": "white",
            "showbackground": true,
            "ticks": "",
            "zerolinecolor": "white"
           }
          },
          "shapedefaults": {
           "line": {
            "color": "#2a3f5f"
           }
          },
          "ternary": {
           "aaxis": {
            "gridcolor": "white",
            "linecolor": "white",
            "ticks": ""
           },
           "baxis": {
            "gridcolor": "white",
            "linecolor": "white",
            "ticks": ""
           },
           "bgcolor": "#E5ECF6",
           "caxis": {
            "gridcolor": "white",
            "linecolor": "white",
            "ticks": ""
           }
          },
          "title": {
           "x": 0.05
          },
          "xaxis": {
           "automargin": true,
           "gridcolor": "white",
           "linecolor": "white",
           "ticks": "",
           "title": {
            "standoff": 15
           },
           "zerolinecolor": "white",
           "zerolinewidth": 2
          },
          "yaxis": {
           "automargin": true,
           "gridcolor": "white",
           "linecolor": "white",
           "ticks": "",
           "title": {
            "standoff": 15
           },
           "zerolinecolor": "white",
           "zerolinewidth": 2
          }
         }
        },
        "title": {
         "text": "Score Distribution by Subject"
        },
        "yaxis": {
         "title": {
          "text": "Score"
         }
        }
       }
      }
     },
     "metadata": {},
     "output_type": "display_data"
    }
   ],
   "source": [
    "#Violin Plot with Box Plot\n",
    "fig = go.Figure()\n",
    "for subject in ['math_score', 'reading_score', 'writing_score']:\n",
    "    fig.add_trace(go.Violin(y=df[subject], name=subject.replace('_', ' ').title(),\n",
    "                           box_visible=True, meanline_visible=True))\n",
    "fig.update_layout(title='Score Distribution by Subject', yaxis_title='Score')\n",
    "fig.show()"
   ]
  },
  {
   "cell_type": "code",
   "execution_count": 24,
   "id": "d27d933d",
   "metadata": {},
   "outputs": [
    {
     "data": {
      "application/vnd.plotly.v1+json": {
       "config": {
        "plotlyServerURL": "https://plot.ly"
       },
       "data": [
        {
         "fill": "toself",
         "name": "group A",
         "r": {
          "bdata": "RShCEYrQTkCTlaxkJStQQCUrWclKVk9A",
          "dtype": "f8"
         },
         "theta": [
          "Math",
          "Reading",
          "Writing"
         ],
         "type": "scatterpolar"
        },
        {
         "fill": "toself",
         "name": "group B",
         "r": {
          "bdata": "n1vi1O+5T0BpxwqEkdZQQGZmZmZmZlBA",
          "dtype": "f8"
         },
         "theta": [
          "Math",
          "Reading",
          "Writing"
         ],
         "type": "scatterpolar"
        },
        {
         "fill": "toself",
         "name": "group C",
         "r": {
          "bdata": "W/KuWrEdUEDuaYTlnkZRQHNPIyz39FBA",
          "dtype": "f8"
         },
         "theta": [
          "Math",
          "Reading",
          "Writing"
         ],
         "type": "scatterpolar"
        },
        {
         "fill": "toself",
         "name": "group D",
         "r": {
          "bdata": "HXtrwzTXUECk5FlG9IFRQAz+Kk5IiVFA",
          "dtype": "f8"
         },
         "theta": [
          "Math",
          "Reading",
          "Writing"
         ],
         "type": "scatterpolar"
        },
        {
         "fill": "toself",
         "name": "group E",
         "r": {
          "bdata": "SZIkSZJ0UkAd1EEd1EFSQKEO6qAO2lFA",
          "dtype": "f8"
         },
         "theta": [
          "Math",
          "Reading",
          "Writing"
         ],
         "type": "scatterpolar"
        }
       ],
       "layout": {
        "polar": {
         "radialaxis": {
          "range": [
           0,
           100
          ],
          "visible": true
         }
        },
        "template": {
         "data": {
          "bar": [
           {
            "error_x": {
             "color": "#2a3f5f"
            },
            "error_y": {
             "color": "#2a3f5f"
            },
            "marker": {
             "line": {
              "color": "#E5ECF6",
              "width": 0.5
             },
             "pattern": {
              "fillmode": "overlay",
              "size": 10,
              "solidity": 0.2
             }
            },
            "type": "bar"
           }
          ],
          "barpolar": [
           {
            "marker": {
             "line": {
              "color": "#E5ECF6",
              "width": 0.5
             },
             "pattern": {
              "fillmode": "overlay",
              "size": 10,
              "solidity": 0.2
             }
            },
            "type": "barpolar"
           }
          ],
          "carpet": [
           {
            "aaxis": {
             "endlinecolor": "#2a3f5f",
             "gridcolor": "white",
             "linecolor": "white",
             "minorgridcolor": "white",
             "startlinecolor": "#2a3f5f"
            },
            "baxis": {
             "endlinecolor": "#2a3f5f",
             "gridcolor": "white",
             "linecolor": "white",
             "minorgridcolor": "white",
             "startlinecolor": "#2a3f5f"
            },
            "type": "carpet"
           }
          ],
          "choropleth": [
           {
            "colorbar": {
             "outlinewidth": 0,
             "ticks": ""
            },
            "type": "choropleth"
           }
          ],
          "contour": [
           {
            "colorbar": {
             "outlinewidth": 0,
             "ticks": ""
            },
            "colorscale": [
             [
              0,
              "#0d0887"
             ],
             [
              0.1111111111111111,
              "#46039f"
             ],
             [
              0.2222222222222222,
              "#7201a8"
             ],
             [
              0.3333333333333333,
              "#9c179e"
             ],
             [
              0.4444444444444444,
              "#bd3786"
             ],
             [
              0.5555555555555556,
              "#d8576b"
             ],
             [
              0.6666666666666666,
              "#ed7953"
             ],
             [
              0.7777777777777778,
              "#fb9f3a"
             ],
             [
              0.8888888888888888,
              "#fdca26"
             ],
             [
              1,
              "#f0f921"
             ]
            ],
            "type": "contour"
           }
          ],
          "contourcarpet": [
           {
            "colorbar": {
             "outlinewidth": 0,
             "ticks": ""
            },
            "type": "contourcarpet"
           }
          ],
          "heatmap": [
           {
            "colorbar": {
             "outlinewidth": 0,
             "ticks": ""
            },
            "colorscale": [
             [
              0,
              "#0d0887"
             ],
             [
              0.1111111111111111,
              "#46039f"
             ],
             [
              0.2222222222222222,
              "#7201a8"
             ],
             [
              0.3333333333333333,
              "#9c179e"
             ],
             [
              0.4444444444444444,
              "#bd3786"
             ],
             [
              0.5555555555555556,
              "#d8576b"
             ],
             [
              0.6666666666666666,
              "#ed7953"
             ],
             [
              0.7777777777777778,
              "#fb9f3a"
             ],
             [
              0.8888888888888888,
              "#fdca26"
             ],
             [
              1,
              "#f0f921"
             ]
            ],
            "type": "heatmap"
           }
          ],
          "histogram": [
           {
            "marker": {
             "pattern": {
              "fillmode": "overlay",
              "size": 10,
              "solidity": 0.2
             }
            },
            "type": "histogram"
           }
          ],
          "histogram2d": [
           {
            "colorbar": {
             "outlinewidth": 0,
             "ticks": ""
            },
            "colorscale": [
             [
              0,
              "#0d0887"
             ],
             [
              0.1111111111111111,
              "#46039f"
             ],
             [
              0.2222222222222222,
              "#7201a8"
             ],
             [
              0.3333333333333333,
              "#9c179e"
             ],
             [
              0.4444444444444444,
              "#bd3786"
             ],
             [
              0.5555555555555556,
              "#d8576b"
             ],
             [
              0.6666666666666666,
              "#ed7953"
             ],
             [
              0.7777777777777778,
              "#fb9f3a"
             ],
             [
              0.8888888888888888,
              "#fdca26"
             ],
             [
              1,
              "#f0f921"
             ]
            ],
            "type": "histogram2d"
           }
          ],
          "histogram2dcontour": [
           {
            "colorbar": {
             "outlinewidth": 0,
             "ticks": ""
            },
            "colorscale": [
             [
              0,
              "#0d0887"
             ],
             [
              0.1111111111111111,
              "#46039f"
             ],
             [
              0.2222222222222222,
              "#7201a8"
             ],
             [
              0.3333333333333333,
              "#9c179e"
             ],
             [
              0.4444444444444444,
              "#bd3786"
             ],
             [
              0.5555555555555556,
              "#d8576b"
             ],
             [
              0.6666666666666666,
              "#ed7953"
             ],
             [
              0.7777777777777778,
              "#fb9f3a"
             ],
             [
              0.8888888888888888,
              "#fdca26"
             ],
             [
              1,
              "#f0f921"
             ]
            ],
            "type": "histogram2dcontour"
           }
          ],
          "mesh3d": [
           {
            "colorbar": {
             "outlinewidth": 0,
             "ticks": ""
            },
            "type": "mesh3d"
           }
          ],
          "parcoords": [
           {
            "line": {
             "colorbar": {
              "outlinewidth": 0,
              "ticks": ""
             }
            },
            "type": "parcoords"
           }
          ],
          "pie": [
           {
            "automargin": true,
            "type": "pie"
           }
          ],
          "scatter": [
           {
            "fillpattern": {
             "fillmode": "overlay",
             "size": 10,
             "solidity": 0.2
            },
            "type": "scatter"
           }
          ],
          "scatter3d": [
           {
            "line": {
             "colorbar": {
              "outlinewidth": 0,
              "ticks": ""
             }
            },
            "marker": {
             "colorbar": {
              "outlinewidth": 0,
              "ticks": ""
             }
            },
            "type": "scatter3d"
           }
          ],
          "scattercarpet": [
           {
            "marker": {
             "colorbar": {
              "outlinewidth": 0,
              "ticks": ""
             }
            },
            "type": "scattercarpet"
           }
          ],
          "scattergeo": [
           {
            "marker": {
             "colorbar": {
              "outlinewidth": 0,
              "ticks": ""
             }
            },
            "type": "scattergeo"
           }
          ],
          "scattergl": [
           {
            "marker": {
             "colorbar": {
              "outlinewidth": 0,
              "ticks": ""
             }
            },
            "type": "scattergl"
           }
          ],
          "scattermap": [
           {
            "marker": {
             "colorbar": {
              "outlinewidth": 0,
              "ticks": ""
             }
            },
            "type": "scattermap"
           }
          ],
          "scattermapbox": [
           {
            "marker": {
             "colorbar": {
              "outlinewidth": 0,
              "ticks": ""
             }
            },
            "type": "scattermapbox"
           }
          ],
          "scatterpolar": [
           {
            "marker": {
             "colorbar": {
              "outlinewidth": 0,
              "ticks": ""
             }
            },
            "type": "scatterpolar"
           }
          ],
          "scatterpolargl": [
           {
            "marker": {
             "colorbar": {
              "outlinewidth": 0,
              "ticks": ""
             }
            },
            "type": "scatterpolargl"
           }
          ],
          "scatterternary": [
           {
            "marker": {
             "colorbar": {
              "outlinewidth": 0,
              "ticks": ""
             }
            },
            "type": "scatterternary"
           }
          ],
          "surface": [
           {
            "colorbar": {
             "outlinewidth": 0,
             "ticks": ""
            },
            "colorscale": [
             [
              0,
              "#0d0887"
             ],
             [
              0.1111111111111111,
              "#46039f"
             ],
             [
              0.2222222222222222,
              "#7201a8"
             ],
             [
              0.3333333333333333,
              "#9c179e"
             ],
             [
              0.4444444444444444,
              "#bd3786"
             ],
             [
              0.5555555555555556,
              "#d8576b"
             ],
             [
              0.6666666666666666,
              "#ed7953"
             ],
             [
              0.7777777777777778,
              "#fb9f3a"
             ],
             [
              0.8888888888888888,
              "#fdca26"
             ],
             [
              1,
              "#f0f921"
             ]
            ],
            "type": "surface"
           }
          ],
          "table": [
           {
            "cells": {
             "fill": {
              "color": "#EBF0F8"
             },
             "line": {
              "color": "white"
             }
            },
            "header": {
             "fill": {
              "color": "#C8D4E3"
             },
             "line": {
              "color": "white"
             }
            },
            "type": "table"
           }
          ]
         },
         "layout": {
          "annotationdefaults": {
           "arrowcolor": "#2a3f5f",
           "arrowhead": 0,
           "arrowwidth": 1
          },
          "autotypenumbers": "strict",
          "coloraxis": {
           "colorbar": {
            "outlinewidth": 0,
            "ticks": ""
           }
          },
          "colorscale": {
           "diverging": [
            [
             0,
             "#8e0152"
            ],
            [
             0.1,
             "#c51b7d"
            ],
            [
             0.2,
             "#de77ae"
            ],
            [
             0.3,
             "#f1b6da"
            ],
            [
             0.4,
             "#fde0ef"
            ],
            [
             0.5,
             "#f7f7f7"
            ],
            [
             0.6,
             "#e6f5d0"
            ],
            [
             0.7,
             "#b8e186"
            ],
            [
             0.8,
             "#7fbc41"
            ],
            [
             0.9,
             "#4d9221"
            ],
            [
             1,
             "#276419"
            ]
           ],
           "sequential": [
            [
             0,
             "#0d0887"
            ],
            [
             0.1111111111111111,
             "#46039f"
            ],
            [
             0.2222222222222222,
             "#7201a8"
            ],
            [
             0.3333333333333333,
             "#9c179e"
            ],
            [
             0.4444444444444444,
             "#bd3786"
            ],
            [
             0.5555555555555556,
             "#d8576b"
            ],
            [
             0.6666666666666666,
             "#ed7953"
            ],
            [
             0.7777777777777778,
             "#fb9f3a"
            ],
            [
             0.8888888888888888,
             "#fdca26"
            ],
            [
             1,
             "#f0f921"
            ]
           ],
           "sequentialminus": [
            [
             0,
             "#0d0887"
            ],
            [
             0.1111111111111111,
             "#46039f"
            ],
            [
             0.2222222222222222,
             "#7201a8"
            ],
            [
             0.3333333333333333,
             "#9c179e"
            ],
            [
             0.4444444444444444,
             "#bd3786"
            ],
            [
             0.5555555555555556,
             "#d8576b"
            ],
            [
             0.6666666666666666,
             "#ed7953"
            ],
            [
             0.7777777777777778,
             "#fb9f3a"
            ],
            [
             0.8888888888888888,
             "#fdca26"
            ],
            [
             1,
             "#f0f921"
            ]
           ]
          },
          "colorway": [
           "#636efa",
           "#EF553B",
           "#00cc96",
           "#ab63fa",
           "#FFA15A",
           "#19d3f3",
           "#FF6692",
           "#B6E880",
           "#FF97FF",
           "#FECB52"
          ],
          "font": {
           "color": "#2a3f5f"
          },
          "geo": {
           "bgcolor": "white",
           "lakecolor": "white",
           "landcolor": "#E5ECF6",
           "showlakes": true,
           "showland": true,
           "subunitcolor": "white"
          },
          "hoverlabel": {
           "align": "left"
          },
          "hovermode": "closest",
          "mapbox": {
           "style": "light"
          },
          "paper_bgcolor": "white",
          "plot_bgcolor": "#E5ECF6",
          "polar": {
           "angularaxis": {
            "gridcolor": "white",
            "linecolor": "white",
            "ticks": ""
           },
           "bgcolor": "#E5ECF6",
           "radialaxis": {
            "gridcolor": "white",
            "linecolor": "white",
            "ticks": ""
           }
          },
          "scene": {
           "xaxis": {
            "backgroundcolor": "#E5ECF6",
            "gridcolor": "white",
            "gridwidth": 2,
            "linecolor": "white",
            "showbackground": true,
            "ticks": "",
            "zerolinecolor": "white"
           },
           "yaxis": {
            "backgroundcolor": "#E5ECF6",
            "gridcolor": "white",
            "gridwidth": 2,
            "linecolor": "white",
            "showbackground": true,
            "ticks": "",
            "zerolinecolor": "white"
           },
           "zaxis": {
            "backgroundcolor": "#E5ECF6",
            "gridcolor": "white",
            "gridwidth": 2,
            "linecolor": "white",
            "showbackground": true,
            "ticks": "",
            "zerolinecolor": "white"
           }
          },
          "shapedefaults": {
           "line": {
            "color": "#2a3f5f"
           }
          },
          "ternary": {
           "aaxis": {
            "gridcolor": "white",
            "linecolor": "white",
            "ticks": ""
           },
           "baxis": {
            "gridcolor": "white",
            "linecolor": "white",
            "ticks": ""
           },
           "bgcolor": "#E5ECF6",
           "caxis": {
            "gridcolor": "white",
            "linecolor": "white",
            "ticks": ""
           }
          },
          "title": {
           "x": 0.05
          },
          "xaxis": {
           "automargin": true,
           "gridcolor": "white",
           "linecolor": "white",
           "ticks": "",
           "title": {
            "standoff": 15
           },
           "zerolinecolor": "white",
           "zerolinewidth": 2
          },
          "yaxis": {
           "automargin": true,
           "gridcolor": "white",
           "linecolor": "white",
           "ticks": "",
           "title": {
            "standoff": 15
           },
           "zerolinecolor": "white",
           "zerolinewidth": 2
          }
         }
        },
        "title": {
         "text": "Average Scores by Race/Ethnicity"
        }
       }
      }
     },
     "metadata": {},
     "output_type": "display_data"
    }
   ],
   "source": [
    "#Radar Chart - Average Scores by Group\n",
    "avg_scores = df.groupby('race_ethnicity')[['math_score', 'reading_score', 'writing_score']].mean()\n",
    "\n",
    "fig = go.Figure()\n",
    "for group in avg_scores.index:\n",
    "    fig.add_trace(go.Scatterpolar(\n",
    "        r=avg_scores.loc[group].values,\n",
    "        theta=['Math', 'Reading', 'Writing'],\n",
    "        fill='toself',\n",
    "        name=group\n",
    "    ))\n",
    "fig.update_layout(polar=dict(radialaxis=dict(visible=True, range=[0, 100])),\n",
    "                  title='Average Scores by Race/Ethnicity')\n",
    "fig.show()"
   ]
  },
  {
   "cell_type": "code",
   "execution_count": 26,
   "id": "0d6281c0",
   "metadata": {},
   "outputs": [
    {
     "data": {
      "application/vnd.plotly.v1+json": {
       "config": {
        "plotlyServerURL": "https://plot.ly"
       },
       "data": [
        {
         "hovertemplate": "<b>%{hovertext}</b><br><br>parental_level_of_education=associate's degree<br>math_score=%{x}<br>reading_score=%{y}<br>total_score=%{marker.size}<extra></extra>",
         "hovertext": [
          "female",
          "male"
         ],
         "legendgroup": "associate's degree",
         "marker": {
          "color": "#636efa",
          "size": {
           "bdata": "iH6zdejHUUD7HFITjPdQQA==",
           "dtype": "f8"
          },
          "sizemode": "area",
          "sizeref": 0.18667989417989417,
          "symbol": "circle"
         },
         "mode": "markers",
         "name": "associate's degree",
         "orientation": "v",
         "showlegend": true,
         "type": "scatter",
         "x": {
          "bdata": "AAAAAABQUEAKxlvZ57BRQA==",
          "dtype": "f8"
         },
         "xaxis": "x",
         "y": {
          "bdata": "lnsaYbmHUkB+DqkJxttQQA==",
          "dtype": "f8"
         },
         "yaxis": "y"
        }
       ],
       "frames": [
        {
         "data": [
          {
           "hovertemplate": "<b>%{hovertext}</b><br><br>parental_level_of_education=associate's degree<br>math_score=%{x}<br>reading_score=%{y}<br>total_score=%{marker.size}<extra></extra>",
           "hovertext": [
            "female",
            "male"
           ],
           "legendgroup": "associate's degree",
           "marker": {
            "color": "#636efa",
            "size": {
             "bdata": "iH6zdejHUUD7HFITjPdQQA==",
             "dtype": "f8"
            },
            "sizemode": "area",
            "sizeref": 0.18667989417989417,
            "symbol": "circle"
           },
           "mode": "markers",
           "name": "associate's degree",
           "orientation": "v",
           "showlegend": true,
           "type": "scatter",
           "x": {
            "bdata": "AAAAAABQUEAKxlvZ57BRQA==",
            "dtype": "f8"
           },
           "xaxis": "x",
           "y": {
            "bdata": "lnsaYbmHUkB+DqkJxttQQA==",
            "dtype": "f8"
           },
           "yaxis": "y"
          }
         ],
         "name": "associate's degree"
        },
        {
         "data": [
          {
           "hovertemplate": "<b>%{hovertext}</b><br><br>parental_level_of_education=bachelor's degree<br>math_score=%{x}<br>reading_score=%{y}<br>total_score=%{marker.size}<extra></extra>",
           "hovertext": [
            "female",
            "male"
           ],
           "legendgroup": "bachelor's degree",
           "marker": {
            "color": "#EF553B",
            "size": {
             "bdata": "sFbAWgGrUkAxYBoDpjFRQA==",
             "dtype": "f8"
            },
            "sizemode": "area",
            "sizeref": 0.18667989417989417,
            "symbol": "circle"
           },
           "mode": "markers",
           "name": "bachelor's degree",
           "orientation": "v",
           "showlegend": true,
           "type": "scatter",
           "x": {
            "bdata": "ZlmWZVkWUUAlyFOCPKVRQA==",
            "dtype": "f8"
           },
           "xaxis": "x",
           "y": {
            "bdata": "JUmSJElSU0BGF1100QVRQA==",
            "dtype": "f8"
           },
           "yaxis": "y"
          }
         ],
         "name": "bachelor's degree"
        },
        {
         "data": [
          {
           "hovertemplate": "<b>%{hovertext}</b><br><br>parental_level_of_education=high school<br>math_score=%{x}<br>reading_score=%{y}<br>total_score=%{marker.size}<extra></extra>",
           "hovertext": [
            "female",
            "male"
           ],
           "legendgroup": "high school",
           "marker": {
            "color": "#00cc96",
            "size": {
             "bdata": "kXBK8+IvUED1nkn0nslOQA==",
             "dtype": "f8"
            },
            "sizemode": "area",
            "sizeref": 0.18667989417989417,
            "symbol": "circle"
           },
           "mode": "markers",
           "name": "high school",
           "orientation": "v",
           "showlegend": true,
           "type": "scatter",
           "x": {
            "bdata": "Ut/ZqO+sTUAtLS0tLS1QQA==",
            "dtype": "f8"
           },
           "xaxis": "x",
           "y": {
            "bdata": "Ut/ZqO8MUUB9fX19fb1OQA==",
            "dtype": "f8"
           },
           "yaxis": "y"
          }
         ],
         "name": "high school"
        },
        {
         "data": [
          {
           "hovertemplate": "<b>%{hovertext}</b><br><br>parental_level_of_education=master's degree<br>math_score=%{x}<br>reading_score=%{y}<br>total_score=%{marker.size}<extra></extra>",
           "hovertext": [
            "female",
            "male"
           ],
           "legendgroup": "master's degree",
           "marker": {
            "color": "#ab63fa",
            "size": {
             "bdata": "mNBeQntpUkCykIUsZGFSQA==",
             "dtype": "f8"
            },
            "sizemode": "area",
            "sizeref": 0.18667989417989417,
            "symbol": "circle"
           },
           "mode": "markers",
           "name": "master's degree",
           "orientation": "v",
           "showlegend": true,
           "type": "scatter",
           "x": {
            "bdata": "AAAAAACgUEBvetOb3rRSQA==",
            "dtype": "f8"
           },
           "xaxis": "x",
           "y": {
            "bdata": "OY7jOI4zU0AtZCELWUhSQA==",
            "dtype": "f8"
           },
           "yaxis": "y"
          }
         ],
         "name": "master's degree"
        },
        {
         "data": [
          {
           "hovertemplate": "<b>%{hovertext}</b><br><br>parental_level_of_education=some college<br>math_score=%{x}<br>reading_score=%{y}<br>total_score=%{marker.size}<extra></extra>",
           "hovertext": [
            "female",
            "male"
           ],
           "legendgroup": "some college",
           "marker": {
            "color": "#FFA15A",
            "size": {
             "bdata": "jv5QSC7AUUCIRcrA021QQA==",
             "dtype": "f8"
            },
            "sizemode": "area",
            "sizeref": 0.18667989417989417,
            "symbol": "circle"
           },
           "mode": "markers",
           "name": "some college",
           "orientation": "v",
           "showlegend": true,
           "type": "scatter",
           "x": {
            "bdata": "uy+PrQhaUEAJ7SW0l0BRQA==",
            "dtype": "f8"
           },
           "xaxis": "x",
           "y": {
            "bdata": "9+WxFUFjUkD3EtpLaD9QQA==",
            "dtype": "f8"
           },
           "yaxis": "y"
          }
         ],
         "name": "some college"
        },
        {
         "data": [
          {
           "hovertemplate": "<b>%{hovertext}</b><br><br>parental_level_of_education=some high school<br>math_score=%{x}<br>reading_score=%{y}<br>total_score=%{marker.size}<extra></extra>",
           "hovertext": [
            "female",
            "male"
           ],
           "legendgroup": "some high school",
           "marker": {
            "color": "#19d3f3",
            "size": {
             "bdata": "QRqkQRpkUEDpoosuuihQQA==",
             "dtype": "f8"
            },
            "sizemode": "area",
            "sizeref": 0.18667989417989417,
            "symbol": "circle"
           },
           "mode": "markers",
           "name": "some high school",
           "orientation": "v",
           "showlegend": true,
           "type": "scatter",
           "x": {
            "bdata": "YPqlX/qlTUBGF1100fVQQA==",
            "dtype": "f8"
           },
           "xaxis": "x",
           "y": {
            "bdata": "cQiHcAhHUUB00UUXXSxQQA==",
            "dtype": "f8"
           },
           "yaxis": "y"
          }
         ],
         "name": "some high school"
        }
       ],
       "layout": {
        "legend": {
         "itemsizing": "constant",
         "title": {
          "text": "parental_level_of_education"
         },
         "tracegroupgap": 0
        },
        "sliders": [
         {
          "active": 0,
          "currentvalue": {
           "prefix": "parental_level_of_education="
          },
          "len": 0.9,
          "pad": {
           "b": 10,
           "t": 60
          },
          "steps": [
           {
            "args": [
             [
              "associate's degree"
             ],
             {
              "frame": {
               "duration": 0,
               "redraw": false
              },
              "fromcurrent": true,
              "mode": "immediate",
              "transition": {
               "duration": 0,
               "easing": "linear"
              }
             }
            ],
            "label": "associate's degree",
            "method": "animate"
           },
           {
            "args": [
             [
              "bachelor's degree"
             ],
             {
              "frame": {
               "duration": 0,
               "redraw": false
              },
              "fromcurrent": true,
              "mode": "immediate",
              "transition": {
               "duration": 0,
               "easing": "linear"
              }
             }
            ],
            "label": "bachelor's degree",
            "method": "animate"
           },
           {
            "args": [
             [
              "high school"
             ],
             {
              "frame": {
               "duration": 0,
               "redraw": false
              },
              "fromcurrent": true,
              "mode": "immediate",
              "transition": {
               "duration": 0,
               "easing": "linear"
              }
             }
            ],
            "label": "high school",
            "method": "animate"
           },
           {
            "args": [
             [
              "master's degree"
             ],
             {
              "frame": {
               "duration": 0,
               "redraw": false
              },
              "fromcurrent": true,
              "mode": "immediate",
              "transition": {
               "duration": 0,
               "easing": "linear"
              }
             }
            ],
            "label": "master's degree",
            "method": "animate"
           },
           {
            "args": [
             [
              "some college"
             ],
             {
              "frame": {
               "duration": 0,
               "redraw": false
              },
              "fromcurrent": true,
              "mode": "immediate",
              "transition": {
               "duration": 0,
               "easing": "linear"
              }
             }
            ],
            "label": "some college",
            "method": "animate"
           },
           {
            "args": [
             [
              "some high school"
             ],
             {
              "frame": {
               "duration": 0,
               "redraw": false
              },
              "fromcurrent": true,
              "mode": "immediate",
              "transition": {
               "duration": 0,
               "easing": "linear"
              }
             }
            ],
            "label": "some high school",
            "method": "animate"
           }
          ],
          "x": 0.1,
          "xanchor": "left",
          "y": 0,
          "yanchor": "top"
         }
        ],
        "template": {
         "data": {
          "bar": [
           {
            "error_x": {
             "color": "#2a3f5f"
            },
            "error_y": {
             "color": "#2a3f5f"
            },
            "marker": {
             "line": {
              "color": "#E5ECF6",
              "width": 0.5
             },
             "pattern": {
              "fillmode": "overlay",
              "size": 10,
              "solidity": 0.2
             }
            },
            "type": "bar"
           }
          ],
          "barpolar": [
           {
            "marker": {
             "line": {
              "color": "#E5ECF6",
              "width": 0.5
             },
             "pattern": {
              "fillmode": "overlay",
              "size": 10,
              "solidity": 0.2
             }
            },
            "type": "barpolar"
           }
          ],
          "carpet": [
           {
            "aaxis": {
             "endlinecolor": "#2a3f5f",
             "gridcolor": "white",
             "linecolor": "white",
             "minorgridcolor": "white",
             "startlinecolor": "#2a3f5f"
            },
            "baxis": {
             "endlinecolor": "#2a3f5f",
             "gridcolor": "white",
             "linecolor": "white",
             "minorgridcolor": "white",
             "startlinecolor": "#2a3f5f"
            },
            "type": "carpet"
           }
          ],
          "choropleth": [
           {
            "colorbar": {
             "outlinewidth": 0,
             "ticks": ""
            },
            "type": "choropleth"
           }
          ],
          "contour": [
           {
            "colorbar": {
             "outlinewidth": 0,
             "ticks": ""
            },
            "colorscale": [
             [
              0,
              "#0d0887"
             ],
             [
              0.1111111111111111,
              "#46039f"
             ],
             [
              0.2222222222222222,
              "#7201a8"
             ],
             [
              0.3333333333333333,
              "#9c179e"
             ],
             [
              0.4444444444444444,
              "#bd3786"
             ],
             [
              0.5555555555555556,
              "#d8576b"
             ],
             [
              0.6666666666666666,
              "#ed7953"
             ],
             [
              0.7777777777777778,
              "#fb9f3a"
             ],
             [
              0.8888888888888888,
              "#fdca26"
             ],
             [
              1,
              "#f0f921"
             ]
            ],
            "type": "contour"
           }
          ],
          "contourcarpet": [
           {
            "colorbar": {
             "outlinewidth": 0,
             "ticks": ""
            },
            "type": "contourcarpet"
           }
          ],
          "heatmap": [
           {
            "colorbar": {
             "outlinewidth": 0,
             "ticks": ""
            },
            "colorscale": [
             [
              0,
              "#0d0887"
             ],
             [
              0.1111111111111111,
              "#46039f"
             ],
             [
              0.2222222222222222,
              "#7201a8"
             ],
             [
              0.3333333333333333,
              "#9c179e"
             ],
             [
              0.4444444444444444,
              "#bd3786"
             ],
             [
              0.5555555555555556,
              "#d8576b"
             ],
             [
              0.6666666666666666,
              "#ed7953"
             ],
             [
              0.7777777777777778,
              "#fb9f3a"
             ],
             [
              0.8888888888888888,
              "#fdca26"
             ],
             [
              1,
              "#f0f921"
             ]
            ],
            "type": "heatmap"
           }
          ],
          "histogram": [
           {
            "marker": {
             "pattern": {
              "fillmode": "overlay",
              "size": 10,
              "solidity": 0.2
             }
            },
            "type": "histogram"
           }
          ],
          "histogram2d": [
           {
            "colorbar": {
             "outlinewidth": 0,
             "ticks": ""
            },
            "colorscale": [
             [
              0,
              "#0d0887"
             ],
             [
              0.1111111111111111,
              "#46039f"
             ],
             [
              0.2222222222222222,
              "#7201a8"
             ],
             [
              0.3333333333333333,
              "#9c179e"
             ],
             [
              0.4444444444444444,
              "#bd3786"
             ],
             [
              0.5555555555555556,
              "#d8576b"
             ],
             [
              0.6666666666666666,
              "#ed7953"
             ],
             [
              0.7777777777777778,
              "#fb9f3a"
             ],
             [
              0.8888888888888888,
              "#fdca26"
             ],
             [
              1,
              "#f0f921"
             ]
            ],
            "type": "histogram2d"
           }
          ],
          "histogram2dcontour": [
           {
            "colorbar": {
             "outlinewidth": 0,
             "ticks": ""
            },
            "colorscale": [
             [
              0,
              "#0d0887"
             ],
             [
              0.1111111111111111,
              "#46039f"
             ],
             [
              0.2222222222222222,
              "#7201a8"
             ],
             [
              0.3333333333333333,
              "#9c179e"
             ],
             [
              0.4444444444444444,
              "#bd3786"
             ],
             [
              0.5555555555555556,
              "#d8576b"
             ],
             [
              0.6666666666666666,
              "#ed7953"
             ],
             [
              0.7777777777777778,
              "#fb9f3a"
             ],
             [
              0.8888888888888888,
              "#fdca26"
             ],
             [
              1,
              "#f0f921"
             ]
            ],
            "type": "histogram2dcontour"
           }
          ],
          "mesh3d": [
           {
            "colorbar": {
             "outlinewidth": 0,
             "ticks": ""
            },
            "type": "mesh3d"
           }
          ],
          "parcoords": [
           {
            "line": {
             "colorbar": {
              "outlinewidth": 0,
              "ticks": ""
             }
            },
            "type": "parcoords"
           }
          ],
          "pie": [
           {
            "automargin": true,
            "type": "pie"
           }
          ],
          "scatter": [
           {
            "fillpattern": {
             "fillmode": "overlay",
             "size": 10,
             "solidity": 0.2
            },
            "type": "scatter"
           }
          ],
          "scatter3d": [
           {
            "line": {
             "colorbar": {
              "outlinewidth": 0,
              "ticks": ""
             }
            },
            "marker": {
             "colorbar": {
              "outlinewidth": 0,
              "ticks": ""
             }
            },
            "type": "scatter3d"
           }
          ],
          "scattercarpet": [
           {
            "marker": {
             "colorbar": {
              "outlinewidth": 0,
              "ticks": ""
             }
            },
            "type": "scattercarpet"
           }
          ],
          "scattergeo": [
           {
            "marker": {
             "colorbar": {
              "outlinewidth": 0,
              "ticks": ""
             }
            },
            "type": "scattergeo"
           }
          ],
          "scattergl": [
           {
            "marker": {
             "colorbar": {
              "outlinewidth": 0,
              "ticks": ""
             }
            },
            "type": "scattergl"
           }
          ],
          "scattermap": [
           {
            "marker": {
             "colorbar": {
              "outlinewidth": 0,
              "ticks": ""
             }
            },
            "type": "scattermap"
           }
          ],
          "scattermapbox": [
           {
            "marker": {
             "colorbar": {
              "outlinewidth": 0,
              "ticks": ""
             }
            },
            "type": "scattermapbox"
           }
          ],
          "scatterpolar": [
           {
            "marker": {
             "colorbar": {
              "outlinewidth": 0,
              "ticks": ""
             }
            },
            "type": "scatterpolar"
           }
          ],
          "scatterpolargl": [
           {
            "marker": {
             "colorbar": {
              "outlinewidth": 0,
              "ticks": ""
             }
            },
            "type": "scatterpolargl"
           }
          ],
          "scatterternary": [
           {
            "marker": {
             "colorbar": {
              "outlinewidth": 0,
              "ticks": ""
             }
            },
            "type": "scatterternary"
           }
          ],
          "surface": [
           {
            "colorbar": {
             "outlinewidth": 0,
             "ticks": ""
            },
            "colorscale": [
             [
              0,
              "#0d0887"
             ],
             [
              0.1111111111111111,
              "#46039f"
             ],
             [
              0.2222222222222222,
              "#7201a8"
             ],
             [
              0.3333333333333333,
              "#9c179e"
             ],
             [
              0.4444444444444444,
              "#bd3786"
             ],
             [
              0.5555555555555556,
              "#d8576b"
             ],
             [
              0.6666666666666666,
              "#ed7953"
             ],
             [
              0.7777777777777778,
              "#fb9f3a"
             ],
             [
              0.8888888888888888,
              "#fdca26"
             ],
             [
              1,
              "#f0f921"
             ]
            ],
            "type": "surface"
           }
          ],
          "table": [
           {
            "cells": {
             "fill": {
              "color": "#EBF0F8"
             },
             "line": {
              "color": "white"
             }
            },
            "header": {
             "fill": {
              "color": "#C8D4E3"
             },
             "line": {
              "color": "white"
             }
            },
            "type": "table"
           }
          ]
         },
         "layout": {
          "annotationdefaults": {
           "arrowcolor": "#2a3f5f",
           "arrowhead": 0,
           "arrowwidth": 1
          },
          "autotypenumbers": "strict",
          "coloraxis": {
           "colorbar": {
            "outlinewidth": 0,
            "ticks": ""
           }
          },
          "colorscale": {
           "diverging": [
            [
             0,
             "#8e0152"
            ],
            [
             0.1,
             "#c51b7d"
            ],
            [
             0.2,
             "#de77ae"
            ],
            [
             0.3,
             "#f1b6da"
            ],
            [
             0.4,
             "#fde0ef"
            ],
            [
             0.5,
             "#f7f7f7"
            ],
            [
             0.6,
             "#e6f5d0"
            ],
            [
             0.7,
             "#b8e186"
            ],
            [
             0.8,
             "#7fbc41"
            ],
            [
             0.9,
             "#4d9221"
            ],
            [
             1,
             "#276419"
            ]
           ],
           "sequential": [
            [
             0,
             "#0d0887"
            ],
            [
             0.1111111111111111,
             "#46039f"
            ],
            [
             0.2222222222222222,
             "#7201a8"
            ],
            [
             0.3333333333333333,
             "#9c179e"
            ],
            [
             0.4444444444444444,
             "#bd3786"
            ],
            [
             0.5555555555555556,
             "#d8576b"
            ],
            [
             0.6666666666666666,
             "#ed7953"
            ],
            [
             0.7777777777777778,
             "#fb9f3a"
            ],
            [
             0.8888888888888888,
             "#fdca26"
            ],
            [
             1,
             "#f0f921"
            ]
           ],
           "sequentialminus": [
            [
             0,
             "#0d0887"
            ],
            [
             0.1111111111111111,
             "#46039f"
            ],
            [
             0.2222222222222222,
             "#7201a8"
            ],
            [
             0.3333333333333333,
             "#9c179e"
            ],
            [
             0.4444444444444444,
             "#bd3786"
            ],
            [
             0.5555555555555556,
             "#d8576b"
            ],
            [
             0.6666666666666666,
             "#ed7953"
            ],
            [
             0.7777777777777778,
             "#fb9f3a"
            ],
            [
             0.8888888888888888,
             "#fdca26"
            ],
            [
             1,
             "#f0f921"
            ]
           ]
          },
          "colorway": [
           "#636efa",
           "#EF553B",
           "#00cc96",
           "#ab63fa",
           "#FFA15A",
           "#19d3f3",
           "#FF6692",
           "#B6E880",
           "#FF97FF",
           "#FECB52"
          ],
          "font": {
           "color": "#2a3f5f"
          },
          "geo": {
           "bgcolor": "white",
           "lakecolor": "white",
           "landcolor": "#E5ECF6",
           "showlakes": true,
           "showland": true,
           "subunitcolor": "white"
          },
          "hoverlabel": {
           "align": "left"
          },
          "hovermode": "closest",
          "mapbox": {
           "style": "light"
          },
          "paper_bgcolor": "white",
          "plot_bgcolor": "#E5ECF6",
          "polar": {
           "angularaxis": {
            "gridcolor": "white",
            "linecolor": "white",
            "ticks": ""
           },
           "bgcolor": "#E5ECF6",
           "radialaxis": {
            "gridcolor": "white",
            "linecolor": "white",
            "ticks": ""
           }
          },
          "scene": {
           "xaxis": {
            "backgroundcolor": "#E5ECF6",
            "gridcolor": "white",
            "gridwidth": 2,
            "linecolor": "white",
            "showbackground": true,
            "ticks": "",
            "zerolinecolor": "white"
           },
           "yaxis": {
            "backgroundcolor": "#E5ECF6",
            "gridcolor": "white",
            "gridwidth": 2,
            "linecolor": "white",
            "showbackground": true,
            "ticks": "",
            "zerolinecolor": "white"
           },
           "zaxis": {
            "backgroundcolor": "#E5ECF6",
            "gridcolor": "white",
            "gridwidth": 2,
            "linecolor": "white",
            "showbackground": true,
            "ticks": "",
            "zerolinecolor": "white"
           }
          },
          "shapedefaults": {
           "line": {
            "color": "#2a3f5f"
           }
          },
          "ternary": {
           "aaxis": {
            "gridcolor": "white",
            "linecolor": "white",
            "ticks": ""
           },
           "baxis": {
            "gridcolor": "white",
            "linecolor": "white",
            "ticks": ""
           },
           "bgcolor": "#E5ECF6",
           "caxis": {
            "gridcolor": "white",
            "linecolor": "white",
            "ticks": ""
           }
          },
          "title": {
           "x": 0.05
          },
          "xaxis": {
           "automargin": true,
           "gridcolor": "white",
           "linecolor": "white",
           "ticks": "",
           "title": {
            "standoff": 15
           },
           "zerolinecolor": "white",
           "zerolinewidth": 2
          },
          "yaxis": {
           "automargin": true,
           "gridcolor": "white",
           "linecolor": "white",
           "ticks": "",
           "title": {
            "standoff": 15
           },
           "zerolinecolor": "white",
           "zerolinewidth": 2
          }
         }
        },
        "title": {
         "text": " Animated Bubble Chart - Score Evolution by Education Level"
        },
        "updatemenus": [
         {
          "buttons": [
           {
            "args": [
             null,
             {
              "frame": {
               "duration": 500,
               "redraw": false
              },
              "fromcurrent": true,
              "mode": "immediate",
              "transition": {
               "duration": 500,
               "easing": "linear"
              }
             }
            ],
            "label": "&#9654;",
            "method": "animate"
           },
           {
            "args": [
             [
              null
             ],
             {
              "frame": {
               "duration": 0,
               "redraw": false
              },
              "fromcurrent": true,
              "mode": "immediate",
              "transition": {
               "duration": 0,
               "easing": "linear"
              }
             }
            ],
            "label": "&#9724;",
            "method": "animate"
           }
          ],
          "direction": "left",
          "pad": {
           "r": 10,
           "t": 70
          },
          "showactive": false,
          "type": "buttons",
          "x": 0.1,
          "xanchor": "right",
          "y": 0,
          "yanchor": "top"
         }
        ],
        "xaxis": {
         "anchor": "y",
         "domain": [
          0,
          1
         ],
         "title": {
          "text": "math_score"
         }
        },
        "yaxis": {
         "anchor": "x",
         "domain": [
          0,
          1
         ],
         "title": {
          "text": "reading_score"
         }
        }
       }
      }
     },
     "metadata": {},
     "output_type": "display_data"
    }
   ],
   "source": [
    "#Animated Bubble Chart - Score evolution by parent education\n",
    "df['total_score'] = df[['math_score', 'reading_score', 'writing_score']].mean(axis=1)\n",
    "bubble_data = df.groupby(['parental_level_of_education', 'gender']).agg({\n",
    "    'total_score': 'mean',\n",
    "    'math_score': 'mean',\n",
    "    'reading_score': 'mean'\n",
    "}).reset_index()\n",
    "\n",
    "fig = px.scatter(bubble_data, x='math_score', y='reading_score', \n",
    "                size='total_score', color='parental_level_of_education',\n",
    "                hover_name='gender', animation_frame='parental_level_of_education',\n",
    "                title=' Animated Bubble Chart - Score Evolution by Education Level')\n",
    "fig.show()"
   ]
  },
  {
   "cell_type": "code",
   "execution_count": 27,
   "id": "07842fa2",
   "metadata": {},
   "outputs": [
    {
     "data": {
      "image/png": "[encoded data removed]",
      "text/plain": [
       "<Figure size 1200x800 with 1 Axes>"
      ]
     },
     "metadata": {},
     "output_type": "display_data"
    }
   ],
   "source": [
    "# Ridgeline Plot - Score distributions by race/ethnicity\n",
    "fig, ax = plt.subplots(figsize=(12, 8))\n",
    "groups = df['race_ethnicity'].unique()\n",
    "colors = plt.cm.viridis(np.linspace(0, 1, len(groups)))\n",
    "\n",
    "for i, group in enumerate(groups):\n",
    "    data = df[df['race_ethnicity'] == group]['total_score']\n",
    "    ax.fill_between(np.linspace(data.min(), data.max(), 100), \n",
    "                   i + np.histogram(data, bins=100, density=True)[0] * 0.3,\n",
    "                   i, alpha=0.7, color=colors[i], label=group)\n",
    "    \n",
    "ax.set_yticks(range(len(groups)))\n",
    "ax.set_yticklabels(groups)\n",
    "ax.set_xlabel('Total Score')\n",
    "ax.set_title(' Ridgeline Plot - Score Distributions by Race/Ethnicity')\n",
    "plt.tight_layout()\n",
    "plt.show()"
   ]
  },
  {
   "cell_type": "code",
   "execution_count": 28,
   "id": "0158cf32",
   "metadata": {},
   "outputs": [
    {
     "data": {
      "application/vnd.plotly.v1+json": {
       "config": {
        "plotlyServerURL": "https://plot.ly"
       },
       "data": [
        {
         "branchvalues": "total",
         "customdata": {
          "bdata": "DcMwDMPwT0ByHMdxHPdQQDmO4ziOo05Aq6qqqqqqT0CO4ziO4zhQQOQ4juM47k1APgbnY3D+UEAzMzMzM9NRQAAAAAAAwE5AVVVVVVW1UkCDKfJZNxhQQCivobyGElBAgREYgRFYUUB3d3d3d09SQAAAAAAAKk9AJLiP4D5CUUC1MnkCovNQQGXiSvcGlE9AVVVVVVVVUUB6nud5nndRQF100UUXvU9ATm9605seU0D98TIYBZxRQKcNdNpAJ1FA5lu+5Vt+UkBfQnsJ7eVSQKOLLrroYlFAVVVVVVXFU0DgBE7gBA5SQKG9hPYSWlFAMSr8iwp/T0Dgc0uc+l1QQOrjHCRtyFBARB9QHXtLUUADJ3ACJzBSQA==",
          "dtype": "f8",
          "shape": "35, 1"
         },
         "domain": {
          "x": [
           0,
           1
          ],
          "y": [
           0,
           1
          ]
         },
         "hovertemplate": "labels=%{label}<br>count=%{value}<br>parent=%{parent}<br>id=%{id}<br>total_score=%{color}<extra></extra>",
         "ids": [
          "group A/associate's degree",
          "group A/bachelor's degree",
          "group A/high school",
          "group A/master's degree",
          "group A/some college",
          "group A/some high school",
          "group B/associate's degree",
          "group B/bachelor's degree",
          "group B/high school",
          "group B/master's degree",
          "group B/some college",
          "group B/some high school",
          "group C/associate's degree",
          "group C/bachelor's degree",
          "group C/high school",
          "group C/master's degree",
          "group C/some college",
          "group C/some high school",
          "group D/associate's degree",
          "group D/bachelor's degree",
          "group D/high school",
          "group D/master's degree",
          "group D/some college",
          "group D/some high school",
          "group E/associate's degree",
          "group E/bachelor's degree",
          "group E/high school",
          "group E/master's degree",
          "group E/some college",
          "group E/some high school",
          "group A",
          "group B",
          "group C",
          "group D",
          "group E"
         ],
         "labels": [
          "associate's degree",
          "bachelor's degree",
          "high school",
          "master's degree",
          "some college",
          "some high school",
          "associate's degree",
          "bachelor's degree",
          "high school",
          "master's degree",
          "some college",
          "some high school",
          "associate's degree",
          "bachelor's degree",
          "high school",
          "master's degree",
          "some college",
          "some high school",
          "associate's degree",
          "bachelor's degree",
          "high school",
          "master's degree",
          "some college",
          "some high school",
          "associate's degree",
          "bachelor's degree",
          "high school",
          "master's degree",
          "some college",
          "some high school",
          "group A",
          "group B",
          "group C",
          "group D",
          "group E"
         ],
         "marker": {
          "coloraxis": "coloraxis",
          "colors": {
           "bdata": "DcMwDMPwT0ByHMdxHPdQQDmO4ziOo05Aq6qqqqqqT0CO4ziO4zhQQOQ4juM47k1APgbnY3D+UEAzMzMzM9NRQAAAAAAAwE5AVVVVVVW1UkCDKfJZNxhQQCivobyGElBAgREYgRFYUUB3d3d3d09SQAAAAAAAKk9AJLiP4D5CUUC1MnkCovNQQGXiSvcGlE9AVVVVVVVVUUB6nud5nndRQF100UUXvU9ATm9605seU0D98TIYBZxRQKcNdNpAJ1FA5lu+5Vt+UkBfQnsJ7eVSQKOLLrroYlFAVVVVVVXFU0DgBE7gBA5SQKG9hPYSWlFAMSr8iwp/T0Dgc0uc+l1QQOrjHCRtyFBARB9QHXtLUUADJ3ACJzBSQA==",
           "dtype": "f8"
          }
         },
         "name": "",
         "parents": [
          "group A",
          "group A",
          "group A",
          "group A",
          "group A",
          "group A",
          "group B",
          "group B",
          "group B",
          "group B",
          "group B",
          "group B",
          "group C",
          "group C",
          "group C",
          "group C",
          "group C",
          "group C",
          "group D",
          "group D",
          "group D",
          "group D",
          "group D",
          "group D",
          "group E",
          "group E",
          "group E",
          "group E",
          "group E",
          "group E",
          "",
          "",
          "",
          "",
          ""
         ],
         "type": "treemap",
         "values": {
          "bdata": "AAAAAAAALEAAAAAAAAAoQAAAAAAAADJAAAAAAAAACEAAAAAAAAAyQAAAAAAAADhAAAAAAACAREAAAAAAAAA0QAAAAAAAAEhAAAAAAAAAGEAAAAAAAIBCQAAAAAAAAENAAAAAAACAU0AAAAAAAABEQAAAAAAAAFBAAAAAAAAAM0AAAAAAAEBRQAAAAAAAgEhAAAAAAAAASUAAAAAAAAA8QAAAAAAAAEZAAAAAAAAAN0AAAAAAAMBQQAAAAAAAAElAAAAAAACAQ0AAAAAAAAAyQAAAAAAAADZAAAAAAAAAIEAAAAAAAIBBQAAAAAAAADJAAAAAAABAVkAAAAAAAMBnQAAAAAAA8HNAAAAAAABgcEAAAAAAAIBhQA==",
          "dtype": "f8"
         }
        }
       ],
       "layout": {
        "coloraxis": {
         "colorbar": {
          "title": {
           "text": "total_score"
          }
         },
         "colorscale": [
          [
           0,
           "rgb(165,0,38)"
          ],
          [
           0.1,
           "rgb(215,48,39)"
          ],
          [
           0.2,
           "rgb(244,109,67)"
          ],
          [
           0.3,
           "rgb(253,174,97)"
          ],
          [
           0.4,
           "rgb(254,224,144)"
          ],
          [
           0.5,
           "rgb(255,255,191)"
          ],
          [
           0.6,
           "rgb(224,243,248)"
          ],
          [
           0.7,
           "rgb(171,217,233)"
          ],
          [
           0.8,
           "rgb(116,173,209)"
          ],
          [
           0.9,
           "rgb(69,117,180)"
          ],
          [
           1,
           "rgb(49,54,149)"
          ]
         ]
        },
        "legend": {
         "tracegroupgap": 0
        },
        "template": {
         "data": {
          "bar": [
           {
            "error_x": {
             "color": "#2a3f5f"
            },
            "error_y": {
             "color": "#2a3f5f"
            },
            "marker": {
             "line": {
              "color": "#E5ECF6",
              "width": 0.5
             },
             "pattern": {
              "fillmode": "overlay",
              "size": 10,
              "solidity": 0.2
             }
            },
            "type": "bar"
           }
          ],
          "barpolar": [
           {
            "marker": {
             "line": {
              "color": "#E5ECF6",
              "width": 0.5
             },
             "pattern": {
              "fillmode": "overlay",
              "size": 10,
              "solidity": 0.2
             }
            },
            "type": "barpolar"
           }
          ],
          "carpet": [
           {
            "aaxis": {
             "endlinecolor": "#2a3f5f",
             "gridcolor": "white",
             "linecolor": "white",
             "minorgridcolor": "white",
             "startlinecolor": "#2a3f5f"
            },
            "baxis": {
             "endlinecolor": "#2a3f5f",
             "gridcolor": "white",
             "linecolor": "white",
             "minorgridcolor": "white",
             "startlinecolor": "#2a3f5f"
            },
            "type": "carpet"
           }
          ],
          "choropleth": [
           {
            "colorbar": {
             "outlinewidth": 0,
             "ticks": ""
            },
            "type": "choropleth"
           }
          ],
          "contour": [
           {
            "colorbar": {
             "outlinewidth": 0,
             "ticks": ""
            },
            "colorscale": [
             [
              0,
              "#0d0887"
             ],
             [
              0.1111111111111111,
              "#46039f"
             ],
             [
              0.2222222222222222,
              "#7201a8"
             ],
             [
              0.3333333333333333,
              "#9c179e"
             ],
             [
              0.4444444444444444,
              "#bd3786"
             ],
             [
              0.5555555555555556,
              "#d8576b"
             ],
             [
              0.6666666666666666,
              "#ed7953"
             ],
             [
              0.7777777777777778,
              "#fb9f3a"
             ],
             [
              0.8888888888888888,
              "#fdca26"
             ],
             [
              1,
              "#f0f921"
             ]
            ],
            "type": "contour"
           }
          ],
          "contourcarpet": [
           {
            "colorbar": {
             "outlinewidth": 0,
             "ticks": ""
            },
            "type": "contourcarpet"
           }
          ],
          "heatmap": [
           {
            "colorbar": {
             "outlinewidth": 0,
             "ticks": ""
            },
            "colorscale": [
             [
              0,
              "#0d0887"
             ],
             [
              0.1111111111111111,
              "#46039f"
             ],
             [
              0.2222222222222222,
              "#7201a8"
             ],
             [
              0.3333333333333333,
              "#9c179e"
             ],
             [
              0.4444444444444444,
              "#bd3786"
             ],
             [
              0.5555555555555556,
              "#d8576b"
             ],
             [
              0.6666666666666666,
              "#ed7953"
             ],
             [
              0.7777777777777778,
              "#fb9f3a"
             ],
             [
              0.8888888888888888,
              "#fdca26"
             ],
             [
              1,
              "#f0f921"
             ]
            ],
            "type": "heatmap"
           }
          ],
          "histogram": [
           {
            "marker": {
             "pattern": {
              "fillmode": "overlay",
              "size": 10,
              "solidity": 0.2
             }
            },
            "type": "histogram"
           }
          ],
          "histogram2d": [
           {
            "colorbar": {
             "outlinewidth": 0,
             "ticks": ""
            },
            "colorscale": [
             [
              0,
              "#0d0887"
             ],
             [
              0.1111111111111111,
              "#46039f"
             ],
             [
              0.2222222222222222,
              "#7201a8"
             ],
             [
              0.3333333333333333,
              "#9c179e"
             ],
             [
              0.4444444444444444,
              "#bd3786"
             ],
             [
              0.5555555555555556,
              "#d8576b"
             ],
             [
              0.6666666666666666,
              "#ed7953"
             ],
             [
              0.7777777777777778,
              "#fb9f3a"
             ],
             [
              0.8888888888888888,
              "#fdca26"
             ],
             [
              1,
              "#f0f921"
             ]
            ],
            "type": "histogram2d"
           }
          ],
          "histogram2dcontour": [
           {
            "colorbar": {
             "outlinewidth": 0,
             "ticks": ""
            },
            "colorscale": [
             [
              0,
              "#0d0887"
             ],
             [
              0.1111111111111111,
              "#46039f"
             ],
             [
              0.2222222222222222,
              "#7201a8"
             ],
             [
              0.3333333333333333,
              "#9c179e"
             ],
             [
              0.4444444444444444,
              "#bd3786"
             ],
             [
              0.5555555555555556,
              "#d8576b"
             ],
             [
              0.6666666666666666,
              "#ed7953"
             ],
             [
              0.7777777777777778,
              "#fb9f3a"
             ],
             [
              0.8888888888888888,
              "#fdca26"
             ],
             [
              1,
              "#f0f921"
             ]
            ],
            "type": "histogram2dcontour"
           }
          ],
          "mesh3d": [
           {
            "colorbar": {
             "outlinewidth": 0,
             "ticks": ""
            },
            "type": "mesh3d"
           }
          ],
          "parcoords": [
           {
            "line": {
             "colorbar": {
              "outlinewidth": 0,
              "ticks": ""
             }
            },
            "type": "parcoords"
           }
          ],
          "pie": [
           {
            "automargin": true,
            "type": "pie"
           }
          ],
          "scatter": [
           {
            "fillpattern": {
             "fillmode": "overlay",
             "size": 10,
             "solidity": 0.2
            },
            "type": "scatter"
           }
          ],
          "scatter3d": [
           {
            "line": {
             "colorbar": {
              "outlinewidth": 0,
              "ticks": ""
             }
            },
            "marker": {
             "colorbar": {
              "outlinewidth": 0,
              "ticks": ""
             }
            },
            "type": "scatter3d"
           }
          ],
          "scattercarpet": [
           {
            "marker": {
             "colorbar": {
              "outlinewidth": 0,
              "ticks": ""
             }
            },
            "type": "scattercarpet"
           }
          ],
          "scattergeo": [
           {
            "marker": {
             "colorbar": {
              "outlinewidth": 0,
              "ticks": ""
             }
            },
            "type": "scattergeo"
           }
          ],
          "scattergl": [
           {
            "marker": {
             "colorbar": {
              "outlinewidth": 0,
              "ticks": ""
             }
            },
            "type": "scattergl"
           }
          ],
          "scattermap": [
           {
            "marker": {
             "colorbar": {
              "outlinewidth": 0,
              "ticks": ""
             }
            },
            "type": "scattermap"
           }
          ],
          "scattermapbox": [
           {
            "marker": {
             "colorbar": {
              "outlinewidth": 0,
              "ticks": ""
             }
            },
            "type": "scattermapbox"
           }
          ],
          "scatterpolar": [
           {
            "marker": {
             "colorbar": {
              "outlinewidth": 0,
              "ticks": ""
             }
            },
            "type": "scatterpolar"
           }
          ],
          "scatterpolargl": [
           {
            "marker": {
             "colorbar": {
              "outlinewidth": 0,
              "ticks": ""
             }
            },
            "type": "scatterpolargl"
           }
          ],
          "scatterternary": [
           {
            "marker": {
             "colorbar": {
              "outlinewidth": 0,
              "ticks": ""
             }
            },
            "type": "scatterternary"
           }
          ],
          "surface": [
           {
            "colorbar": {
             "outlinewidth": 0,
             "ticks": ""
            },
            "colorscale": [
             [
              0,
              "#0d0887"
             ],
             [
              0.1111111111111111,
              "#46039f"
             ],
             [
              0.2222222222222222,
              "#7201a8"
             ],
             [
              0.3333333333333333,
              "#9c179e"
             ],
             [
              0.4444444444444444,
              "#bd3786"
             ],
             [
              0.5555555555555556,
              "#d8576b"
             ],
             [
              0.6666666666666666,
              "#ed7953"
             ],
             [
              0.7777777777777778,
              "#fb9f3a"
             ],
             [
              0.8888888888888888,
              "#fdca26"
             ],
             [
              1,
              "#f0f921"
             ]
            ],
            "type": "surface"
           }
          ],
          "table": [
           {
            "cells": {
             "fill": {
              "color": "#EBF0F8"
             },
             "line": {
              "color": "white"
             }
            },
            "header": {
             "fill": {
              "color": "#C8D4E3"
             },
             "line": {
              "color": "white"
             }
            },
            "type": "table"
           }
          ]
         },
         "layout": {
          "annotationdefaults": {
           "arrowcolor": "#2a3f5f",
           "arrowhead": 0,
           "arrowwidth": 1
          },
          "autotypenumbers": "strict",
          "coloraxis": {
           "colorbar": {
            "outlinewidth": 0,
            "ticks": ""
           }
          },
          "colorscale": {
           "diverging": [
            [
             0,
             "#8e0152"
            ],
            [
             0.1,
             "#c51b7d"
            ],
            [
             0.2,
             "#de77ae"
            ],
            [
             0.3,
             "#f1b6da"
            ],
            [
             0.4,
             "#fde0ef"
            ],
            [
             0.5,
             "#f7f7f7"
            ],
            [
             0.6,
             "#e6f5d0"
            ],
            [
             0.7,
             "#b8e186"
            ],
            [
             0.8,
             "#7fbc41"
            ],
            [
             0.9,
             "#4d9221"
            ],
            [
             1,
             "#276419"
            ]
           ],
           "sequential": [
            [
             0,
             "#0d0887"
            ],
            [
             0.1111111111111111,
             "#46039f"
            ],
            [
             0.2222222222222222,
             "#7201a8"
            ],
            [
             0.3333333333333333,
             "#9c179e"
            ],
            [
             0.4444444444444444,
             "#bd3786"
            ],
            [
             0.5555555555555556,
             "#d8576b"
            ],
            [
             0.6666666666666666,
             "#ed7953"
            ],
            [
             0.7777777777777778,
             "#fb9f3a"
            ],
            [
             0.8888888888888888,
             "#fdca26"
            ],
            [
             1,
             "#f0f921"
            ]
           ],
           "sequentialminus": [
            [
             0,
             "#0d0887"
            ],
            [
             0.1111111111111111,
             "#46039f"
            ],
            [
             0.2222222222222222,
             "#7201a8"
            ],
            [
             0.3333333333333333,
             "#9c179e"
            ],
            [
             0.4444444444444444,
             "#bd3786"
            ],
            [
             0.5555555555555556,
             "#d8576b"
            ],
            [
             0.6666666666666666,
             "#ed7953"
            ],
            [
             0.7777777777777778,
             "#fb9f3a"
            ],
            [
             0.8888888888888888,
             "#fdca26"
            ],
            [
             1,
             "#f0f921"
            ]
           ]
          },
          "colorway": [
           "#636efa",
           "#EF553B",
           "#00cc96",
           "#ab63fa",
           "#FFA15A",
           "#19d3f3",
           "#FF6692",
           "#B6E880",
           "#FF97FF",
           "#FECB52"
          ],
          "font": {
           "color": "#2a3f5f"
          },
          "geo": {
           "bgcolor": "white",
           "lakecolor": "white",
           "landcolor": "#E5ECF6",
           "showlakes": true,
           "showland": true,
           "subunitcolor": "white"
          },
          "hoverlabel": {
           "align": "left"
          },
          "hovermode": "closest",
          "mapbox": {
           "style": "light"
          },
          "paper_bgcolor": "white",
          "plot_bgcolor": "#E5ECF6",
          "polar": {
           "angularaxis": {
            "gridcolor": "white",
            "linecolor": "white",
            "ticks": ""
           },
           "bgcolor": "#E5ECF6",
           "radialaxis": {
            "gridcolor": "white",
            "linecolor": "white",
            "ticks": ""
           }
          },
          "scene": {
           "xaxis": {
            "backgroundcolor": "#E5ECF6",
            "gridcolor": "white",
            "gridwidth": 2,
            "linecolor": "white",
            "showbackground": true,
            "ticks": "",
            "zerolinecolor": "white"
           },
           "yaxis": {
            "backgroundcolor": "#E5ECF6",
            "gridcolor": "white",
            "gridwidth": 2,
            "linecolor": "white",
            "showbackground": true,
            "ticks": "",
            "zerolinecolor": "white"
           },
           "zaxis": {
            "backgroundcolor": "#E5ECF6",
            "gridcolor": "white",
            "gridwidth": 2,
            "linecolor": "white",
            "showbackground": true,
            "ticks": "",
            "zerolinecolor": "white"
           }
          },
          "shapedefaults": {
           "line": {
            "color": "#2a3f5f"
           }
          },
          "ternary": {
           "aaxis": {
            "gridcolor": "white",
            "linecolor": "white",
            "ticks": ""
           },
           "baxis": {
            "gridcolor": "white",
            "linecolor": "white",
            "ticks": ""
           },
           "bgcolor": "#E5ECF6",
           "caxis": {
            "gridcolor": "white",
            "linecolor": "white",
            "ticks": ""
           }
          },
          "title": {
           "x": 0.05
          },
          "xaxis": {
           "automargin": true,
           "gridcolor": "white",
           "linecolor": "white",
           "ticks": "",
           "title": {
            "standoff": 15
           },
           "zerolinecolor": "white",
           "zerolinewidth": 2
          },
          "yaxis": {
           "automargin": true,
           "gridcolor": "white",
           "linecolor": "white",
           "ticks": "",
           "title": {
            "standoff": 15
           },
           "zerolinecolor": "white",
           "zerolinewidth": 2
          }
         }
        },
        "title": {
         "text": "Interactive Treemap - Performance by Demographics"
        }
       }
      }
     },
     "metadata": {},
     "output_type": "display_data"
    }
   ],
   "source": [
    "#  Interactive Treemap - Hierarchical performance visualization\n",
    "treemap_data = df.groupby(['race_ethnicity', 'parental_level_of_education']).agg({\n",
    "    'total_score': 'mean',\n",
    "    'gender': 'count'\n",
    "}).reset_index()\n",
    "treemap_data.rename(columns={'gender': 'count'}, inplace=True)\n",
    "\n",
    "fig = px.treemap(treemap_data, path=['race_ethnicity', 'parental_level_of_education'],\n",
    "                values='count', color='total_score', color_continuous_scale='RdYlBu',\n",
    "                title='Interactive Treemap - Performance by Demographics')\n",
    "fig.show()"
   ]
  },
  {
   "cell_type": "code",
   "execution_count": 30,
   "id": "54f08041",
   "metadata": {},
   "outputs": [
    {
     "data": {
      "application/vnd.plotly.v1+json": {
       "config": {
        "plotlyServerURL": "https://plot.ly"
       },
       "data": [
        {
         "hovertemplate": "total_score=%{marker.color}<br>parental_level_of_education=%{theta}<extra></extra>",
         "legendgroup": "",
         "marker": {
          "color": {
           "bdata": "RzSsoGtkUUANJ3VfHvtRQOtDY31ojE9AYc0S41NmUkDW519bfR5RQKQRE5jpRlBA",
           "dtype": "f8"
          },
          "coloraxis": "coloraxis",
          "pattern": {
           "shape": ""
          }
         },
         "name": "",
         "r": {
          "bdata": "RzSsoGtkUUANJ3VfHvtRQOtDY31ojE9AYc0S41NmUkDW519bfR5RQKQRE5jpRlBA",
          "dtype": "f8"
         },
         "showlegend": false,
         "subplot": "polar",
         "theta": [
          "associate's degree",
          "bachelor's degree",
          "high school",
          "master's degree",
          "some college",
          "some high school"
         ],
         "type": "barpolar"
        }
       ],
       "layout": {
        "barmode": "relative",
        "coloraxis": {
         "colorbar": {
          "title": {
           "text": "total_score"
          }
         },
         "colorscale": [
          [
           0,
           "#0d0887"
          ],
          [
           0.1111111111111111,
           "#46039f"
          ],
          [
           0.2222222222222222,
           "#7201a8"
          ],
          [
           0.3333333333333333,
           "#9c179e"
          ],
          [
           0.4444444444444444,
           "#bd3786"
          ],
          [
           0.5555555555555556,
           "#d8576b"
          ],
          [
           0.6666666666666666,
           "#ed7953"
          ],
          [
           0.7777777777777778,
           "#fb9f3a"
          ],
          [
           0.8888888888888888,
           "#fdca26"
          ],
          [
           1,
           "#f0f921"
          ]
         ]
        },
        "legend": {
         "tracegroupgap": 0
        },
        "polar": {
         "angularaxis": {
          "direction": "clockwise",
          "rotation": 90
         },
         "domain": {
          "x": [
           0,
           1
          ],
          "y": [
           0,
           1
          ]
         }
        },
        "template": {
         "data": {
          "bar": [
           {
            "error_x": {
             "color": "#2a3f5f"
            },
            "error_y": {
             "color": "#2a3f5f"
            },
            "marker": {
             "line": {
              "color": "#E5ECF6",
              "width": 0.5
             },
             "pattern": {
              "fillmode": "overlay",
              "size": 10,
              "solidity": 0.2
             }
            },
            "type": "bar"
           }
          ],
          "barpolar": [
           {
            "marker": {
             "line": {
              "color": "#E5ECF6",
              "width": 0.5
             },
             "pattern": {
              "fillmode": "overlay",
              "size": 10,
              "solidity": 0.2
             }
            },
            "type": "barpolar"
           }
          ],
          "carpet": [
           {
            "aaxis": {
             "endlinecolor": "#2a3f5f",
             "gridcolor": "white",
             "linecolor": "white",
             "minorgridcolor": "white",
             "startlinecolor": "#2a3f5f"
            },
            "baxis": {
             "endlinecolor": "#2a3f5f",
             "gridcolor": "white",
             "linecolor": "white",
             "minorgridcolor": "white",
             "startlinecolor": "#2a3f5f"
            },
            "type": "carpet"
           }
          ],
          "choropleth": [
           {
            "colorbar": {
             "outlinewidth": 0,
             "ticks": ""
            },
            "type": "choropleth"
           }
          ],
          "contour": [
           {
            "colorbar": {
             "outlinewidth": 0,
             "ticks": ""
            },
            "colorscale": [
             [
              0,
              "#0d0887"
             ],
             [
              0.1111111111111111,
              "#46039f"
             ],
             [
              0.2222222222222222,
              "#7201a8"
             ],
             [
              0.3333333333333333,
              "#9c179e"
             ],
             [
              0.4444444444444444,
              "#bd3786"
             ],
             [
              0.5555555555555556,
              "#d8576b"
             ],
             [
              0.6666666666666666,
              "#ed7953"
             ],
             [
              0.7777777777777778,
              "#fb9f3a"
             ],
             [
              0.8888888888888888,
              "#fdca26"
             ],
             [
              1,
              "#f0f921"
             ]
            ],
            "type": "contour"
           }
          ],
          "contourcarpet": [
           {
            "colorbar": {
             "outlinewidth": 0,
             "ticks": ""
            },
            "type": "contourcarpet"
           }
          ],
          "heatmap": [
           {
            "colorbar": {
             "outlinewidth": 0,
             "ticks": ""
            },
            "colorscale": [
             [
              0,
              "#0d0887"
             ],
             [
              0.1111111111111111,
              "#46039f"
             ],
             [
              0.2222222222222222,
              "#7201a8"
             ],
             [
              0.3333333333333333,
              "#9c179e"
             ],
             [
              0.4444444444444444,
              "#bd3786"
             ],
             [
              0.5555555555555556,
              "#d8576b"
             ],
             [
              0.6666666666666666,
              "#ed7953"
             ],
             [
              0.7777777777777778,
              "#fb9f3a"
             ],
             [
              0.8888888888888888,
              "#fdca26"
             ],
             [
              1,
              "#f0f921"
             ]
            ],
            "type": "heatmap"
           }
          ],
          "histogram": [
           {
            "marker": {
             "pattern": {
              "fillmode": "overlay",
              "size": 10,
              "solidity": 0.2
             }
            },
            "type": "histogram"
           }
          ],
          "histogram2d": [
           {
            "colorbar": {
             "outlinewidth": 0,
             "ticks": ""
            },
            "colorscale": [
             [
              0,
              "#0d0887"
             ],
             [
              0.1111111111111111,
              "#46039f"
             ],
             [
              0.2222222222222222,
              "#7201a8"
             ],
             [
              0.3333333333333333,
              "#9c179e"
             ],
             [
              0.4444444444444444,
              "#bd3786"
             ],
             [
              0.5555555555555556,
              "#d8576b"
             ],
             [
              0.6666666666666666,
              "#ed7953"
             ],
             [
              0.7777777777777778,
              "#fb9f3a"
             ],
             [
              0.8888888888888888,
              "#fdca26"
             ],
             [
              1,
              "#f0f921"
             ]
            ],
            "type": "histogram2d"
           }
          ],
          "histogram2dcontour": [
           {
            "colorbar": {
             "outlinewidth": 0,
             "ticks": ""
            },
            "colorscale": [
             [
              0,
              "#0d0887"
             ],
             [
              0.1111111111111111,
              "#46039f"
             ],
             [
              0.2222222222222222,
              "#7201a8"
             ],
             [
              0.3333333333333333,
              "#9c179e"
             ],
             [
              0.4444444444444444,
              "#bd3786"
             ],
             [
              0.5555555555555556,
              "#d8576b"
             ],
             [
              0.6666666666666666,
              "#ed7953"
             ],
             [
              0.7777777777777778,
              "#fb9f3a"
             ],
             [
              0.8888888888888888,
              "#fdca26"
             ],
             [
              1,
              "#f0f921"
             ]
            ],
            "type": "histogram2dcontour"
           }
          ],
          "mesh3d": [
           {
            "colorbar": {
             "outlinewidth": 0,
             "ticks": ""
            },
            "type": "mesh3d"
           }
          ],
          "parcoords": [
           {
            "line": {
             "colorbar": {
              "outlinewidth": 0,
              "ticks": ""
             }
            },
            "type": "parcoords"
           }
          ],
          "pie": [
           {
            "automargin": true,
            "type": "pie"
           }
          ],
          "scatter": [
           {
            "fillpattern": {
             "fillmode": "overlay",
             "size": 10,
             "solidity": 0.2
            },
            "type": "scatter"
           }
          ],
          "scatter3d": [
           {
            "line": {
             "colorbar": {
              "outlinewidth": 0,
              "ticks": ""
             }
            },
            "marker": {
             "colorbar": {
              "outlinewidth": 0,
              "ticks": ""
             }
            },
            "type": "scatter3d"
           }
          ],
          "scattercarpet": [
           {
            "marker": {
             "colorbar": {
              "outlinewidth": 0,
              "ticks": ""
             }
            },
            "type": "scattercarpet"
           }
          ],
          "scattergeo": [
           {
            "marker": {
             "colorbar": {
              "outlinewidth": 0,
              "ticks": ""
             }
            },
            "type": "scattergeo"
           }
          ],
          "scattergl": [
           {
            "marker": {
             "colorbar": {
              "outlinewidth": 0,
              "ticks": ""
             }
            },
            "type": "scattergl"
           }
          ],
          "scattermap": [
           {
            "marker": {
             "colorbar": {
              "outlinewidth": 0,
              "ticks": ""
             }
            },
            "type": "scattermap"
           }
          ],
          "scattermapbox": [
           {
            "marker": {
             "colorbar": {
              "outlinewidth": 0,
              "ticks": ""
             }
            },
            "type": "scattermapbox"
           }
          ],
          "scatterpolar": [
           {
            "marker": {
             "colorbar": {
              "outlinewidth": 0,
              "ticks": ""
             }
            },
            "type": "scatterpolar"
           }
          ],
          "scatterpolargl": [
           {
            "marker": {
             "colorbar": {
              "outlinewidth": 0,
              "ticks": ""
             }
            },
            "type": "scatterpolargl"
           }
          ],
          "scatterternary": [
           {
            "marker": {
             "colorbar": {
              "outlinewidth": 0,
              "ticks": ""
             }
            },
            "type": "scatterternary"
           }
          ],
          "surface": [
           {
            "colorbar": {
             "outlinewidth": 0,
             "ticks": ""
            },
            "colorscale": [
             [
              0,
              "#0d0887"
             ],
             [
              0.1111111111111111,
              "#46039f"
             ],
             [
              0.2222222222222222,
              "#7201a8"
             ],
             [
              0.3333333333333333,
              "#9c179e"
             ],
             [
              0.4444444444444444,
              "#bd3786"
             ],
             [
              0.5555555555555556,
              "#d8576b"
             ],
             [
              0.6666666666666666,
              "#ed7953"
             ],
             [
              0.7777777777777778,
              "#fb9f3a"
             ],
             [
              0.8888888888888888,
              "#fdca26"
             ],
             [
              1,
              "#f0f921"
             ]
            ],
            "type": "surface"
           }
          ],
          "table": [
           {
            "cells": {
             "fill": {
              "color": "#EBF0F8"
             },
             "line": {
              "color": "white"
             }
            },
            "header": {
             "fill": {
              "color": "#C8D4E3"
             },
             "line": {
              "color": "white"
             }
            },
            "type": "table"
           }
          ]
         },
         "layout": {
          "annotationdefaults": {
           "arrowcolor": "#2a3f5f",
           "arrowhead": 0,
           "arrowwidth": 1
          },
          "autotypenumbers": "strict",
          "coloraxis": {
           "colorbar": {
            "outlinewidth": 0,
            "ticks": ""
           }
          },
          "colorscale": {
           "diverging": [
            [
             0,
             "#8e0152"
            ],
            [
             0.1,
             "#c51b7d"
            ],
            [
             0.2,
             "#de77ae"
            ],
            [
             0.3,
             "#f1b6da"
            ],
            [
             0.4,
             "#fde0ef"
            ],
            [
             0.5,
             "#f7f7f7"
            ],
            [
             0.6,
             "#e6f5d0"
            ],
            [
             0.7,
             "#b8e186"
            ],
            [
             0.8,
             "#7fbc41"
            ],
            [
             0.9,
             "#4d9221"
            ],
            [
             1,
             "#276419"
            ]
           ],
           "sequential": [
            [
             0,
             "#0d0887"
            ],
            [
             0.1111111111111111,
             "#46039f"
            ],
            [
             0.2222222222222222,
             "#7201a8"
            ],
            [
             0.3333333333333333,
             "#9c179e"
            ],
            [
             0.4444444444444444,
             "#bd3786"
            ],
            [
             0.5555555555555556,
             "#d8576b"
            ],
            [
             0.6666666666666666,
             "#ed7953"
            ],
            [
             0.7777777777777778,
             "#fb9f3a"
            ],
            [
             0.8888888888888888,
             "#fdca26"
            ],
            [
             1,
             "#f0f921"
            ]
           ],
           "sequentialminus": [
            [
             0,
             "#0d0887"
            ],
            [
             0.1111111111111111,
             "#46039f"
            ],
            [
             0.2222222222222222,
             "#7201a8"
            ],
            [
             0.3333333333333333,
             "#9c179e"
            ],
            [
             0.4444444444444444,
             "#bd3786"
            ],
            [
             0.5555555555555556,
             "#d8576b"
            ],
            [
             0.6666666666666666,
             "#ed7953"
            ],
            [
             0.7777777777777778,
             "#fb9f3a"
            ],
            [
             0.8888888888888888,
             "#fdca26"
            ],
            [
             1,
             "#f0f921"
            ]
           ]
          },
          "colorway": [
           "#636efa",
           "#EF553B",
           "#00cc96",
           "#ab63fa",
           "#FFA15A",
           "#19d3f3",
           "#FF6692",
           "#B6E880",
           "#FF97FF",
           "#FECB52"
          ],
          "font": {
           "color": "#2a3f5f"
          },
          "geo": {
           "bgcolor": "white",
           "lakecolor": "white",
           "landcolor": "#E5ECF6",
           "showlakes": true,
           "showland": true,
           "subunitcolor": "white"
          },
          "hoverlabel": {
           "align": "left"
          },
          "hovermode": "closest",
          "mapbox": {
           "style": "light"
          },
          "paper_bgcolor": "white",
          "plot_bgcolor": "#E5ECF6",
          "polar": {
           "angularaxis": {
            "gridcolor": "white",
            "linecolor": "white",
            "ticks": ""
           },
           "bgcolor": "#E5ECF6",
           "radialaxis": {
            "gridcolor": "white",
            "linecolor": "white",
            "ticks": ""
           }
          },
          "scene": {
           "xaxis": {
            "backgroundcolor": "#E5ECF6",
            "gridcolor": "white",
            "gridwidth": 2,
            "linecolor": "white",
            "showbackground": true,
            "ticks": "",
            "zerolinecolor": "white"
           },
           "yaxis": {
            "backgroundcolor": "#E5ECF6",
            "gridcolor": "white",
            "gridwidth": 2,
            "linecolor": "white",
            "showbackground": true,
            "ticks": "",
            "zerolinecolor": "white"
           },
           "zaxis": {
            "backgroundcolor": "#E5ECF6",
            "gridcolor": "white",
            "gridwidth": 2,
            "linecolor": "white",
            "showbackground": true,
            "ticks": "",
            "zerolinecolor": "white"
           }
          },
          "shapedefaults": {
           "line": {
            "color": "#2a3f5f"
           }
          },
          "ternary": {
           "aaxis": {
            "gridcolor": "white",
            "linecolor": "white",
            "ticks": ""
           },
           "baxis": {
            "gridcolor": "white",
            "linecolor": "white",
            "ticks": ""
           },
           "bgcolor": "#E5ECF6",
           "caxis": {
            "gridcolor": "white",
            "linecolor": "white",
            "ticks": ""
           }
          },
          "title": {
           "x": 0.05
          },
          "xaxis": {
           "automargin": true,
           "gridcolor": "white",
           "linecolor": "white",
           "ticks": "",
           "title": {
            "standoff": 15
           },
           "zerolinecolor": "white",
           "zerolinewidth": 2
          },
          "yaxis": {
           "automargin": true,
           "gridcolor": "white",
           "linecolor": "white",
           "ticks": "",
           "title": {
            "standoff": 15
           },
           "zerolinecolor": "white",
           "zerolinewidth": 2
          }
         }
        },
        "title": {
         "text": " Circular Bar Plot - Performance in Polar Coordinates"
        }
       }
      }
     },
     "metadata": {},
     "output_type": "display_data"
    }
   ],
   "source": [
    "#  Circular Bar Plot - Polar coordinate performance\n",
    "circular_data = df.groupby('parental_level_of_education')['total_score'].mean().reset_index()\n",
    "\n",
    "fig = px.bar_polar(circular_data, r='total_score', theta='parental_level_of_education',\n",
    "                  color='total_score', color_continuous_scale='plasma',\n",
    "                  title=' Circular Bar Plot - Performance in Polar Coordinates')\n",
    "fig.show()\n"
   ]
  },
  {
   "cell_type": "code",
   "execution_count": 32,
   "id": "78e685b0",
   "metadata": {},
   "outputs": [
    {
     "data": {
      "application/vnd.plotly.v1+json": {
       "config": {
        "plotlyServerURL": "https://plot.ly"
       },
       "data": [
        {
         "customdata": [
          [
           "female",
           "group B"
          ],
          [
           "female",
           "group C"
          ],
          [
           "female",
           "group B"
          ],
          [
           "male",
           "group A"
          ],
          [
           "male",
           "group C"
          ],
          [
           "female",
           "group B"
          ],
          [
           "female",
           "group B"
          ],
          [
           "male",
           "group B"
          ],
          [
           "male",
           "group D"
          ],
          [
           "female",
           "group B"
          ],
          [
           "male",
           "group C"
          ],
          [
           "male",
           "group D"
          ],
          [
           "female",
           "group B"
          ],
          [
           "male",
           "group A"
          ],
          [
           "female",
           "group A"
          ],
          [
           "female",
           "group C"
          ],
          [
           "male",
           "group C"
          ],
          [
           "female",
           "group B"
          ],
          [
           "male",
           "group C"
          ],
          [
           "female",
           "group C"
          ],
          [
           "male",
           "group D"
          ],
          [
           "female",
           "group B"
          ],
          [
           "male",
           "group D"
          ],
          [
           "female",
           "group C"
          ],
          [
           "male",
           "group D"
          ],
          [
           "male",
           "group A"
          ],
          [
           "male",
           "group B"
          ],
          [
           "female",
           "group C"
          ],
          [
           "male",
           "group C"
          ],
          [
           "female",
           "group D"
          ],
          [
           "female",
           "group D"
          ],
          [
           "female",
           "group B"
          ],
          [
           "female",
           "group E"
          ],
          [
           "male",
           "group D"
          ],
          [
           "male",
           "group E"
          ],
          [
           "male",
           "group E"
          ],
          [
           "female",
           "group D"
          ],
          [
           "female",
           "group D"
          ],
          [
           "female",
           "group D"
          ],
          [
           "male",
           "group B"
          ],
          [
           "male",
           "group C"
          ],
          [
           "female",
           "group C"
          ],
          [
           "female",
           "group B"
          ],
          [
           "male",
           "group B"
          ],
          [
           "female",
           "group E"
          ],
          [
           "male",
           "group B"
          ],
          [
           "female",
           "group A"
          ],
          [
           "female",
           "group C"
          ],
          [
           "female",
           "group D"
          ],
          [
           "male",
           "group C"
          ],
          [
           "male",
           "group E"
          ],
          [
           "male",
           "group E"
          ],
          [
           "male",
           "group C"
          ],
          [
           "male",
           "group D"
          ],
          [
           "female",
           "group C"
          ],
          [
           "female",
           "group C"
          ],
          [
           "female",
           "group E"
          ],
          [
           "male",
           "group D"
          ],
          [
           "male",
           "group D"
          ],
          [
           "female",
           "group C"
          ],
          [
           "male",
           "group E"
          ],
          [
           "male",
           "group A"
          ],
          [
           "male",
           "group A"
          ],
          [
           "female",
           "group C"
          ],
          [
           "female",
           "group D"
          ],
          [
           "male",
           "group B"
          ],
          [
           "male",
           "group D"
          ],
          [
           "female",
           "group C"
          ],
          [
           "male",
           "group B"
          ],
          [
           "female",
           "group C"
          ],
          [
           "female",
           "group D"
          ],
          [
           "male",
           "group D"
          ],
          [
           "female",
           "group A"
          ],
          [
           "male",
           "group C"
          ],
          [
           "male",
           "group C"
          ],
          [
           "male",
           "group B"
          ],
          [
           "male",
           "group E"
          ],
          [
           "male",
           "group A"
          ],
          [
           "female",
           "group D"
          ],
          [
           "female",
           "group E"
          ],
          [
           "female",
           "group B"
          ],
          [
           "male",
           "group B"
          ],
          [
           "male",
           "group A"
          ],
          [
           "male",
           "group E"
          ],
          [
           "male",
           "group D"
          ],
          [
           "female",
           "group C"
          ],
          [
           "female",
           "group C"
          ],
          [
           "female",
           "group D"
          ],
          [
           "female",
           "group A"
          ],
          [
           "female",
           "group D"
          ],
          [
           "female",
           "group C"
          ],
          [
           "male",
           "group C"
          ],
          [
           "male",
           "group C"
          ],
          [
           "male",
           "group C"
          ],
          [
           "female",
           "group B"
          ],
          [
           "male",
           "group C"
          ],
          [
           "male",
           "group B"
          ],
          [
           "female",
           "group E"
          ],
          [
           "female",
           "group D"
          ],
          [
           "female",
           "group D"
          ],
          [
           "male",
           "group B"
          ],
          [
           "male",
           "group D"
          ],
          [
           "female",
           "group D"
          ],
          [
           "male",
           "group B"
          ],
          [
           "male",
           "group C"
          ],
          [
           "female",
           "group C"
          ],
          [
           "female",
           "group D"
          ],
          [
           "male",
           "group E"
          ],
          [
           "female",
           "group B"
          ],
          [
           "female",
           "group B"
          ],
          [
           "female",
           "group D"
          ],
          [
           "male",
           "group C"
          ],
          [
           "male",
           "group A"
          ],
          [
           "female",
           "group D"
          ],
          [
           "female",
           "group E"
          ],
          [
           "male",
           "group C"
          ],
          [
           "female",
           "group B"
          ],
          [
           "female",
           "group D"
          ],
          [
           "female",
           "group D"
          ],
          [
           "female",
           "group C"
          ],
          [
           "female",
           "group C"
          ],
          [
           "male",
           "group B"
          ],
          [
           "female",
           "group C"
          ],
          [
           "male",
           "group D"
          ],
          [
           "male",
           "group E"
          ],
          [
           "female",
           "group B"
          ],
          [
           "male",
           "group B"
          ],
          [
           "male",
           "group D"
          ],
          [
           "male",
           "group D"
          ],
          [
           "female",
           "group A"
          ],
          [
           "male",
           "group D"
          ],
          [
           "male",
           "group C"
          ],
          [
           "male",
           "group E"
          ],
          [
           "female",
           "group C"
          ],
          [
           "male",
           "group D"
          ],
          [
           "male",
           "group C"
          ],
          [
           "male",
           "group B"
          ],
          [
           "male",
           "group E"
          ],
          [
           "female",
           "group C"
          ],
          [
           "male",
           "group D"
          ],
          [
           "female",
           "group D"
          ],
          [
           "female",
           "group C"
          ],
          [
           "female",
           "group E"
          ],
          [
           "male",
           "group A"
          ],
          [
           "male",
           "group D"
          ],
          [
           "female",
           "group C"
          ],
          [
           "male",
           "group B"
          ],
          [
           "male",
           "group C"
          ],
          [
           "female",
           "group D"
          ],
          [
           "male",
           "group E"
          ],
          [
           "male",
           "group A"
          ],
          [
           "male",
           "group A"
          ],
          [
           "female",
           "group B"
          ],
          [
           "male",
           "group D"
          ],
          [
           "male",
           "group D"
          ],
          [
           "female",
           "group C"
          ],
          [
           "female",
           "group E"
          ],
          [
           "male",
           "group B"
          ],
          [
           "female",
           "group B"
          ],
          [
           "male",
           "group D"
          ],
          [
           "male",
           "group B"
          ],
          [
           "female",
           "group E"
          ],
          [
           "male",
           "group B"
          ],
          [
           "male",
           "group C"
          ],
          [
           "female",
           "group E"
          ],
          [
           "female",
           "group C"
          ],
          [
           "male",
           "group C"
          ],
          [
           "female",
           "group B"
          ],
          [
           "female",
           "group B"
          ],
          [
           "female",
           "group C"
          ],
          [
           "male",
           "group A"
          ],
          [
           "male",
           "group E"
          ],
          [
           "female",
           "group D"
          ],
          [
           "female",
           "group C"
          ],
          [
           "female",
           "group C"
          ],
          [
           "female",
           "group C"
          ],
          [
           "female",
           "group B"
          ],
          [
           "female",
           "group C"
          ],
          [
           "female",
           "group B"
          ],
          [
           "female",
           "group D"
          ],
          [
           "male",
           "group C"
          ],
          [
           "female",
           "group C"
          ],
          [
           "female",
           "group E"
          ],
          [
           "female",
           "group D"
          ],
          [
           "male",
           "group C"
          ],
          [
           "male",
           "group C"
          ],
          [
           "male",
           "group E"
          ],
          [
           "male",
           "group D"
          ],
          [
           "male",
           "group B"
          ],
          [
           "female",
           "group C"
          ],
          [
           "female",
           "group E"
          ],
          [
           "male",
           "group D"
          ],
          [
           "female",
           "group B"
          ],
          [
           "male",
           "group D"
          ],
          [
           "female",
           "group C"
          ],
          [
           "male",
           "group D"
          ],
          [
           "male",
           "group C"
          ],
          [
           "male",
           "group E"
          ],
          [
           "female",
           "group B"
          ],
          [
           "female",
           "group B"
          ],
          [
           "female",
           "group C"
          ],
          [
           "female",
           "group D"
          ],
          [
           "male",
           "group C"
          ],
          [
           "female",
           "group B"
          ],
          [
           "male",
           "group C"
          ],
          [
           "male",
           "group D"
          ],
          [
           "male",
           "group E"
          ],
          [
           "male",
           "group E"
          ],
          [
           "female",
           "group B"
          ],
          [
           "female",
           "group B"
          ],
          [
           "male",
           "group D"
          ],
          [
           "male",
           "group C"
          ],
          [
           "female",
           "group C"
          ],
          [
           "male",
           "group C"
          ],
          [
           "male",
           "group E"
          ],
          [
           "male",
           "group B"
          ],
          [
           "female",
           "group E"
          ],
          [
           "female",
           "group C"
          ],
          [
           "male",
           "group B"
          ],
          [
           "male",
           "group B"
          ],
          [
           "female",
           "group D"
          ],
          [
           "male",
           "group B"
          ],
          [
           "female",
           "group C"
          ],
          [
           "male",
           "group D"
          ],
          [
           "female",
           "group B"
          ],
          [
           "female",
           "group E"
          ],
          [
           "female",
           "group C"
          ],
          [
           "male",
           "group D"
          ],
          [
           "male",
           "group A"
          ],
          [
           "female",
           "group C"
          ],
          [
           "male",
           "group D"
          ],
          [
           "male",
           "group C"
          ],
          [
           "female",
           "group B"
          ],
          [
           "male",
           "group E"
          ],
          [
           "male",
           "group C"
          ],
          [
           "male",
           "group D"
          ],
          [
           "male",
           "group D"
          ],
          [
           "female",
           "group D"
          ],
          [
           "male",
           "group B"
          ],
          [
           "male",
           "group C"
          ],
          [
           "male",
           "group D"
          ],
          [
           "female",
           "group E"
          ],
          [
           "female",
           "group D"
          ],
          [
           "male",
           "group E"
          ],
          [
           "male",
           "group D"
          ],
          [
           "male",
           "group C"
          ],
          [
           "male",
           "group E"
          ],
          [
           "female",
           "group B"
          ],
          [
           "female",
           "group B"
          ],
          [
           "male",
           "group C"
          ],
          [
           "male",
           "group A"
          ],
          [
           "female",
           "group D"
          ],
          [
           "female",
           "group B"
          ],
          [
           "male",
           "group D"
          ],
          [
           "male",
           "group D"
          ],
          [
           "female",
           "group E"
          ],
          [
           "female",
           "group C"
          ],
          [
           "male",
           "group C"
          ],
          [
           "female",
           "group B"
          ],
          [
           "female",
           "group C"
          ],
          [
           "female",
           "group C"
          ],
          [
           "male",
           "group C"
          ],
          [
           "female",
           "group C"
          ],
          [
           "female",
           "group E"
          ],
          [
           "male",
           "group D"
          ],
          [
           "male",
           "group D"
          ],
          [
           "female",
           "group C"
          ],
          [
           "female",
           "group D"
          ],
          [
           "female",
           "group D"
          ],
          [
           "female",
           "group E"
          ],
          [
           "male",
           "group C"
          ],
          [
           "male",
           "group C"
          ],
          [
           "female",
           "group D"
          ],
          [
           "female",
           "group D"
          ],
          [
           "male",
           "group B"
          ],
          [
           "male",
           "group C"
          ],
          [
           "female",
           "group C"
          ],
          [
           "female",
           "group E"
          ],
          [
           "female",
           "group C"
          ],
          [
           "male",
           "group B"
          ],
          [
           "male",
           "group D"
          ],
          [
           "male",
           "group D"
          ],
          [
           "female",
           "group D"
          ],
          [
           "female",
           "group D"
          ],
          [
           "female",
           "group B"
          ],
          [
           "male",
           "group B"
          ],
          [
           "male",
           "group E"
          ],
          [
           "female",
           "group B"
          ],
          [
           "male",
           "group B"
          ],
          [
           "male",
           "group E"
          ],
          [
           "male",
           "group C"
          ],
          [
           "male",
           "group D"
          ],
          [
           "male",
           "group C"
          ],
          [
           "female",
           "group E"
          ],
          [
           "male",
           "group D"
          ],
          [
           "male",
           "group B"
          ],
          [
           "male",
           "group A"
          ],
          [
           "male",
           "group E"
          ],
          [
           "male",
           "group C"
          ],
          [
           "male",
           "group D"
          ],
          [
           "male",
           "group A"
          ],
          [
           "male",
           "group D"
          ],
          [
           "female",
           "group C"
          ],
          [
           "male",
           "group B"
          ],
          [
           "female",
           "group C"
          ],
          [
           "male",
           "group A"
          ],
          [
           "male",
           "group E"
          ],
          [
           "male",
           "group C"
          ],
          [
           "female",
           "group B"
          ],
          [
           "female",
           "group D"
          ],
          [
           "female",
           "group B"
          ],
          [
           "male",
           "group B"
          ],
          [
           "male",
           "group D"
          ],
          [
           "female",
           "group C"
          ],
          [
           "female",
           "group C"
          ],
          [
           "male",
           "group C"
          ],
          [
           "female",
           "group D"
          ],
          [
           "male",
           "group C"
          ],
          [
           "male",
           "group B"
          ],
          [
           "female",
           "group D"
          ],
          [
           "female",
           "group C"
          ],
          [
           "female",
           "group E"
          ],
          [
           "female",
           "group C"
          ],
          [
           "female",
           "group C"
          ],
          [
           "female",
           "group C"
          ],
          [
           "female",
           "group C"
          ],
          [
           "male",
           "group C"
          ],
          [
           "male",
           "group A"
          ],
          [
           "male",
           "group C"
          ],
          [
           "female",
           "group B"
          ],
          [
           "male",
           "group C"
          ],
          [
           "male",
           "group C"
          ],
          [
           "male",
           "group E"
          ],
          [
           "male",
           "group B"
          ],
          [
           "female",
           "group C"
          ],
          [
           "female",
           "group B"
          ],
          [
           "male",
           "group D"
          ],
          [
           "male",
           "group C"
          ],
          [
           "female",
           "group B"
          ],
          [
           "female",
           "group D"
          ],
          [
           "male",
           "group C"
          ],
          [
           "female",
           "group C"
          ],
          [
           "female",
           "group B"
          ],
          [
           "male",
           "group D"
          ],
          [
           "male",
           "group D"
          ],
          [
           "female",
           "group C"
          ],
          [
           "male",
           "group B"
          ],
          [
           "female",
           "group C"
          ],
          [
           "male",
           "group D"
          ],
          [
           "male",
           "group E"
          ],
          [
           "female",
           "group B"
          ],
          [
           "male",
           "group E"
          ],
          [
           "female",
           "group C"
          ],
          [
           "female",
           "group C"
          ],
          [
           "female",
           "group C"
          ],
          [
           "female",
           "group B"
          ],
          [
           "male",
           "group A"
          ],
          [
           "female",
           "group C"
          ],
          [
           "male",
           "group D"
          ],
          [
           "female",
           "group D"
          ],
          [
           "female",
           "group B"
          ],
          [
           "male",
           "group B"
          ],
          [
           "female",
           "group C"
          ],
          [
           "female",
           "group D"
          ],
          [
           "male",
           "group C"
          ],
          [
           "male",
           "group A"
          ],
          [
           "male",
           "group C"
          ],
          [
           "male",
           "group C"
          ],
          [
           "female",
           "group A"
          ],
          [
           "female",
           "group D"
          ],
          [
           "male",
           "group E"
          ],
          [
           "female",
           "group C"
          ],
          [
           "male",
           "group D"
          ],
          [
           "female",
           "group D"
          ],
          [
           "female",
           "group D"
          ],
          [
           "male",
           "group E"
          ],
          [
           "female",
           "group D"
          ],
          [
           "female",
           "group D"
          ],
          [
           "female",
           "group A"
          ],
          [
           "male",
           "group A"
          ],
          [
           "female",
           "group B"
          ],
          [
           "male",
           "group C"
          ],
          [
           "male",
           "group C"
          ],
          [
           "female",
           "group E"
          ],
          [
           "female",
           "group A"
          ],
          [
           "female",
           "group E"
          ],
          [
           "female",
           "group E"
          ],
          [
           "female",
           "group C"
          ],
          [
           "female",
           "group D"
          ],
          [
           "male",
           "group D"
          ],
          [
           "male",
           "group E"
          ],
          [
           "female",
           "group D"
          ],
          [
           "male",
           "group E"
          ],
          [
           "male",
           "group C"
          ],
          [
           "female",
           "group C"
          ],
          [
           "male",
           "group A"
          ],
          [
           "female",
           "group B"
          ],
          [
           "female",
           "group C"
          ],
          [
           "male",
           "group B"
          ],
          [
           "male",
           "group D"
          ],
          [
           "female",
           "group C"
          ],
          [
           "male",
           "group A"
          ],
          [
           "female",
           "group A"
          ],
          [
           "female",
           "group D"
          ],
          [
           "female",
           "group C"
          ],
          [
           "female",
           "group C"
          ],
          [
           "male",
           "group B"
          ],
          [
           "female",
           "group B"
          ],
          [
           "female",
           "group D"
          ],
          [
           "male",
           "group D"
          ],
          [
           "female",
           "group D"
          ],
          [
           "male",
           "group E"
          ],
          [
           "male",
           "group D"
          ],
          [
           "male",
           "group B"
          ],
          [
           "female",
           "group C"
          ],
          [
           "male",
           "group E"
          ],
          [
           "male",
           "group C"
          ],
          [
           "male",
           "group C"
          ],
          [
           "male",
           "group D"
          ],
          [
           "male",
           "group E"
          ],
          [
           "female",
           "group C"
          ],
          [
           "female",
           "group D"
          ],
          [
           "female",
           "group D"
          ],
          [
           "female",
           "group A"
          ],
          [
           "male",
           "group B"
          ],
          [
           "female",
           "group C"
          ],
          [
           "male",
           "group C"
          ],
          [
           "male",
           "group C"
          ],
          [
           "male",
           "group A"
          ],
          [
           "male",
           "group C"
          ],
          [
           "male",
           "group C"
          ],
          [
           "female",
           "group C"
          ],
          [
           "male",
           "group C"
          ],
          [
           "female",
           "group A"
          ],
          [
           "male",
           "group C"
          ],
          [
           "male",
           "group C"
          ],
          [
           "male",
           "group D"
          ],
          [
           "male",
           "group D"
          ],
          [
           "male",
           "group C"
          ],
          [
           "male",
           "group D"
          ],
          [
           "female",
           "group C"
          ],
          [
           "female",
           "group D"
          ],
          [
           "female",
           "group A"
          ],
          [
           "female",
           "group B"
          ],
          [
           "male",
           "group A"
          ],
          [
           "female",
           "group C"
          ],
          [
           "male",
           "group D"
          ],
          [
           "male",
           "group C"
          ],
          [
           "male",
           "group B"
          ],
          [
           "male",
           "group B"
          ],
          [
           "female",
           "group C"
          ],
          [
           "female",
           "group E"
          ],
          [
           "female",
           "group C"
          ],
          [
           "male",
           "group C"
          ],
          [
           "female",
           "group C"
          ],
          [
           "male",
           "group C"
          ],
          [
           "female",
           "group D"
          ],
          [
           "male",
           "group D"
          ],
          [
           "female",
           "group E"
          ],
          [
           "male",
           "group B"
          ],
          [
           "male",
           "group C"
          ],
          [
           "male",
           "group B"
          ],
          [
           "female",
           "group E"
          ],
          [
           "female",
           "group C"
          ],
          [
           "male",
           "group A"
          ],
          [
           "female",
           "group C"
          ],
          [
           "female",
           "group D"
          ],
          [
           "male",
           "group A"
          ],
          [
           "female",
           "group A"
          ],
          [
           "male",
           "group C"
          ],
          [
           "female",
           "group C"
          ],
          [
           "female",
           "group C"
          ],
          [
           "female",
           "group C"
          ],
          [
           "female",
           "group D"
          ],
          [
           "female",
           "group B"
          ],
          [
           "female",
           "group D"
          ],
          [
           "male",
           "group E"
          ],
          [
           "male",
           "group D"
          ],
          [
           "female",
           "group D"
          ],
          [
           "male",
           "group E"
          ],
          [
           "male",
           "group B"
          ],
          [
           "female",
           "group D"
          ],
          [
           "male",
           "group C"
          ],
          [
           "male",
           "group A"
          ],
          [
           "female",
           "group B"
          ],
          [
           "male",
           "group C"
          ],
          [
           "male",
           "group D"
          ],
          [
           "female",
           "group C"
          ],
          [
           "male",
           "group B"
          ],
          [
           "male",
           "group A"
          ],
          [
           "female",
           "group A"
          ],
          [
           "female",
           "group C"
          ],
          [
           "female",
           "group C"
          ],
          [
           "female",
           "group C"
          ],
          [
           "female",
           "group B"
          ],
          [
           "male",
           "group D"
          ],
          [
           "female",
           "group C"
          ],
          [
           "female",
           "group D"
          ],
          [
           "female",
           "group B"
          ],
          [
           "male",
           "group E"
          ],
          [
           "female",
           "group D"
          ],
          [
           "female",
           "group B"
          ],
          [
           "male",
           "group C"
          ],
          [
           "female",
           "group E"
          ],
          [
           "female",
           "group D"
          ],
          [
           "female",
           "group B"
          ],
          [
           "male",
           "group A"
          ],
          [
           "male",
           "group B"
          ],
          [
           "male",
           "group C"
          ],
          [
           "female",
           "group C"
          ],
          [
           "male",
           "group D"
          ],
          [
           "male",
           "group A"
          ],
          [
           "male",
           "group D"
          ],
          [
           "female",
           "group B"
          ],
          [
           "female",
           "group B"
          ],
          [
           "female",
           "group C"
          ],
          [
           "female",
           "group D"
          ],
          [
           "female",
           "group E"
          ],
          [
           "female",
           "group D"
          ],
          [
           "female",
           "group B"
          ],
          [
           "male",
           "group D"
          ],
          [
           "female",
           "group C"
          ],
          [
           "male",
           "group D"
          ],
          [
           "male",
           "group C"
          ],
          [
           "male",
           "group C"
          ],
          [
           "male",
           "group E"
          ],
          [
           "male",
           "group C"
          ],
          [
           "female",
           "group C"
          ],
          [
           "female",
           "group D"
          ],
          [
           "female",
           "group C"
          ],
          [
           "female",
           "group C"
          ],
          [
           "female",
           "group C"
          ],
          [
           "male",
           "group E"
          ],
          [
           "female",
           "group E"
          ],
          [
           "male",
           "group B"
          ],
          [
           "female",
           "group C"
          ],
          [
           "male",
           "group C"
          ],
          [
           "female",
           "group D"
          ],
          [
           "male",
           "group E"
          ],
          [
           "male",
           "group A"
          ],
          [
           "male",
           "group C"
          ],
          [
           "male",
           "group D"
          ],
          [
           "female",
           "group C"
          ],
          [
           "female",
           "group D"
          ],
          [
           "female",
           "group D"
          ],
          [
           "male",
           "group E"
          ],
          [
           "female",
           "group A"
          ],
          [
           "male",
           "group C"
          ],
          [
           "female",
           "group C"
          ],
          [
           "male",
           "group C"
          ],
          [
           "male",
           "group C"
          ],
          [
           "male",
           "group B"
          ],
          [
           "female",
           "group B"
          ],
          [
           "male",
           "group D"
          ],
          [
           "male",
           "group E"
          ],
          [
           "female",
           "group C"
          ],
          [
           "female",
           "group C"
          ],
          [
           "male",
           "group C"
          ],
          [
           "female",
           "group B"
          ],
          [
           "male",
           "group D"
          ],
          [
           "female",
           "group D"
          ],
          [
           "female",
           "group C"
          ],
          [
           "male",
           "group C"
          ],
          [
           "female",
           "group D"
          ],
          [
           "male",
           "group B"
          ],
          [
           "male",
           "group B"
          ],
          [
           "female",
           "group E"
          ],
          [
           "female",
           "group D"
          ],
          [
           "male",
           "group B"
          ],
          [
           "male",
           "group D"
          ],
          [
           "male",
           "group B"
          ],
          [
           "male",
           "group A"
          ],
          [
           "female",
           "group C"
          ],
          [
           "female",
           "group C"
          ],
          [
           "female",
           "group E"
          ],
          [
           "male",
           "group A"
          ],
          [
           "male",
           "group A"
          ],
          [
           "female",
           "group B"
          ],
          [
           "female",
           "group B"
          ],
          [
           "female",
           "group D"
          ],
          [
           "female",
           "group D"
          ],
          [
           "female",
           "group E"
          ],
          [
           "female",
           "group D"
          ],
          [
           "female",
           "group D"
          ],
          [
           "female",
           "group D"
          ],
          [
           "female",
           "group C"
          ],
          [
           "female",
           "group A"
          ],
          [
           "female",
           "group C"
          ],
          [
           "female",
           "group C"
          ],
          [
           "female",
           "group A"
          ],
          [
           "male",
           "group C"
          ],
          [
           "male",
           "group A"
          ],
          [
           "male",
           "group E"
          ],
          [
           "female",
           "group E"
          ],
          [
           "female",
           "group C"
          ],
          [
           "female",
           "group C"
          ],
          [
           "male",
           "group B"
          ],
          [
           "male",
           "group A"
          ],
          [
           "female",
           "group D"
          ],
          [
           "female",
           "group D"
          ],
          [
           "female",
           "group D"
          ],
          [
           "female",
           "group C"
          ],
          [
           "female",
           "group E"
          ],
          [
           "male",
           "group D"
          ],
          [
           "male",
           "group D"
          ],
          [
           "male",
           "group C"
          ],
          [
           "female",
           "group C"
          ],
          [
           "female",
           "group C"
          ],
          [
           "female",
           "group E"
          ],
          [
           "female",
           "group B"
          ],
          [
           "male",
           "group D"
          ],
          [
           "female",
           "group C"
          ],
          [
           "male",
           "group C"
          ],
          [
           "female",
           "group C"
          ],
          [
           "female",
           "group A"
          ],
          [
           "female",
           "group C"
          ],
          [
           "female",
           "group E"
          ],
          [
           "male",
           "group D"
          ],
          [
           "male",
           "group D"
          ],
          [
           "male",
           "group C"
          ],
          [
           "female",
           "group C"
          ],
          [
           "male",
           "group B"
          ],
          [
           "male",
           "group C"
          ],
          [
           "male",
           "group A"
          ],
          [
           "female",
           "group E"
          ],
          [
           "male",
           "group D"
          ],
          [
           "male",
           "group B"
          ],
          [
           "male",
           "group D"
          ],
          [
           "male",
           "group D"
          ],
          [
           "female",
           "group C"
          ],
          [
           "male",
           "group D"
          ],
          [
           "male",
           "group B"
          ],
          [
           "female",
           "group B"
          ],
          [
           "female",
           "group C"
          ],
          [
           "male",
           "group D"
          ],
          [
           "male",
           "group A"
          ],
          [
           "female",
           "group B"
          ],
          [
           "female",
           "group D"
          ],
          [
           "male",
           "group E"
          ],
          [
           "female",
           "group D"
          ],
          [
           "male",
           "group D"
          ],
          [
           "female",
           "group D"
          ],
          [
           "female",
           "group B"
          ],
          [
           "female",
           "group E"
          ],
          [
           "male",
           "group B"
          ],
          [
           "female",
           "group B"
          ],
          [
           "female",
           "group D"
          ],
          [
           "female",
           "group E"
          ],
          [
           "female",
           "group B"
          ],
          [
           "female",
           "group D"
          ],
          [
           "male",
           "group C"
          ],
          [
           "female",
           "group A"
          ],
          [
           "female",
           "group D"
          ],
          [
           "female",
           "group A"
          ],
          [
           "female",
           "group B"
          ],
          [
           "female",
           "group B"
          ],
          [
           "male",
           "group C"
          ],
          [
           "male",
           "group D"
          ],
          [
           "female",
           "group D"
          ],
          [
           "male",
           "group D"
          ],
          [
           "male",
           "group C"
          ],
          [
           "male",
           "group C"
          ],
          [
           "female",
           "group D"
          ],
          [
           "female",
           "group C"
          ],
          [
           "male",
           "group D"
          ],
          [
           "female",
           "group C"
          ],
          [
           "female",
           "group C"
          ],
          [
           "female",
           "group B"
          ],
          [
           "male",
           "group C"
          ],
          [
           "male",
           "group D"
          ],
          [
           "female",
           "group C"
          ],
          [
           "male",
           "group D"
          ],
          [
           "female",
           "group C"
          ],
          [
           "female",
           "group C"
          ],
          [
           "female",
           "group D"
          ],
          [
           "female",
           "group B"
          ],
          [
           "female",
           "group E"
          ],
          [
           "female",
           "group C"
          ],
          [
           "male",
           "group D"
          ],
          [
           "male",
           "group D"
          ],
          [
           "female",
           "group D"
          ],
          [
           "male",
           "group B"
          ],
          [
           "male",
           "group B"
          ],
          [
           "female",
           "group C"
          ],
          [
           "male",
           "group B"
          ],
          [
           "female",
           "group E"
          ],
          [
           "male",
           "group E"
          ],
          [
           "male",
           "group D"
          ],
          [
           "male",
           "group A"
          ],
          [
           "male",
           "group E"
          ],
          [
           "female",
           "group C"
          ],
          [
           "female",
           "group E"
          ],
          [
           "female",
           "group C"
          ],
          [
           "female",
           "group D"
          ],
          [
           "female",
           "group C"
          ],
          [
           "female",
           "group D"
          ],
          [
           "female",
           "group C"
          ],
          [
           "female",
           "group A"
          ],
          [
           "female",
           "group D"
          ],
          [
           "male",
           "group C"
          ],
          [
           "female",
           "group E"
          ],
          [
           "female",
           "group B"
          ],
          [
           "male",
           "group A"
          ],
          [
           "female",
           "group D"
          ],
          [
           "female",
           "group B"
          ],
          [
           "male",
           "group A"
          ],
          [
           "male",
           "group D"
          ],
          [
           "male",
           "group C"
          ],
          [
           "male",
           "group D"
          ],
          [
           "female",
           "group D"
          ],
          [
           "male",
           "group C"
          ],
          [
           "female",
           "group E"
          ],
          [
           "female",
           "group D"
          ],
          [
           "male",
           "group D"
          ],
          [
           "female",
           "group B"
          ],
          [
           "female",
           "group B"
          ],
          [
           "male",
           "group C"
          ],
          [
           "female",
           "group C"
          ],
          [
           "female",
           "group C"
          ],
          [
           "male",
           "group E"
          ],
          [
           "female",
           "group C"
          ],
          [
           "male",
           "group D"
          ],
          [
           "female",
           "group B"
          ],
          [
           "male",
           "group C"
          ],
          [
           "male",
           "group B"
          ],
          [
           "male",
           "group E"
          ],
          [
           "female",
           "group E"
          ],
          [
           "male",
           "group E"
          ],
          [
           "female",
           "group D"
          ],
          [
           "male",
           "group C"
          ],
          [
           "female",
           "group B"
          ],
          [
           "male",
           "group A"
          ],
          [
           "female",
           "group C"
          ],
          [
           "male",
           "group D"
          ],
          [
           "female",
           "group E"
          ],
          [
           "male",
           "group C"
          ],
          [
           "male",
           "group C"
          ],
          [
           "female",
           "group B"
          ],
          [
           "male",
           "group D"
          ],
          [
           "male",
           "group C"
          ],
          [
           "male",
           "group D"
          ],
          [
           "female",
           "group A"
          ],
          [
           "female",
           "group C"
          ],
          [
           "female",
           "group C"
          ],
          [
           "male",
           "group B"
          ],
          [
           "male",
           "group D"
          ],
          [
           "male",
           "group D"
          ],
          [
           "male",
           "group C"
          ],
          [
           "female",
           "group C"
          ],
          [
           "male",
           "group B"
          ],
          [
           "male",
           "group D"
          ],
          [
           "male",
           "group E"
          ],
          [
           "male",
           "group C"
          ],
          [
           "female",
           "group C"
          ],
          [
           "male",
           "group C"
          ],
          [
           "female",
           "group E"
          ],
          [
           "male",
           "group D"
          ],
          [
           "male",
           "group E"
          ],
          [
           "female",
           "group D"
          ],
          [
           "male",
           "group B"
          ],
          [
           "female",
           "group C"
          ],
          [
           "female",
           "group D"
          ],
          [
           "male",
           "group D"
          ],
          [
           "female",
           "group B"
          ],
          [
           "male",
           "group D"
          ],
          [
           "female",
           "group B"
          ],
          [
           "female",
           "group C"
          ],
          [
           "male",
           "group B"
          ],
          [
           "female",
           "group D"
          ],
          [
           "male",
           "group A"
          ],
          [
           "male",
           "group B"
          ],
          [
           "male",
           "group D"
          ],
          [
           "female",
           "group B"
          ],
          [
           "female",
           "group C"
          ],
          [
           "male",
           "group B"
          ],
          [
           "female",
           "group B"
          ],
          [
           "female",
           "group B"
          ],
          [
           "female",
           "group C"
          ],
          [
           "female",
           "group A"
          ],
          [
           "male",
           "group E"
          ],
          [
           "female",
           "group D"
          ],
          [
           "female",
           "group B"
          ],
          [
           "female",
           "group B"
          ],
          [
           "female",
           "group C"
          ],
          [
           "male",
           "group C"
          ],
          [
           "female",
           "group B"
          ],
          [
           "female",
           "group E"
          ],
          [
           "female",
           "group B"
          ],
          [
           "male",
           "group C"
          ],
          [
           "female",
           "group C"
          ],
          [
           "female",
           "group B"
          ],
          [
           "female",
           "group D"
          ],
          [
           "male",
           "group D"
          ],
          [
           "male",
           "group E"
          ],
          [
           "female",
           "group B"
          ],
          [
           "female",
           "group E"
          ],
          [
           "male",
           "group D"
          ],
          [
           "female",
           "group E"
          ],
          [
           "male",
           "group E"
          ],
          [
           "female",
           "group C"
          ],
          [
           "male",
           "group C"
          ],
          [
           "male",
           "group C"
          ],
          [
           "female",
           "group E"
          ],
          [
           "female",
           "group B"
          ],
          [
           "female",
           "group C"
          ],
          [
           "male",
           "group A"
          ],
          [
           "female",
           "group D"
          ],
          [
           "female",
           "group E"
          ],
          [
           "male",
           "group C"
          ],
          [
           "male",
           "group B"
          ],
          [
           "male",
           "group A"
          ],
          [
           "male",
           "group A"
          ],
          [
           "female",
           "group C"
          ],
          [
           "male",
           "group E"
          ],
          [
           "female",
           "group C"
          ],
          [
           "male",
           "group B"
          ],
          [
           "female",
           "group A"
          ],
          [
           "male",
           "group D"
          ],
          [
           "female",
           "group B"
          ],
          [
           "female",
           "group C"
          ],
          [
           "female",
           "group A"
          ],
          [
           "female",
           "group D"
          ],
          [
           "male",
           "group E"
          ],
          [
           "female",
           "group B"
          ],
          [
           "female",
           "group C"
          ],
          [
           "male",
           "group C"
          ],
          [
           "female",
           "group C"
          ],
          [
           "female",
           "group C"
          ],
          [
           "female",
           "group D"
          ],
          [
           "male",
           "group B"
          ],
          [
           "female",
           "group A"
          ],
          [
           "female",
           "group C"
          ],
          [
           "male",
           "group A"
          ],
          [
           "female",
           "group B"
          ],
          [
           "male",
           "group B"
          ],
          [
           "female",
           "group C"
          ],
          [
           "male",
           "group E"
          ],
          [
           "female",
           "group A"
          ],
          [
           "male",
           "group B"
          ],
          [
           "female",
           "group C"
          ],
          [
           "female",
           "group D"
          ],
          [
           "male",
           "group C"
          ],
          [
           "female",
           "group B"
          ],
          [
           "male",
           "group B"
          ],
          [
           "female",
           "group D"
          ],
          [
           "male",
           "group E"
          ],
          [
           "male",
           "group C"
          ],
          [
           "male",
           "group D"
          ],
          [
           "female",
           "group C"
          ],
          [
           "male",
           "group D"
          ],
          [
           "male",
           "group C"
          ],
          [
           "female",
           "group A"
          ],
          [
           "female",
           "group E"
          ],
          [
           "male",
           "group E"
          ],
          [
           "male",
           "group C"
          ],
          [
           "female",
           "group B"
          ],
          [
           "male",
           "group B"
          ],
          [
           "female",
           "group C"
          ],
          [
           "male",
           "group B"
          ],
          [
           "male",
           "group C"
          ],
          [
           "female",
           "group C"
          ],
          [
           "female",
           "group E"
          ],
          [
           "male",
           "group D"
          ],
          [
           "female",
           "group C"
          ],
          [
           "male",
           "group C"
          ],
          [
           "male",
           "group D"
          ],
          [
           "male",
           "group C"
          ],
          [
           "male",
           "group B"
          ],
          [
           "male",
           "group E"
          ],
          [
           "male",
           "group C"
          ],
          [
           "male",
           "group B"
          ],
          [
           "female",
           "group C"
          ],
          [
           "male",
           "group B"
          ],
          [
           "male",
           "group E"
          ],
          [
           "female",
           "group C"
          ],
          [
           "male",
           "group C"
          ],
          [
           "male",
           "group D"
          ],
          [
           "male",
           "group C"
          ],
          [
           "female",
           "group D"
          ],
          [
           "female",
           "group D"
          ],
          [
           "male",
           "group C"
          ],
          [
           "female",
           "group E"
          ],
          [
           "female",
           "group B"
          ],
          [
           "male",
           "group D"
          ],
          [
           "female",
           "group E"
          ],
          [
           "female",
           "group C"
          ],
          [
           "female",
           "group E"
          ],
          [
           "male",
           "group C"
          ],
          [
           "female",
           "group D"
          ],
          [
           "male",
           "group D"
          ],
          [
           "female",
           "group E"
          ],
          [
           "female",
           "group E"
          ],
          [
           "female",
           "group A"
          ],
          [
           "male",
           "group D"
          ],
          [
           "female",
           "group E"
          ],
          [
           "female",
           "group E"
          ],
          [
           "male",
           "group B"
          ],
          [
           "female",
           "group B"
          ],
          [
           "male",
           "group D"
          ],
          [
           "female",
           "group D"
          ],
          [
           "male",
           "group D"
          ],
          [
           "female",
           "group C"
          ],
          [
           "female",
           "group A"
          ],
          [
           "female",
           "group D"
          ],
          [
           "female",
           "group D"
          ],
          [
           "male",
           "group D"
          ],
          [
           "male",
           "group B"
          ],
          [
           "female",
           "group D"
          ],
          [
           "female",
           "group C"
          ],
          [
           "male",
           "group E"
          ],
          [
           "male",
           "group D"
          ],
          [
           "female",
           "group A"
          ],
          [
           "female",
           "group C"
          ],
          [
           "female",
           "group C"
          ],
          [
           "female",
           "group B"
          ],
          [
           "female",
           "group E"
          ],
          [
           "male",
           "group E"
          ],
          [
           "female",
           "group C"
          ],
          [
           "female",
           "group C"
          ],
          [
           "male",
           "group B"
          ],
          [
           "male",
           "group D"
          ],
          [
           "female",
           "group C"
          ],
          [
           "male",
           "group D"
          ],
          [
           "female",
           "group B"
          ],
          [
           "male",
           "group D"
          ],
          [
           "male",
           "group E"
          ],
          [
           "male",
           "group E"
          ],
          [
           "female",
           "group D"
          ],
          [
           "male",
           "group E"
          ],
          [
           "female",
           "group C"
          ],
          [
           "male",
           "group C"
          ],
          [
           "male",
           "group D"
          ],
          [
           "male",
           "group D"
          ],
          [
           "male",
           "group C"
          ],
          [
           "male",
           "group C"
          ],
          [
           "male",
           "group D"
          ],
          [
           "male",
           "group A"
          ],
          [
           "female",
           "group E"
          ],
          [
           "male",
           "group D"
          ],
          [
           "male",
           "group D"
          ],
          [
           "male",
           "group C"
          ],
          [
           "female",
           "group D"
          ],
          [
           "male",
           "group C"
          ],
          [
           "male",
           "group A"
          ],
          [
           "female",
           "group B"
          ],
          [
           "female",
           "group C"
          ],
          [
           "male",
           "group B"
          ],
          [
           "female",
           "group D"
          ],
          [
           "male",
           "group B"
          ],
          [
           "female",
           "group E"
          ],
          [
           "male",
           "group E"
          ],
          [
           "female",
           "group D"
          ],
          [
           "female",
           "group E"
          ],
          [
           "male",
           "group C"
          ],
          [
           "female",
           "group C"
          ],
          [
           "male",
           "group E"
          ],
          [
           "male",
           "group C"
          ],
          [
           "female",
           "group D"
          ],
          [
           "female",
           "group D"
          ],
          [
           "male",
           "group C"
          ],
          [
           "female",
           "group A"
          ],
          [
           "female",
           "group D"
          ],
          [
           "female",
           "group E"
          ],
          [
           "female",
           "group C"
          ],
          [
           "male",
           "group D"
          ],
          [
           "female",
           "group D"
          ],
          [
           "male",
           "group A"
          ],
          [
           "male",
           "group C"
          ],
          [
           "female",
           "group E"
          ],
          [
           "female",
           "group B"
          ],
          [
           "female",
           "group D"
          ],
          [
           "male",
           "group C"
          ],
          [
           "female",
           "group A"
          ],
          [
           "female",
           "group D"
          ],
          [
           "female",
           "group A"
          ],
          [
           "female",
           "group C"
          ],
          [
           "male",
           "group B"
          ],
          [
           "male",
           "group C"
          ],
          [
           "male",
           "group D"
          ],
          [
           "female",
           "group C"
          ],
          [
           "female",
           "group B"
          ],
          [
           "male",
           "group D"
          ],
          [
           "male",
           "group B"
          ],
          [
           "female",
           "group A"
          ],
          [
           "female",
           "group C"
          ],
          [
           "male",
           "group A"
          ],
          [
           "female",
           "group C"
          ],
          [
           "male",
           "group E"
          ],
          [
           "female",
           "group A"
          ],
          [
           "female",
           "group D"
          ],
          [
           "male",
           "group E"
          ],
          [
           "female",
           "group B"
          ],
          [
           "female",
           "group D"
          ],
          [
           "female",
           "group D"
          ],
          [
           "male",
           "group A"
          ],
          [
           "female",
           "group E"
          ],
          [
           "male",
           "group C"
          ],
          [
           "female",
           "group C"
          ],
          [
           "female",
           "group D"
          ],
          [
           "female",
           "group D"
          ]
         ],
         "hovertemplate": "math_score=%{x}<br>reading_score=%{y}<br>writing_score=%{z}<br>total_score=%{marker.color}<br>gender=%{customdata[0]}<br>race_ethnicity=%{customdata[1]}<extra></extra>",
         "legendgroup": "",
         "marker": {
          "color": {
           "bdata": "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",
           "dtype": "f8"
          },
          "coloraxis": "coloraxis",
          "size": {
           "bdata": "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",
           "dtype": "f8"
          },
          "sizemode": "area",
          "sizeref": 0.25,
          "symbol": "circle"
         },
         "mode": "markers",
         "name": "",
         "scene": "scene",
         "showlegend": false,
         "type": "scatter3d",
         "x": {
          "bdata": "SEVaL0xHWChAJjooQU4yRVgSLjZCQSxFSklFQ0Y+RT84KGFRSjJLOTc6NTsyQTdCOVI1TTVYRyFSNDoATyc+RTtDLTw9Jzo/KT0xLB5QPT4vMTJIKklMRzpJQRtHK09OQT86QU9EVTxiOldCNEZNPjYzY1RLTjM3T1tYP1NXSEFSM1k1V0tKOjNGO0dMOyo5WBZYSURkPk07Nj5GQjw9QlJLMTRRYDU6RENIXk8/K1EuRzRhPi4yQS1BUD4wTUJMPk1FPTs3LU5DQUU5O0pSUUo6UCMqPFdUUyJCPThXN1Y0LUg5RFhMLkNcU1A/QDZUSVA4O0tVWTpBRC9HPFA2PkBORkFATyxjTDs/RVhHRTovQVhTVTtBSTUtSUYlUWFDWE1MVj9BTkMuRyhaUThDUEpFYzM1MUlCQ0Q7R01TPzhDS0crKVI9HFIpRy8+WlM9TDEYIzo9RUNPSD5NS1c0Qj8uOz0/KjtQOlU0GzsxRT0sSVQtSlI7LlBVR0JQV08mJkNAOT5JSU1MOUEwMlVKPDs1MVg2P0FSNFdGVEc/M1RHSkQ5UjkvOyk+VkVBREA9PS9JMktLRllDTjtJT0NFVi9RQGRBQTUlTzVkSDU2R01LVBpITVtTP0Q7WkdMUDdMSTREOzFGPTxAT0FAU1E2RDY7QkxKXj9fKFJEN09WTEA+Nk1MSkJCQ0dbRTY1RDgkHT5ELz5PSUIzM1VhS09RUkBOXEg+T09XKE01IDc9NUlKP2A/MDBcPT9ER1s1MkooPVEwNVFNP0lFQTcsNjA6R0RKXDgeNUVBNh1MPFRLVSg9OkU6XkFSPCVYX0EjPjpkPWRFPTEsQ09CS1RHQ1BWTClKSEpGQTtAMkUzRFVBST5NRStaSkk3QVAyP01JUUI0RUFFMklGUT9DPD4dPl5VTTVdMUlCTTFPSzs5Qk85Vz87Pi5CWSpdUGJRPExJYExbPjdKMi9RQURJNUQ3Vzc1Q1w1UT1QJVE7N0hFRTJXR0RPTTpUN0Y0RTUwTj48SjpMRDo0SzQ+QjFCI0heLk1MNFsgSBNENDA8QlkqOUZGRTRDTFdSSUtAKVo7My02V0heLT08TVVOMUcwPjhBRUQ9SkBNOjxJSzpCJ0AXSihaW0A7UEc9V1I+YUtBNFc1USdHYVI7PU4xO0ZSWitQUTk7QD9HQDczPl02RSxWVTJYOyAkP0NBVUkiXUNYOU9DRjJFNC8uRGQsOVtFI0g2SkpAQS4wQz49RmJGQzlVTUhOUT06NlIxMTleS0o6PkhUXC1LODBkQUg+Qj9ES1lONTE2QDw+N1sIUU9OSjkoUSxDVkE3Pj9YPjtETQ==",
          "dtype": "i1"
         },
         "y": {
          "bdata": "SFpfOU5TXytAPDY0UUg1S1kgKjpFSzZJR0o2RUZGSkFIKldRUUBaOD1JOkE4NkFHSlQ3RSxOVClVNzsRSic9UDpAJUg6QD83MzkxKRpOSkQxLS9AJ1BTR0ZWSCJPLVZRQkhDQ0NKWyxWQ2Q/TEBZNzU6ZE1VUj9FXFldOVBfRE1SMVQlSlFPNzY3Qj1IPjcrSSdUREtkQ0NGMUNZSjxWPk5YNTVcZDNMU0tJWFZDM1s2TUZkREAyRTRDTEI0WEFTQD5UN0U4NU9UUU1FKUc+UFE9Txw+M1tTVipNOERVQVBCOEgySF9AK1ZXUktCPDRQRFM0M0pMTEZAPDFTRlA0SUlNS1FPTzJdSSpLSFxMPzE1RlVOXD9WODQwT04uUlJZS0xGSTxJTT4pSi5XTjZUTEtDVzRHOUw8PUNAQlJIR0FPVlE1Llo9F0s3PCU4Tl1ERjMmNz1JTEhJUD1eSkpBOU46R0g9Qj5aPlQ6Ijw6OkJAVE1JSmFGK1pfU0BWZFExK0xJTkBGQ0RDNkotQ1k/OzYrQWM7SUFQOVRHU0JDSElKSTs4XTo6VSdDU0c7P0JIODtCMERCOFhRUUlTUkpCUS5JVVxNOj04WTZkQTo2Rlo6Vx9DWEpVRVZDWkw+REBHRztENDRKL0s1UlVAU1hAQDBORUdPVz1ZO1JGO05cRzIxPWFXWUpOTjFWOjs0PD01KUpDNj1YRVM8QkJcRVJNXz9TZENDSExaMD4tJ0hDRkJLSlpQMytkRzBES2A+QlE3M1s4PWFPSUtNTEk/QEI5PkRMZE8YNk1SPB1OOVlIVDpAPzw7Wk1dRC1OUUk9PzNgOmFGMDkzQDxKWFRKUFxMSjRYUU9BUUY+NU84UFZGT0NDQjxXTUJHRT88SVVKSEw5TlRNQE5SSz1IRDcoQmNLTjpaNUxKTT9ZUkhOQlFDVEA/SCI7Vz1UVWRRRl5OYExJSDtaMCtKSzNcJ00uWS86OU9CRzxJOVRJN09LQDxURUhNWjdfOkQ7TUg6UT4/SEs+RzwwSUNOQTpILE9VOFpVO1EzTyZBQT5CSlQ0REZUPDdJUF5VTFFKLUs2Hy9AVFBWO0ZIW1paNFc6Q0RFVjY8VjxSMkBAUjlNNDosTUFVVTZIS0NEVUNAYURPMUk+VipHXVI1KkozOkhUWj5AUj1ITEBGSS4zTGRIQTNVXENKPiIdTjZOVE4wZFRNMFRLQCpUPT49RmQ9TWBGNUJBRkA4PSs4SjlHS1c/OTpRREJbQj5EPVI6MktJTUo0RTlXZD9ROjZkTDlGRD9MVGRIMkE/Uj5BKV8YTlVXSzM7Sy1WUVJMSD9jN0dOVg==",
          "dtype": "i1"
         },
         "z": {
          "bdata": "SlhdLEtOXCdDMjQrSUY6TlYcLj0/RjVJUEg3S0FLSj1BJlJPUztYOTZEQUI2OT5MTFIwRCpLVytWMToKSCI3Rzs9JUo4OUk/MDgpJhZRSEQyLTY/IlJYSkNSSiRHMlxSPkY+PkNKWS9aSGRARkhiMS82ZEpSTz1BWVxdOElWQ0pKM1IoRlRLMCk4Q0VHQDYvTiFLQlFdRURCLz1YTjxXQEpVNDFbZDNOTkZKTlFGNlc6TT5kS0IvRjFBQUQtV0VPQj5VNEEzN0xWTUVEKk4+TExCTxs8OFFLWCdGOEpJPktJNkc2QF5CKlNOVE1DSjNQQlM3K0VHSkQ+NTFTRkg0RkRNTlFNTjNaRClRTV9GPSo6R0xJXUtQOSouVE4uUlhSTE1ERjlLUDwrRDJLUTRRQFNFUSxDNFA5REVLQVtORT9UT1A1K14+E00zPSM1UV9CRSsbPDQ/SkNDSzlfQkxFNFA5RkY9RT1ZO046IDo8NT06VUdGSGBJKVJkTT5TX0ctK0tGQ0BLO01DOE0pP185NkMrN2Q+RD9NOFVKTjxDT0VEQz42XUBDUCI+VkE1NjtGNzJCNUBJM1JPUEVMSU08UCpIVWFKMT4vWTBkRDctTFs+WyZBVUxaSlQ9W1NCSEZDRDg9LjZHOEo5UkxGWlpEQjRMREhSXDZcNlBCNk1XSSs0Pl5VVElOTzRUOTIxOzwrL0ZJNTpeRFM6PkdWRFBPWUJQYUBARUFYMkAoIU9CRj5PSlxQLi1kTi9DRlw4QEc1NFk6RGBQTlBNTEk+QUE2MkBJY0gPMElRPx5QM1o+UjY+QT9CW0pdSCZTVEQ2ODRWPmM/Li43RkFRVVBAUVhKSTNaT1A8UUFEN1E1TGJKT0NAPTpVST9FQz88R1c9TUQyTFROQkxMTjxKPDYsRGRESSxTNU5RSThWWkZPO1JIV0NAQSQ0TzpaVWNUSldIY0pQRjtYKilHTTlUJVArXiw5O1RJSTdIOFJIL0pHRDtWREFLVTVcNEhBTUA2Vj87SE08SzkxSkhPPDdGK1JSOVRSPk8sTSA9PTxGRU0zSUZRNjlESV9XTkpLKEUzJDFDTFNXQExEWFxdM1I0OkZMUTU5WTpZLUo5TzVJLjMkTEBUVTJERUM/XT03YEFRLkg1VyZQW1g0KUgzL0xOUj1CVDZQSkJGRyw2UF87SjBbVUlLRSYbTz9SWUopZFRNM1tIRjBSQkI3QmQ0UFtDLkJBRTw0RywzRj5JSlo6NTlVRUhgQD09OlA8NElHU0g2RT5RZDtHQDVkSzpIQDxDUGRFPD1DTTw6MF4XTlZbUjYzTC1TS05MSj5fN0FNVg==",
          "dtype": "i1"
         }
        }
       ],
       "layout": {
        "coloraxis": {
         "colorbar": {
          "title": {
           "text": "total_score"
          }
         },
         "colorscale": [
          [
           0,
           "rgb(150,0,90)"
          ],
          [
           0.125,
           "rgb(0,0,200)"
          ],
          [
           0.25,
           "rgb(0,25,255)"
          ],
          [
           0.375,
           "rgb(0,152,255)"
          ],
          [
           0.5,
           "rgb(44,255,150)"
          ],
          [
           0.625,
           "rgb(151,255,0)"
          ],
          [
           0.75,
           "rgb(255,234,0)"
          ],
          [
           0.875,
           "rgb(255,111,0)"
          ],
          [
           1,
           "rgb(255,0,0)"
          ]
         ]
        },
        "legend": {
         "itemsizing": "constant",
         "tracegroupgap": 0
        },
        "scene": {
         "domain": {
          "x": [
           0,
           1
          ],
          "y": [
           0,
           1
          ]
         },
         "xaxis": {
          "title": {
           "text": "math_score"
          }
         },
         "yaxis": {
          "title": {
           "text": "reading_score"
          }
         },
         "zaxis": {
          "title": {
           "text": "writing_score"
          }
         }
        },
        "template": {
         "data": {
          "bar": [
           {
            "error_x": {
             "color": "#2a3f5f"
            },
            "error_y": {
             "color": "#2a3f5f"
            },
            "marker": {
             "line": {
              "color": "#E5ECF6",
              "width": 0.5
             },
             "pattern": {
              "fillmode": "overlay",
              "size": 10,
              "solidity": 0.2
             }
            },
            "type": "bar"
           }
          ],
          "barpolar": [
           {
            "marker": {
             "line": {
              "color": "#E5ECF6",
              "width": 0.5
             },
             "pattern": {
              "fillmode": "overlay",
              "size": 10,
              "solidity": 0.2
             }
            },
            "type": "barpolar"
           }
          ],
          "carpet": [
           {
            "aaxis": {
             "endlinecolor": "#2a3f5f",
             "gridcolor": "white",
             "linecolor": "white",
             "minorgridcolor": "white",
             "startlinecolor": "#2a3f5f"
            },
            "baxis": {
             "endlinecolor": "#2a3f5f",
             "gridcolor": "white",
             "linecolor": "white",
             "minorgridcolor": "white",
             "startlinecolor": "#2a3f5f"
            },
            "type": "carpet"
           }
          ],
          "choropleth": [
           {
            "colorbar": {
             "outlinewidth": 0,
             "ticks": ""
            },
            "type": "choropleth"
           }
          ],
          "contour": [
           {
            "colorbar": {
             "outlinewidth": 0,
             "ticks": ""
            },
            "colorscale": [
             [
              0,
              "#0d0887"
             ],
             [
              0.1111111111111111,
              "#46039f"
             ],
             [
              0.2222222222222222,
              "#7201a8"
             ],
             [
              0.3333333333333333,
              "#9c179e"
             ],
             [
              0.4444444444444444,
              "#bd3786"
             ],
             [
              0.5555555555555556,
              "#d8576b"
             ],
             [
              0.6666666666666666,
              "#ed7953"
             ],
             [
              0.7777777777777778,
              "#fb9f3a"
             ],
             [
              0.8888888888888888,
              "#fdca26"
             ],
             [
              1,
              "#f0f921"
             ]
            ],
            "type": "contour"
           }
          ],
          "contourcarpet": [
           {
            "colorbar": {
             "outlinewidth": 0,
             "ticks": ""
            },
            "type": "contourcarpet"
           }
          ],
          "heatmap": [
           {
            "colorbar": {
             "outlinewidth": 0,
             "ticks": ""
            },
            "colorscale": [
             [
              0,
              "#0d0887"
             ],
             [
              0.1111111111111111,
              "#46039f"
             ],
             [
              0.2222222222222222,
              "#7201a8"
             ],
             [
              0.3333333333333333,
              "#9c179e"
             ],
             [
              0.4444444444444444,
              "#bd3786"
             ],
             [
              0.5555555555555556,
              "#d8576b"
             ],
             [
              0.6666666666666666,
              "#ed7953"
             ],
             [
              0.7777777777777778,
              "#fb9f3a"
             ],
             [
              0.8888888888888888,
              "#fdca26"
             ],
             [
              1,
              "#f0f921"
             ]
            ],
            "type": "heatmap"
           }
          ],
          "histogram": [
           {
            "marker": {
             "pattern": {
              "fillmode": "overlay",
              "size": 10,
              "solidity": 0.2
             }
            },
            "type": "histogram"
           }
          ],
          "histogram2d": [
           {
            "colorbar": {
             "outlinewidth": 0,
             "ticks": ""
            },
            "colorscale": [
             [
              0,
              "#0d0887"
             ],
             [
              0.1111111111111111,
              "#46039f"
             ],
             [
              0.2222222222222222,
              "#7201a8"
             ],
             [
              0.3333333333333333,
              "#9c179e"
             ],
             [
              0.4444444444444444,
              "#bd3786"
             ],
             [
              0.5555555555555556,
              "#d8576b"
             ],
             [
              0.6666666666666666,
              "#ed7953"
             ],
             [
              0.7777777777777778,
              "#fb9f3a"
             ],
             [
              0.8888888888888888,
              "#fdca26"
             ],
             [
              1,
              "#f0f921"
             ]
            ],
            "type": "histogram2d"
           }
          ],
          "histogram2dcontour": [
           {
            "colorbar": {
             "outlinewidth": 0,
             "ticks": ""
            },
            "colorscale": [
             [
              0,
              "#0d0887"
             ],
             [
              0.1111111111111111,
              "#46039f"
             ],
             [
              0.2222222222222222,
              "#7201a8"
             ],
             [
              0.3333333333333333,
              "#9c179e"
             ],
             [
              0.4444444444444444,
              "#bd3786"
             ],
             [
              0.5555555555555556,
              "#d8576b"
             ],
             [
              0.6666666666666666,
              "#ed7953"
             ],
             [
              0.7777777777777778,
              "#fb9f3a"
             ],
             [
              0.8888888888888888,
              "#fdca26"
             ],
             [
              1,
              "#f0f921"
             ]
            ],
            "type": "histogram2dcontour"
           }
          ],
          "mesh3d": [
           {
            "colorbar": {
             "outlinewidth": 0,
             "ticks": ""
            },
            "type": "mesh3d"
           }
          ],
          "parcoords": [
           {
            "line": {
             "colorbar": {
              "outlinewidth": 0,
              "ticks": ""
             }
            },
            "type": "parcoords"
           }
          ],
          "pie": [
           {
            "automargin": true,
            "type": "pie"
           }
          ],
          "scatter": [
           {
            "fillpattern": {
             "fillmode": "overlay",
             "size": 10,
             "solidity": 0.2
            },
            "type": "scatter"
           }
          ],
          "scatter3d": [
           {
            "line": {
             "colorbar": {
              "outlinewidth": 0,
              "ticks": ""
             }
            },
            "marker": {
             "colorbar": {
              "outlinewidth": 0,
              "ticks": ""
             }
            },
            "type": "scatter3d"
           }
          ],
          "scattercarpet": [
           {
            "marker": {
             "colorbar": {
              "outlinewidth": 0,
              "ticks": ""
             }
            },
            "type": "scattercarpet"
           }
          ],
          "scattergeo": [
           {
            "marker": {
             "colorbar": {
              "outlinewidth": 0,
              "ticks": ""
             }
            },
            "type": "scattergeo"
           }
          ],
          "scattergl": [
           {
            "marker": {
             "colorbar": {
              "outlinewidth": 0,
              "ticks": ""
             }
            },
            "type": "scattergl"
           }
          ],
          "scattermap": [
           {
            "marker": {
             "colorbar": {
              "outlinewidth": 0,
              "ticks": ""
             }
            },
            "type": "scattermap"
           }
          ],
          "scattermapbox": [
           {
            "marker": {
             "colorbar": {
              "outlinewidth": 0,
              "ticks": ""
             }
            },
            "type": "scattermapbox"
           }
          ],
          "scatterpolar": [
           {
            "marker": {
             "colorbar": {
              "outlinewidth": 0,
              "ticks": ""
             }
            },
            "type": "scatterpolar"
           }
          ],
          "scatterpolargl": [
           {
            "marker": {
             "colorbar": {
              "outlinewidth": 0,
              "ticks": ""
             }
            },
            "type": "scatterpolargl"
           }
          ],
          "scatterternary": [
           {
            "marker": {
             "colorbar": {
              "outlinewidth": 0,
              "ticks": ""
             }
            },
            "type": "scatterternary"
           }
          ],
          "surface": [
           {
            "colorbar": {
             "outlinewidth": 0,
             "ticks": ""
            },
            "colorscale": [
             [
              0,
              "#0d0887"
             ],
             [
              0.1111111111111111,
              "#46039f"
             ],
             [
              0.2222222222222222,
              "#7201a8"
             ],
             [
              0.3333333333333333,
              "#9c179e"
             ],
             [
              0.4444444444444444,
              "#bd3786"
             ],
             [
              0.5555555555555556,
              "#d8576b"
             ],
             [
              0.6666666666666666,
              "#ed7953"
             ],
             [
              0.7777777777777778,
              "#fb9f3a"
             ],
             [
              0.8888888888888888,
              "#fdca26"
             ],
             [
              1,
              "#f0f921"
             ]
            ],
            "type": "surface"
           }
          ],
          "table": [
           {
            "cells": {
             "fill": {
              "color": "#EBF0F8"
             },
             "line": {
              "color": "white"
             }
            },
            "header": {
             "fill": {
              "color": "#C8D4E3"
             },
             "line": {
              "color": "white"
             }
            },
            "type": "table"
           }
          ]
         },
         "layout": {
          "annotationdefaults": {
           "arrowcolor": "#2a3f5f",
           "arrowhead": 0,
           "arrowwidth": 1
          },
          "autotypenumbers": "strict",
          "coloraxis": {
           "colorbar": {
            "outlinewidth": 0,
            "ticks": ""
           }
          },
          "colorscale": {
           "diverging": [
            [
             0,
             "#8e0152"
            ],
            [
             0.1,
             "#c51b7d"
            ],
            [
             0.2,
             "#de77ae"
            ],
            [
             0.3,
             "#f1b6da"
            ],
            [
             0.4,
             "#fde0ef"
            ],
            [
             0.5,
             "#f7f7f7"
            ],
            [
             0.6,
             "#e6f5d0"
            ],
            [
             0.7,
             "#b8e186"
            ],
            [
             0.8,
             "#7fbc41"
            ],
            [
             0.9,
             "#4d9221"
            ],
            [
             1,
             "#276419"
            ]
           ],
           "sequential": [
            [
             0,
             "#0d0887"
            ],
            [
             0.1111111111111111,
             "#46039f"
            ],
            [
             0.2222222222222222,
             "#7201a8"
            ],
            [
             0.3333333333333333,
             "#9c179e"
            ],
            [
             0.4444444444444444,
             "#bd3786"
            ],
            [
             0.5555555555555556,
             "#d8576b"
            ],
            [
             0.6666666666666666,
             "#ed7953"
            ],
            [
             0.7777777777777778,
             "#fb9f3a"
            ],
            [
             0.8888888888888888,
             "#fdca26"
            ],
            [
             1,
             "#f0f921"
            ]
           ],
           "sequentialminus": [
            [
             0,
             "#0d0887"
            ],
            [
             0.1111111111111111,
             "#46039f"
            ],
            [
             0.2222222222222222,
             "#7201a8"
            ],
            [
             0.3333333333333333,
             "#9c179e"
            ],
            [
             0.4444444444444444,
             "#bd3786"
            ],
            [
             0.5555555555555556,
             "#d8576b"
            ],
            [
             0.6666666666666666,
             "#ed7953"
            ],
            [
             0.7777777777777778,
             "#fb9f3a"
            ],
            [
             0.8888888888888888,
             "#fdca26"
            ],
            [
             1,
             "#f0f921"
            ]
           ]
          },
          "colorway": [
           "#636efa",
           "#EF553B",
           "#00cc96",
           "#ab63fa",
           "#FFA15A",
           "#19d3f3",
           "#FF6692",
           "#B6E880",
           "#FF97FF",
           "#FECB52"
          ],
          "font": {
           "color": "#2a3f5f"
          },
          "geo": {
           "bgcolor": "white",
           "lakecolor": "white",
           "landcolor": "#E5ECF6",
           "showlakes": true,
           "showland": true,
           "subunitcolor": "white"
          },
          "hoverlabel": {
           "align": "left"
          },
          "hovermode": "closest",
          "mapbox": {
           "style": "light"
          },
          "paper_bgcolor": "white",
          "plot_bgcolor": "#E5ECF6",
          "polar": {
           "angularaxis": {
            "gridcolor": "white",
            "linecolor": "white",
            "ticks": ""
           },
           "bgcolor": "#E5ECF6",
           "radialaxis": {
            "gridcolor": "white",
            "linecolor": "white",
            "ticks": ""
           }
          },
          "scene": {
           "xaxis": {
            "backgroundcolor": "#E5ECF6",
            "gridcolor": "white",
            "gridwidth": 2,
            "linecolor": "white",
            "showbackground": true,
            "ticks": "",
            "zerolinecolor": "white"
           },
           "yaxis": {
            "backgroundcolor": "#E5ECF6",
            "gridcolor": "white",
            "gridwidth": 2,
            "linecolor": "white",
            "showbackground": true,
            "ticks": "",
            "zerolinecolor": "white"
           },
           "zaxis": {
            "backgroundcolor": "#E5ECF6",
            "gridcolor": "white",
            "gridwidth": 2,
            "linecolor": "white",
            "showbackground": true,
            "ticks": "",
            "zerolinecolor": "white"
           }
          },
          "shapedefaults": {
           "line": {
            "color": "#2a3f5f"
           }
          },
          "ternary": {
           "aaxis": {
            "gridcolor": "white",
            "linecolor": "white",
            "ticks": ""
           },
           "baxis": {
            "gridcolor": "white",
            "linecolor": "white",
            "ticks": ""
           },
           "bgcolor": "#E5ECF6",
           "caxis": {
            "gridcolor": "white",
            "linecolor": "white",
            "ticks": ""
           }
          },
          "title": {
           "x": 0.05
          },
          "xaxis": {
           "automargin": true,
           "gridcolor": "white",
           "linecolor": "white",
           "ticks": "",
           "title": {
            "standoff": 15
           },
           "zerolinecolor": "white",
           "zerolinewidth": 2
          },
          "yaxis": {
           "automargin": true,
           "gridcolor": "white",
           "linecolor": "white",
           "ticks": "",
           "title": {
            "standoff": 15
           },
           "zerolinecolor": "white",
           "zerolinewidth": 2
          }
         }
        },
        "title": {
         "text": " 3D Rainbow Score Galaxy"
        }
       }
      }
     },
     "metadata": {},
     "output_type": "display_data"
    }
   ],
   "source": [
    "# 3D Rainbow Score Galaxy\n",
    "fig = px.scatter_3d(df, x='math_score', y='reading_score', z='writing_score',\n",
    "                   color='total_score', size='total_score',\n",
    "                   color_continuous_scale='rainbow',\n",
    "                   hover_data=['gender', 'race_ethnicity'],\n",
    "                   title=' 3D Rainbow Score Galaxy')\n",
    "fig.show()"
   ]
  },
  {
   "cell_type": "code",
   "execution_count": 33,
   "id": "75a59343",
   "metadata": {},
   "outputs": [
    {
     "data": {
      "image/png": "[encoded data removed]",
      "text/plain": [
       "<Figure size 1200x800 with 2 Axes>"
      ]
     },
     "metadata": {},
     "output_type": "display_data"
    }
   ],
   "source": [
    "# Custom Styled Heatmap - Performance matrix\n",
    "heatmap_data = df.pivot_table(values='total_score', \n",
    "                             index='race_ethnicity', \n",
    "                             columns='parental_level_of_education', \n",
    "                             aggfunc='mean')\n",
    "\n",
    "plt.figure(figsize=(12, 8))\n",
    "sns.heatmap(heatmap_data, annot=True, cmap='magma', fmt='.1f',\n",
    "           cbar_kws={'label': 'Average Score'})\n",
    "plt.title('🔥 Custom Styled Heatmap - Performance Matrix')\n",
    "plt.tight_layout()\n",
    "plt.show()\n"
   ]
  },
  {
   "cell_type": "code",
   "execution_count": 35,
   "id": "82e65f3d",
   "metadata": {},
   "outputs": [
    {
     "data": {
      "image/png": "[encoded data removed]",
      "text/plain": [
       "<Figure size 1500x1200 with 4 Axes>"
      ]
     },
     "metadata": {},
     "output_type": "display_data"
    }
   ],
   "source": [
    "#4-in-1 subplot combo\n",
    "fig, ((ax1, ax2), (ax3, ax4)) = plt.subplots(2, 2, figsize=(15, 12))\n",
    "\n",
    "# Box plot\n",
    "sns.boxplot(data=df, x='gender', y='total_score', ax=ax1)\n",
    "ax1.set_title('📦 Box Plot - Scores by Gender')\n",
    "\n",
    "# Scatter plot\n",
    "sns.scatterplot(data=df, x='math_score', y='reading_score', \n",
    "               hue='race_ethnicity', ax=ax2)\n",
    "ax2.set_title('💫 Scatter - Math vs Reading')\n",
    "\n",
    "# Histogram\n",
    "ax3.hist(df['total_score'], bins=30, color='skyblue', alpha=0.7)\n",
    "ax3.set_title('📊 Histogram - Total Score Distribution')\n",
    "\n",
    "# Pie chart\n",
    "lunch_counts = df['lunch'].value_counts()\n",
    "ax4.pie(lunch_counts.values, labels=lunch_counts.index, autopct='%1.1f%%')\n",
    "ax4.set_title('🥪 Pie Chart - Lunch Distribution')\n",
    "\n",
    "plt.suptitle(' 4-in-1 Combo', fontsize=16)\n",
    "plt.tight_layout()\n",
    "plt.show()"
   ]
  },
  {
   "cell_type": "code",
   "execution_count": null,
   "id": "d49785fc",
   "metadata": {},
   "outputs": [],
   "source": []
  }
 ],
 "metadata": {
  "kernelspec": {
   "display_name": ".venv",
   "language": "python",
   "name": "python3"
  },
  "language_info": {
   "codemirror_mode": {
    "name": "ipython",
    "version": 3
   },
   "file_extension": ".py",
   "mimetype": "text/x-python",
   "name": "python",
   "nbconvert_exporter": "python",
   "pygments_lexer": "ipython3",
   "version": "3.12.5"
  }
 },
 "nbformat": 4,
 "nbformat_minor": 5
}
